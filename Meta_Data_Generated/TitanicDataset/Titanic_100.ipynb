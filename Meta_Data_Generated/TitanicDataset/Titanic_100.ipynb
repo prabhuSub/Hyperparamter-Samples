{
 "cells": [
  {
   "cell_type": "code",
   "execution_count": 76,
   "metadata": {},
   "outputs": [],
   "source": [
    "import h2o\n",
    "from h2o.automl import H2OAutoML\n",
    "import random, os, sys\n",
    "from datetime import datetime\n",
    "import pandas as pd\n",
    "import logging\n",
    "import csv\n",
    "import optparse\n",
    "import time\n",
    "import json\n",
    "from distutils.util import strtobool\n",
    "import psutil"
   ]
  },
  {
   "cell_type": "code",
   "execution_count": 77,
   "metadata": {},
   "outputs": [],
   "source": [
    "data_path=None\n",
    "all_variables=None\n",
    "test_path=None\n",
    "# target='search_term'\n",
    "target=None\n",
    "nthreads=1 \n",
    "min_mem_size=6 \n",
    "run_time=100\n",
    "classification=False\n",
    "scale=False\n",
    "max_models=9    \n",
    "model_path=None\n",
    "balance_y=False \n",
    "balance_threshold=0.2\n",
    "name=None \n",
    "server_path=None  \n",
    "analysis=0 "
   ]
  },
  {
   "cell_type": "code",
   "execution_count": 78,
   "metadata": {},
   "outputs": [
    {
     "name": "stdout",
     "output_type": "stream",
     "text": [
      "4\n"
     ]
    }
   ],
   "source": [
    "pct_memory=0.5\n",
    "virtual_memory=psutil.virtual_memory()\n",
    "min_mem_size=int(round(int(pct_memory*virtual_memory.available)/1073741824,0))\n",
    "print(min_mem_size)"
   ]
  },
  {
   "cell_type": "code",
   "execution_count": 79,
   "metadata": {},
   "outputs": [],
   "source": [
    "# Functions\n",
    "\n",
    "def alphabet(n):\n",
    "  alpha='0123456789abcdefghijklmnopqrstuvwxyzABCDEFGHIJKLMNOPQRSTUVWXYZ'    \n",
    "  str=''\n",
    "  r=len(alpha)-1   \n",
    "  while len(str)<n:\n",
    "    i=random.randint(0,r)\n",
    "    str+=alpha[i]   \n",
    "  return str\n",
    "  \n",
    "  \n",
    "def set_meta_data(analysis,run_id,server,data,test,model_path,target,run_time,classification,scale,model,balance,balance_threshold,name,path,nthreads,min_mem_size):\n",
    "  m_data={}\n",
    "  m_data['start_time'] = time.time()\n",
    "  m_data['target']=target\n",
    "  m_data['server_path']=server\n",
    "  m_data['data_path']=data \n",
    "  m_data['test_path']=test\n",
    "  m_data['max_models']=model\n",
    "  m_data['run_time']=run_time\n",
    "  m_data['run_id'] =run_id\n",
    "  m_data['scale']=scale\n",
    "  m_data['classification']=classification\n",
    "  m_data['scale']=False\n",
    "  m_data['model_path']=model_path\n",
    "  m_data['balance']=balance\n",
    "  m_data['balance_threshold']=balance_threshold\n",
    "  m_data['project'] =name\n",
    "  m_data['end_time'] = time.time()\n",
    "  m_data['execution_time'] = 0.0\n",
    "  m_data['run_path'] =path\n",
    "  m_data['nthreads'] = nthreads\n",
    "  m_data['min_mem_size'] = min_mem_size\n",
    "  m_data['analysis'] = analysis\n",
    "  return m_data\n",
    "\n",
    "\n",
    "def dict_to_json(dct,n):\n",
    "  j = json.dumps(dct, indent=4)\n",
    "  f = open(n, 'w')\n",
    "  print(j, file=f)\n",
    "  f.close()\n",
    "  \n",
    "  \n",
    "def stackedensemble(mod):\n",
    "    coef_norm=None\n",
    "    try:\n",
    "      metalearner = h2o.get_model(mod.metalearner()['name'])\n",
    "      coef_norm=metalearner.coef_norm()\n",
    "    except:\n",
    "      pass        \n",
    "    return coef_norm\n",
    "\n",
    "def stackedensemble_df(df):\n",
    "    bm_algo={ 'GBM': None,'GLM': None,'DRF': None,'XRT': None,'Dee': None}\n",
    "    for index, row in df.iterrows():\n",
    "      if len(row['model_id'])>3:\n",
    "        key=row['model_id'][0:3]\n",
    "        if key in bm_algo:\n",
    "          if bm_algo[key] is None:\n",
    "                bm_algo[key]=row['model_id']\n",
    "    bm=list(bm_algo.values()) \n",
    "    bm=list(filter(None.__ne__, bm))             \n",
    "    return bm\n",
    "\n",
    "def se_stats(modl):\n",
    "    d={}\n",
    "    d['algo']=modl.algo\n",
    "    d['model_id']=modl.model_id   \n",
    "    d['auc']=modl.auc()   \n",
    "    d['roc']=modl.roc()\n",
    "    d['mse']=modl.mse()   \n",
    "    d['null_degrees_of_freedom']=modl.null_degrees_of_freedom()\n",
    "    d['null_deviance']=modl.null_deviance()\n",
    "    d['residual_degrees_of_freedom']=modl.residual_degrees_of_freedom()   \n",
    "    d['residual_deviance']=modl.residual_deviance()\n",
    "    d['rmse']=modl.rmse()\n",
    "    return d\n",
    "\n",
    "def get_model_by_algo(algo,models_dict):\n",
    "    mod=None\n",
    "    mod_id=None    \n",
    "    for m in list(models_dict.keys()):\n",
    "        if m[0:3]==algo:\n",
    "            mod_id=m\n",
    "            mod=h2o.get_model(m)      \n",
    "    return mod,mod_id     \n",
    "    \n",
    "    \n",
    "def gbm_stats(modl):\n",
    "    d={}\n",
    "    d['algo']=modl.algo\n",
    "    d['model_id']=modl.model_id   \n",
    "    d['varimp']=modl.varimp()  \n",
    "    return d\n",
    "    \n",
    "    \n",
    "def dl_stats(modl):\n",
    "    d={}\n",
    "    d['algo']=modl.algo\n",
    "    d['model_id']=modl.model_id   \n",
    "    d['varimp']=modl.varimp()  \n",
    "    return d\n",
    "    \n",
    "    \n",
    "def drf_stats(modl):\n",
    "    d={}\n",
    "    d['algo']=modl.algo\n",
    "    d['model_id']=modl.model_id   \n",
    "    d['varimp']=modl.varimp()  \n",
    "    d['roc']=modl.roc()      \n",
    "    return d\n",
    "    \n",
    "def xrt_stats(modl):\n",
    "    d={}\n",
    "    d['algo']=modl.algo\n",
    "    d['model_id']=modl.model_id   \n",
    "    d['varimp']=modl.varimp()  \n",
    "    d['roc']=modl.roc()      \n",
    "    return d\n",
    "    \n",
    "    \n",
    "def glm_stats(modl):\n",
    "    d={}\n",
    "    d['algo']=modl.algo\n",
    "    d['model_id']=modl.model_id   \n",
    "    d['coef']=modl.coef()  \n",
    "    d['coef_norm']=modl.coef_norm()      \n",
    "    return d\n",
    "    \n",
    "def model_performance_stats(perf):\n",
    "    d={}\n",
    "    try:    \n",
    "      d['mse']=perf.mse()\n",
    "    except:\n",
    "      pass      \n",
    "    try:    \n",
    "      d['rmse']=perf.rmse() \n",
    "    except:\n",
    "      pass      \n",
    "    try:    \n",
    "      d['null_degrees_of_freedom']=perf.null_degrees_of_freedom()\n",
    "    except:\n",
    "      pass      \n",
    "    try:    \n",
    "      d['residual_degrees_of_freedom']=perf.residual_degrees_of_freedom()\n",
    "    except:\n",
    "      pass      \n",
    "    try:    \n",
    "      d['residual_deviance']=perf.residual_deviance() \n",
    "    except:\n",
    "      pass      \n",
    "    try:    \n",
    "      d['null_deviance']=perf.null_deviance() \n",
    "    except:\n",
    "      pass      \n",
    "    try:    \n",
    "      d['aic']=perf.aic() \n",
    "    except:\n",
    "      pass      \n",
    "    try:\n",
    "      d['logloss']=perf.logloss() \n",
    "    except:\n",
    "      pass    \n",
    "    try:\n",
    "      d['auc']=perf.auc()\n",
    "    except:\n",
    "      pass  \n",
    "    try:\n",
    "      d['gini']=perf.gini()\n",
    "    except:\n",
    "      pass    \n",
    "    return d\n",
    "    \n",
    "def impute_missing_values(df, x, scal=False):\n",
    "    # determine column types\n",
    "    ints, reals, enums = [], [], []\n",
    "    for key, val in df.types.items():\n",
    "        if key in x:\n",
    "            if val == 'enum':\n",
    "                enums.append(key)\n",
    "            elif val == 'int':\n",
    "                ints.append(key)            \n",
    "            else: \n",
    "                reals.append(key)    \n",
    "    _ = df[reals].impute(method='mean')\n",
    "    _ = df[ints].impute(method='median')\n",
    "    if scal:\n",
    "        df[reals] = df[reals].scale()\n",
    "        df[ints] = df[ints].scale()    \n",
    "    return\n",
    "\n",
    "\n",
    "def get_independent_variables(df, targ):\n",
    "    C = [name for name in df.columns if name != targ]\n",
    "    # determine column types\n",
    "    ints, reals, enums = [], [], []\n",
    "    for key, val in df.types.items():\n",
    "        if key in C:\n",
    "            if val == 'enum':\n",
    "                enums.append(key)\n",
    "            elif val == 'int':\n",
    "                ints.append(key)            \n",
    "            else: \n",
    "                reals.append(key)    \n",
    "    x=ints+enums+reals\n",
    "    return x\n",
    "    \n",
    "def get_all_variables_csv(i):\n",
    "    ivd={}\n",
    "    try:\n",
    "      iv = pd.read_csv(i,header=None)\n",
    "    except:\n",
    "      sys.exit(1)    \n",
    "    col=iv.values.tolist()[0]\n",
    "    dt=iv.values.tolist()[1]\n",
    "    i=0\n",
    "    for c in col:\n",
    "      ivd[c.strip()]=dt[i].strip()\n",
    "      i+=1        \n",
    "    return ivd\n",
    "    \n",
    "    \n",
    "\n",
    "def check_all_variables(df,dct,y=None):     \n",
    "    targ=list(dct.keys())     \n",
    "    for key, val in df.types.items():\n",
    "        if key in targ:\n",
    "          if dct[key] not in ['real','int','enum']:                      \n",
    "            targ.remove(key)  \n",
    "    for key, val in df.types.items():\n",
    "        if key in targ:            \n",
    "          if dct[key] != val:\n",
    "            print('convert ',key,' ',dct[key],' ',val)\n",
    "            if dct[key]=='enum':\n",
    "                try:\n",
    "                  df[key] = df[key].asfactor() \n",
    "                except:\n",
    "                  targ.remove(key)                 \n",
    "            if dct[key]=='int': \n",
    "                try:                \n",
    "                  df[key] = df[key].asnumeric() \n",
    "                except:\n",
    "                  targ.remove(key)                  \n",
    "            if dct[key]=='real':\n",
    "                try:                \n",
    "                  df[key] = df[key].asnumeric()  \n",
    "                except:\n",
    "                  targ.remove(key)                  \n",
    "    if y is None:\n",
    "      y=df.columns[-1] \n",
    "    if y in targ:\n",
    "      targ.remove(y)\n",
    "    else:\n",
    "      y=targ.pop()            \n",
    "    return targ    \n",
    "    \n",
    "def predictions(mod,data,run_id):\n",
    "    test = h2o.import_file(data)\n",
    "    mod_perf=mod_best.model_performance(test)\n",
    "              \n",
    "    stats_test={}\n",
    "    stats_test=model_performance_stats(mod_perf)\n",
    "\n",
    "    n=run_id+'_test_stats.json'\n",
    "    dict_to_json(stats_test,n) \n",
    "\n",
    "    try:    \n",
    "      cf=mod_perf.confusion_matrix(metrics=[\"f1\",\"f2\",\"f0point5\",\"accuracy\",\"precision\",\"recall\",\"specificity\",\"absolute_mcc\",\"min_per_class_accuracy\",\"mean_per_class_accuracy\"])\n",
    "      cf_df=cf[0].table.as_data_frame()\n",
    "      cf_df.to_csv(run_id+'_test_confusion_matrix.csv')\n",
    "    except:\n",
    "      pass\n",
    "\n",
    "    predictions = mod_best.predict(test)\n",
    "    predictions_df=test.cbind(predictions).as_data_frame() \n",
    "    predictions_df.to_csv(run_id+'_predictions.csv')\n",
    "    return\n",
    "\n",
    "def predictions_test(mod,test,run_id):\n",
    "    mod_perf=mod_best.model_performance(test)          \n",
    "    stats_test={}\n",
    "    stats_test=model_performance_stats(mod_perf)\n",
    "    n=run_id+'_test_stats.json'\n",
    "    dict_to_json(stats_test,n) \n",
    "    try:\n",
    "      cf=mod_perf.confusion_matrix()\n",
    "#      cf=mod_perf.confusion_matrix(metrics=[\"f1\",\"f2\",\"f0point5\",\"accuracy\",\"precision\",\"recall\",\"specificity\",\"absolute_mcc\",\"min_per_class_accuracy\",\"mean_per_class_accuracy\"])\n",
    "      cf_df=cf.table.as_data_frame()\n",
    "      cf_df.to_csv(run_id+'_test_confusion_matrix.csv')\n",
    "    except:\n",
    "      pass\n",
    "    predictions = mod_best.predict(test)    \n",
    "    predictions_df=test.cbind(predictions).as_data_frame() \n",
    "    predictions_df.to_csv(run_id+'_predictions.csv')\n",
    "    return predictions\n",
    "\n",
    "def check_X(x,df):\n",
    "    for name in x:\n",
    "        if name not in df.columns:\n",
    "          x.remove(name)  \n",
    "    return x    \n",
    "    \n",
    "    \n",
    "def get_stacked_ensemble(lst):\n",
    "    se=None\n",
    "    for model in model_set:\n",
    "      if 'BestOfFamily' in model:\n",
    "        se=model\n",
    "    if se is None:     \n",
    "      for model in model_set:\n",
    "        if 'AllModels'in model:\n",
    "          se=model           \n",
    "    return se       \n",
    "    \n",
    "def get_variables_types(df):\n",
    "    d={}\n",
    "    for key, val in df.types.items():\n",
    "        d[key]=val           \n",
    "    return d    \n",
    "    \n",
    "#  End Functions"
   ]
  },
  {
   "cell_type": "code",
   "execution_count": 80,
   "metadata": {},
   "outputs": [],
   "source": [
    "all_variables=None"
   ]
  },
  {
   "cell_type": "code",
   "execution_count": 82,
   "metadata": {},
   "outputs": [],
   "source": [
    "data_path='C:/Users/prabh/Desktop/ML/Project ML/Dataset/Titanic_train.csv'"
   ]
  },
  {
   "cell_type": "code",
   "execution_count": 83,
   "metadata": {},
   "outputs": [
    {
     "name": "stdout",
     "output_type": "stream",
     "text": [
      "WXf3Ticdf\n"
     ]
    }
   ],
   "source": [
    "run_id=alphabet(9)\n",
    "if server_path==None:\n",
    "  server_path=os.path.abspath(os.curdir)\n",
    "os.chdir(server_path) \n",
    "run_dir = os.path.join(server_path,run_id)\n",
    "os.mkdir(run_dir)\n",
    "os.chdir(run_dir)    \n",
    "\n",
    "# run_id to std out\n",
    "print (run_id) "
   ]
  },
  {
   "cell_type": "code",
   "execution_count": 84,
   "metadata": {},
   "outputs": [
    {
     "name": "stdout",
     "output_type": "stream",
     "text": [
      "C:\\Users\\prabh\\WXf3Ticdf\\logs   WXf3Ticdf_autoh2o_log.zip\n"
     ]
    }
   ],
   "source": [
    "logfile=run_id+'_autoh2o_log.zip'\n",
    "logs_path=os.path.join(run_dir,'logs')\n",
    "print(logs_path,' ',logfile)"
   ]
  },
  {
   "cell_type": "code",
   "execution_count": 85,
   "metadata": {},
   "outputs": [
    {
     "name": "stdout",
     "output_type": "stream",
     "text": [
      "Checking whether there is an H2O instance running at http://localhost:12968..... not found.\n",
      "Attempting to start a local H2O server...\n",
      "; Java HotSpot(TM) 64-Bit Server VM (build 25.191-b12, mixed mode)\n",
      "  Starting server from C:\\Users\\prabh\\Anaconda3\\lib\\site-packages\\h2o\\backend\\bin\\h2o.jar\n",
      "  Ice root: C:\\Users\\prabh\\AppData\\Local\\Temp\\tmpjs_df56f\n",
      "  JVM stdout: C:\\Users\\prabh\\AppData\\Local\\Temp\\tmpjs_df56f\\h2o_prabh_started_from_python.out\n",
      "  JVM stderr: C:\\Users\\prabh\\AppData\\Local\\Temp\\tmpjs_df56f\\h2o_prabh_started_from_python.err\n",
      "  Server is running at http://127.0.0.1:12968\n",
      "Connecting to H2O server at http://127.0.0.1:12968... successful.\n"
     ]
    },
    {
     "data": {
      "text/html": [
       "<div style=\"overflow:auto\"><table style=\"width:50%\"><tr><td>H2O cluster uptime:</td>\n",
       "<td>01 secs</td></tr>\n",
       "<tr><td>H2O cluster timezone:</td>\n",
       "<td>America/New_York</td></tr>\n",
       "<tr><td>H2O data parsing timezone:</td>\n",
       "<td>UTC</td></tr>\n",
       "<tr><td>H2O cluster version:</td>\n",
       "<td>3.22.0.1</td></tr>\n",
       "<tr><td>H2O cluster version age:</td>\n",
       "<td>1 month and 17 days </td></tr>\n",
       "<tr><td>H2O cluster name:</td>\n",
       "<td>H2O_from_python_prabh_1tisdx</td></tr>\n",
       "<tr><td>H2O cluster total nodes:</td>\n",
       "<td>1</td></tr>\n",
       "<tr><td>H2O cluster free memory:</td>\n",
       "<td>3.833 Gb</td></tr>\n",
       "<tr><td>H2O cluster total cores:</td>\n",
       "<td>12</td></tr>\n",
       "<tr><td>H2O cluster allowed cores:</td>\n",
       "<td>12</td></tr>\n",
       "<tr><td>H2O cluster status:</td>\n",
       "<td>accepting new members, healthy</td></tr>\n",
       "<tr><td>H2O connection url:</td>\n",
       "<td>http://127.0.0.1:12968</td></tr>\n",
       "<tr><td>H2O connection proxy:</td>\n",
       "<td>None</td></tr>\n",
       "<tr><td>H2O internal security:</td>\n",
       "<td>False</td></tr>\n",
       "<tr><td>H2O API Extensions:</td>\n",
       "<td>Algos, AutoML, Core V3, Core V4</td></tr>\n",
       "<tr><td>Python version:</td>\n",
       "<td>3.7.0 final</td></tr></table></div>"
      ],
      "text/plain": [
       "--------------------------  -------------------------------\n",
       "H2O cluster uptime:         01 secs\n",
       "H2O cluster timezone:       America/New_York\n",
       "H2O data parsing timezone:  UTC\n",
       "H2O cluster version:        3.22.0.1\n",
       "H2O cluster version age:    1 month and 17 days\n",
       "H2O cluster name:           H2O_from_python_prabh_1tisdx\n",
       "H2O cluster total nodes:    1\n",
       "H2O cluster free memory:    3.833 Gb\n",
       "H2O cluster total cores:    12\n",
       "H2O cluster allowed cores:  12\n",
       "H2O cluster status:         accepting new members, healthy\n",
       "H2O connection url:         http://127.0.0.1:12968\n",
       "H2O connection proxy:\n",
       "H2O internal security:      False\n",
       "H2O API Extensions:         Algos, AutoML, Core V3, Core V4\n",
       "Python version:             3.7.0 final\n",
       "--------------------------  -------------------------------"
      ]
     },
     "metadata": {},
     "output_type": "display_data"
    }
   ],
   "source": [
    "# 65535 Highest port no\n",
    "port_no=random.randint(5555,55555)\n",
    "h2o.init(strict_version_check=False,min_mem_size_GB=min_mem_size,port=port_no)"
   ]
  },
  {
   "cell_type": "code",
   "execution_count": 86,
   "metadata": {},
   "outputs": [
    {
     "name": "stdout",
     "output_type": "stream",
     "text": [
      "{'start_time': 1544825621.785323, 'target': None, 'server_path': 'C:\\\\Users\\\\prabh', 'data_path': 'C:/Users/prabh/Desktop/ML/Project ML/Dataset/Titanic_train.csv', 'test_path': None, 'max_models': 9, 'run_time': 100, 'run_id': 'WXf3Ticdf', 'scale': False, 'classification': False, 'model_path': None, 'balance': False, 'balance_threshold': 0.2, 'project': None, 'end_time': 1544825621.785323, 'execution_time': 0.0, 'run_path': 'C:\\\\Users\\\\prabh\\\\WXf3Ticdf', 'nthreads': 1, 'min_mem_size': 4, 'analysis': 0}\n"
     ]
    }
   ],
   "source": [
    "# meta data\n",
    "meta_data = set_meta_data(analysis, run_id,server_path,data_path,test_path,model_path,target,run_time,classification,scale,max_models,balance_y,balance_threshold,name,run_dir,nthreads,min_mem_size)\n",
    "print(meta_data)  "
   ]
  },
  {
   "cell_type": "code",
   "execution_count": 87,
   "metadata": {},
   "outputs": [
    {
     "name": "stdout",
     "output_type": "stream",
     "text": [
      "C:/Users/prabh/Desktop/ML/Project ML/Dataset/Titanic_train.csv\n"
     ]
    }
   ],
   "source": [
    "print(data_path)"
   ]
  },
  {
   "cell_type": "code",
   "execution_count": 88,
   "metadata": {},
   "outputs": [
    {
     "name": "stdout",
     "output_type": "stream",
     "text": [
      "Parse progress: |█████████████████████████████████████████████████████████| 100%\n"
     ]
    }
   ],
   "source": [
    "df = h2o.import_file(data_path)"
   ]
  },
  {
   "cell_type": "code",
   "execution_count": 89,
   "metadata": {},
   "outputs": [
    {
     "data": {
      "text/html": [
       "<table>\n",
       "<thead>\n",
       "<tr><th style=\"text-align: right;\">  PassengerId</th><th style=\"text-align: right;\">  Survived</th><th style=\"text-align: right;\">  Pclass</th><th>Name                                               </th><th>Sex   </th><th style=\"text-align: right;\">  Age</th><th style=\"text-align: right;\">  SibSp</th><th style=\"text-align: right;\">  Parch</th><th style=\"text-align: right;\">  Ticket</th><th style=\"text-align: right;\">   Fare</th><th>Cabin  </th><th>Embarked  </th></tr>\n",
       "</thead>\n",
       "<tbody>\n",
       "<tr><td style=\"text-align: right;\">            1</td><td style=\"text-align: right;\">         0</td><td style=\"text-align: right;\">       3</td><td>Braund, Mr. Owen Harris                            </td><td>male  </td><td style=\"text-align: right;\">   22</td><td style=\"text-align: right;\">      1</td><td style=\"text-align: right;\">      0</td><td style=\"text-align: right;\">     nan</td><td style=\"text-align: right;\"> 7.25  </td><td>       </td><td>S         </td></tr>\n",
       "<tr><td style=\"text-align: right;\">            2</td><td style=\"text-align: right;\">         1</td><td style=\"text-align: right;\">       1</td><td>Cumings, Mrs. John Bradley (Florence Briggs Thayer)</td><td>female</td><td style=\"text-align: right;\">   38</td><td style=\"text-align: right;\">      1</td><td style=\"text-align: right;\">      0</td><td style=\"text-align: right;\">     nan</td><td style=\"text-align: right;\">71.2833</td><td>C85    </td><td>C         </td></tr>\n",
       "<tr><td style=\"text-align: right;\">            3</td><td style=\"text-align: right;\">         1</td><td style=\"text-align: right;\">       3</td><td>Heikkinen, Miss. Laina                             </td><td>female</td><td style=\"text-align: right;\">   26</td><td style=\"text-align: right;\">      0</td><td style=\"text-align: right;\">      0</td><td style=\"text-align: right;\">     nan</td><td style=\"text-align: right;\"> 7.925 </td><td>       </td><td>S         </td></tr>\n",
       "<tr><td style=\"text-align: right;\">            4</td><td style=\"text-align: right;\">         1</td><td style=\"text-align: right;\">       1</td><td>Futrelle, Mrs. Jacques Heath (Lily May Peel)       </td><td>female</td><td style=\"text-align: right;\">   35</td><td style=\"text-align: right;\">      1</td><td style=\"text-align: right;\">      0</td><td style=\"text-align: right;\">  113803</td><td style=\"text-align: right;\">53.1   </td><td>C123   </td><td>S         </td></tr>\n",
       "<tr><td style=\"text-align: right;\">            5</td><td style=\"text-align: right;\">         0</td><td style=\"text-align: right;\">       3</td><td>Allen, Mr. William Henry                           </td><td>male  </td><td style=\"text-align: right;\">   35</td><td style=\"text-align: right;\">      0</td><td style=\"text-align: right;\">      0</td><td style=\"text-align: right;\">  373450</td><td style=\"text-align: right;\"> 8.05  </td><td>       </td><td>S         </td></tr>\n",
       "<tr><td style=\"text-align: right;\">            6</td><td style=\"text-align: right;\">         0</td><td style=\"text-align: right;\">       3</td><td>Moran, Mr. James                                   </td><td>male  </td><td style=\"text-align: right;\">  nan</td><td style=\"text-align: right;\">      0</td><td style=\"text-align: right;\">      0</td><td style=\"text-align: right;\">  330877</td><td style=\"text-align: right;\"> 8.4583</td><td>       </td><td>Q         </td></tr>\n",
       "<tr><td style=\"text-align: right;\">            7</td><td style=\"text-align: right;\">         0</td><td style=\"text-align: right;\">       1</td><td>McCarthy, Mr. Timothy J                            </td><td>male  </td><td style=\"text-align: right;\">   54</td><td style=\"text-align: right;\">      0</td><td style=\"text-align: right;\">      0</td><td style=\"text-align: right;\">   17463</td><td style=\"text-align: right;\">51.8625</td><td>E46    </td><td>S         </td></tr>\n",
       "<tr><td style=\"text-align: right;\">            8</td><td style=\"text-align: right;\">         0</td><td style=\"text-align: right;\">       3</td><td>Palsson, Master. Gosta Leonard                     </td><td>male  </td><td style=\"text-align: right;\">    2</td><td style=\"text-align: right;\">      3</td><td style=\"text-align: right;\">      1</td><td style=\"text-align: right;\">  349909</td><td style=\"text-align: right;\">21.075 </td><td>       </td><td>S         </td></tr>\n",
       "<tr><td style=\"text-align: right;\">            9</td><td style=\"text-align: right;\">         1</td><td style=\"text-align: right;\">       3</td><td>Johnson, Mrs. Oscar W (Elisabeth Vilhelmina Berg)  </td><td>female</td><td style=\"text-align: right;\">   27</td><td style=\"text-align: right;\">      0</td><td style=\"text-align: right;\">      2</td><td style=\"text-align: right;\">  347742</td><td style=\"text-align: right;\">11.1333</td><td>       </td><td>S         </td></tr>\n",
       "<tr><td style=\"text-align: right;\">           10</td><td style=\"text-align: right;\">         1</td><td style=\"text-align: right;\">       2</td><td>Nasser, Mrs. Nicholas (Adele Achem)                </td><td>female</td><td style=\"text-align: right;\">   14</td><td style=\"text-align: right;\">      1</td><td style=\"text-align: right;\">      0</td><td style=\"text-align: right;\">  237736</td><td style=\"text-align: right;\">30.0708</td><td>       </td><td>C         </td></tr>\n",
       "</tbody>\n",
       "</table>"
      ]
     },
     "metadata": {},
     "output_type": "display_data"
    },
    {
     "data": {
      "text/plain": []
     },
     "execution_count": 89,
     "metadata": {},
     "output_type": "execute_result"
    }
   ],
   "source": [
    "df.head()"
   ]
  },
  {
   "cell_type": "code",
   "execution_count": 90,
   "metadata": {
    "scrolled": true
   },
   "outputs": [
    {
     "name": "stdout",
     "output_type": "stream",
     "text": [
      "Rows:891\n",
      "Cols:12\n",
      "\n",
      "\n"
     ]
    },
    {
     "data": {
      "text/html": [
       "<table>\n",
       "<thead>\n",
       "<tr><th>       </th><th>PassengerId      </th><th>Survived          </th><th>Pclass            </th><th>Name                                               </th><th>Sex   </th><th>Age               </th><th>SibSp             </th><th>Parch             </th><th>Ticket            </th><th>Fare             </th><th>Cabin  </th><th>Embarked  </th></tr>\n",
       "</thead>\n",
       "<tbody>\n",
       "<tr><td>type   </td><td>int              </td><td>int               </td><td>int               </td><td>string                                             </td><td>enum  </td><td>real              </td><td>int               </td><td>int               </td><td>int               </td><td>real             </td><td>enum   </td><td>enum      </td></tr>\n",
       "<tr><td>mins   </td><td>1.0              </td><td>0.0               </td><td>1.0               </td><td>NaN                                                </td><td>      </td><td>0.42              </td><td>0.0               </td><td>0.0               </td><td>693.0             </td><td>0.0              </td><td>       </td><td>          </td></tr>\n",
       "<tr><td>mean   </td><td>446.0            </td><td>0.3838383838383838</td><td>2.3086419753086447</td><td>NaN                                                </td><td>      </td><td>29.69911764705884 </td><td>0.5230078563411893</td><td>0.3815937149270483</td><td>260318.5491679275 </td><td>32.20420796857465</td><td>       </td><td>          </td></tr>\n",
       "<tr><td>maxs   </td><td>891.0            </td><td>1.0               </td><td>3.0               </td><td>NaN                                                </td><td>      </td><td>80.0              </td><td>8.0               </td><td>6.0               </td><td>3101298.0         </td><td>512.3292         </td><td>       </td><td>          </td></tr>\n",
       "<tr><td>sigma  </td><td>257.3538420152301</td><td>0.4865924542648575</td><td>0.8360712409770491</td><td>NaN                                                </td><td>      </td><td>14.526497332334035</td><td>1.1027434322934315</td><td>0.8060572211299488</td><td>471609.26868834975</td><td>49.69342859718089</td><td>       </td><td>          </td></tr>\n",
       "<tr><td>zeros  </td><td>0                </td><td>549               </td><td>0                 </td><td>0                                                  </td><td>      </td><td>0                 </td><td>608               </td><td>678               </td><td>0                 </td><td>15               </td><td>       </td><td>          </td></tr>\n",
       "<tr><td>missing</td><td>0                </td><td>0                 </td><td>0                 </td><td>0                                                  </td><td>0     </td><td>177               </td><td>0                 </td><td>0                 </td><td>230               </td><td>0                </td><td>687    </td><td>2         </td></tr>\n",
       "<tr><td>0      </td><td>1.0              </td><td>0.0               </td><td>3.0               </td><td>Braund, Mr. Owen Harris                            </td><td>male  </td><td>22.0              </td><td>1.0               </td><td>0.0               </td><td>nan               </td><td>7.25             </td><td>       </td><td>S         </td></tr>\n",
       "<tr><td>1      </td><td>2.0              </td><td>1.0               </td><td>1.0               </td><td>Cumings, Mrs. John Bradley (Florence Briggs Thayer)</td><td>female</td><td>38.0              </td><td>1.0               </td><td>0.0               </td><td>nan               </td><td>71.2833          </td><td>C85    </td><td>C         </td></tr>\n",
       "<tr><td>2      </td><td>3.0              </td><td>1.0               </td><td>3.0               </td><td>Heikkinen, Miss. Laina                             </td><td>female</td><td>26.0              </td><td>0.0               </td><td>0.0               </td><td>nan               </td><td>7.925            </td><td>       </td><td>S         </td></tr>\n",
       "<tr><td>3      </td><td>4.0              </td><td>1.0               </td><td>1.0               </td><td>Futrelle, Mrs. Jacques Heath (Lily May Peel)       </td><td>female</td><td>35.0              </td><td>1.0               </td><td>0.0               </td><td>113803.0          </td><td>53.1             </td><td>C123   </td><td>S         </td></tr>\n",
       "<tr><td>4      </td><td>5.0              </td><td>0.0               </td><td>3.0               </td><td>Allen, Mr. William Henry                           </td><td>male  </td><td>35.0              </td><td>0.0               </td><td>0.0               </td><td>373450.0          </td><td>8.05             </td><td>       </td><td>S         </td></tr>\n",
       "<tr><td>5      </td><td>6.0              </td><td>0.0               </td><td>3.0               </td><td>Moran, Mr. James                                   </td><td>male  </td><td>nan               </td><td>0.0               </td><td>0.0               </td><td>330877.0          </td><td>8.4583           </td><td>       </td><td>Q         </td></tr>\n",
       "<tr><td>6      </td><td>7.0              </td><td>0.0               </td><td>1.0               </td><td>McCarthy, Mr. Timothy J                            </td><td>male  </td><td>54.0              </td><td>0.0               </td><td>0.0               </td><td>17463.0           </td><td>51.8625          </td><td>E46    </td><td>S         </td></tr>\n",
       "<tr><td>7      </td><td>8.0              </td><td>0.0               </td><td>3.0               </td><td>Palsson, Master. Gosta Leonard                     </td><td>male  </td><td>2.0               </td><td>3.0               </td><td>1.0               </td><td>349909.0          </td><td>21.075           </td><td>       </td><td>S         </td></tr>\n",
       "<tr><td>8      </td><td>9.0              </td><td>1.0               </td><td>3.0               </td><td>Johnson, Mrs. Oscar W (Elisabeth Vilhelmina Berg)  </td><td>female</td><td>27.0              </td><td>0.0               </td><td>2.0               </td><td>347742.0          </td><td>11.1333          </td><td>       </td><td>S         </td></tr>\n",
       "<tr><td>9      </td><td>10.0             </td><td>1.0               </td><td>2.0               </td><td>Nasser, Mrs. Nicholas (Adele Achem)                </td><td>female</td><td>14.0              </td><td>1.0               </td><td>0.0               </td><td>237736.0          </td><td>30.0708          </td><td>       </td><td>C         </td></tr>\n",
       "</tbody>\n",
       "</table>"
      ]
     },
     "metadata": {},
     "output_type": "display_data"
    }
   ],
   "source": [
    "df.describe()"
   ]
  },
  {
   "cell_type": "code",
   "execution_count": 91,
   "metadata": {},
   "outputs": [
    {
     "data": {
      "text/plain": [
       "\"\\nimport sys\\nsys.stdout = open('describe.txt', 'w')\\nprint ('test')\\n\""
      ]
     },
     "execution_count": 91,
     "metadata": {},
     "output_type": "execute_result"
    }
   ],
   "source": [
    "'''\n",
    "import sys\n",
    "sys.stdout = open('describe.txt', 'w')\n",
    "print ('test')\n",
    "'''"
   ]
  },
  {
   "cell_type": "code",
   "execution_count": 93,
   "metadata": {},
   "outputs": [],
   "source": [
    "# dependent variable\n",
    "# assign target and inputs for classification or regression\n",
    "if target==None:\n",
    "  target=df.columns[1]   \n",
    "y = target"
   ]
  },
  {
   "cell_type": "code",
   "execution_count": 94,
   "metadata": {},
   "outputs": [
    {
     "name": "stdout",
     "output_type": "stream",
     "text": [
      "Age\n"
     ]
    }
   ],
   "source": [
    "print(y)"
   ]
  },
  {
   "cell_type": "code",
   "execution_count": 95,
   "metadata": {},
   "outputs": [
    {
     "name": "stdout",
     "output_type": "stream",
     "text": [
      "None\n"
     ]
    }
   ],
   "source": [
    "print(all_variables)"
   ]
  },
  {
   "cell_type": "code",
   "execution_count": 96,
   "metadata": {},
   "outputs": [],
   "source": [
    "if all_variables is not None:\n",
    "  ivd=get_all_variables_csv(all_variables)\n",
    "  print(ivd)    \n",
    "  X=check_all_variables(df,ivd,y)\n",
    "  print(X)"
   ]
  },
  {
   "cell_type": "code",
   "execution_count": 97,
   "metadata": {},
   "outputs": [],
   "source": [
    "# independent variables\n",
    "\n",
    "X = []  \n",
    "if all_variables is None:\n",
    "  X=get_independent_variables(df, target)  \n",
    "else: \n",
    "  ivd=get_all_variables_csv(all_variables)    \n",
    "  X=check_all_variables(df, ivd)\n",
    "\n",
    "\n",
    "X=check_X(X,df)\n",
    "\n",
    "\n",
    "# Add independent variables\n",
    "\n",
    "meta_data['X']=X  \n",
    "\n",
    "\n",
    "# impute missing values\n",
    "\n",
    "_=impute_missing_values(df,X, scale)"
   ]
  },
  {
   "cell_type": "code",
   "execution_count": 98,
   "metadata": {},
   "outputs": [],
   "source": [
    "if analysis == 3:\n",
    "  classification=False\n",
    "elif analysis == 2:\n",
    "  classification=True\n",
    "elif analysis == 1:\n",
    "  classification=True"
   ]
  },
  {
   "cell_type": "code",
   "execution_count": 99,
   "metadata": {},
   "outputs": [],
   "source": [
    "# Force target to be factors\n",
    "# Only 'int' or 'string' are allowed for asfactor(), got Target (Total orders):real \n",
    "\n",
    "if classification:\n",
    "    df[y] = df[y].asfactor()"
   ]
  },
  {
   "cell_type": "code",
   "execution_count": 100,
   "metadata": {},
   "outputs": [],
   "source": [
    "def check_y(y,df):\n",
    "  ok=False\n",
    "  C = [name for name in df.columns if name == y]\n",
    "  for key, val in df.types.items():\n",
    "    if key in C:\n",
    "      if val in ['real','int','enum']:        \n",
    "        ok=True         \n",
    "  return ok   "
   ]
  },
  {
   "cell_type": "code",
   "execution_count": 101,
   "metadata": {},
   "outputs": [],
   "source": [
    "ok=check_y(y,df)\n",
    "if not ok:\n",
    "    print(ok)"
   ]
  },
  {
   "cell_type": "code",
   "execution_count": 102,
   "metadata": {},
   "outputs": [
    {
     "name": "stdout",
     "output_type": "stream",
     "text": [
      "True\n"
     ]
    }
   ],
   "source": [
    "print(ok)"
   ]
  },
  {
   "cell_type": "code",
   "execution_count": 103,
   "metadata": {},
   "outputs": [
    {
     "name": "stdout",
     "output_type": "stream",
     "text": [
      "[]\n"
     ]
    }
   ],
   "source": [
    "classification=True\n",
    "if classification:\n",
    "    print(df[y].levels())"
   ]
  },
  {
   "cell_type": "code",
   "execution_count": 104,
   "metadata": {},
   "outputs": [
    {
     "name": "stdout",
     "output_type": "stream",
     "text": [
      "[]\n"
     ]
    }
   ],
   "source": [
    "print(df[y].levels())"
   ]
  },
  {
   "cell_type": "code",
   "execution_count": 105,
   "metadata": {},
   "outputs": [
    {
     "data": {
      "text/plain": [
       "{'PassengerId': 'int',\n",
       " 'Survived': 'int',\n",
       " 'Pclass': 'int',\n",
       " 'Name': 'string',\n",
       " 'Sex': 'enum',\n",
       " 'Age': 'real',\n",
       " 'SibSp': 'int',\n",
       " 'Parch': 'int',\n",
       " 'Ticket': 'int',\n",
       " 'Fare': 'real',\n",
       " 'Cabin': 'enum',\n",
       " 'Embarked': 'enum'}"
      ]
     },
     "execution_count": 105,
     "metadata": {},
     "output_type": "execute_result"
    }
   ],
   "source": [
    "allV=get_variables_types(df)\n",
    "allV"
   ]
  },
  {
   "cell_type": "code",
   "execution_count": 106,
   "metadata": {},
   "outputs": [],
   "source": [
    "meta_data['variables']=allV"
   ]
  },
  {
   "cell_type": "code",
   "execution_count": 107,
   "metadata": {},
   "outputs": [],
   "source": [
    "# Set up AutoML\n",
    "\n",
    "aml = H2OAutoML(max_runtime_secs=run_time,project_name = name)"
   ]
  },
  {
   "cell_type": "code",
   "execution_count": 108,
   "metadata": {},
   "outputs": [],
   "source": [
    "model_start_time = time.time()"
   ]
  },
  {
   "cell_type": "code",
   "execution_count": 109,
   "metadata": {},
   "outputs": [
    {
     "name": "stdout",
     "output_type": "stream",
     "text": [
      "AutoML progress: |████████████████████████████████████████████████████████| 100%\n"
     ]
    }
   ],
   "source": [
    "aml.train(x=X,y=y,training_frame=df)"
   ]
  },
  {
   "cell_type": "code",
   "execution_count": 110,
   "metadata": {},
   "outputs": [],
   "source": [
    "meta_data['model_execution_time'] = time.time() - model_start_time"
   ]
  },
  {
   "cell_type": "code",
   "execution_count": 111,
   "metadata": {},
   "outputs": [],
   "source": [
    "# get leaderboard\n",
    "aml_leaderboard_df=aml.leaderboard.as_data_frame()"
   ]
  },
  {
   "cell_type": "code",
   "execution_count": 112,
   "metadata": {
    "scrolled": true
   },
   "outputs": [
    {
     "data": {
      "text/html": [
       "<div>\n",
       "<style scoped>\n",
       "    .dataframe tbody tr th:only-of-type {\n",
       "        vertical-align: middle;\n",
       "    }\n",
       "\n",
       "    .dataframe tbody tr th {\n",
       "        vertical-align: top;\n",
       "    }\n",
       "\n",
       "    .dataframe thead th {\n",
       "        text-align: right;\n",
       "    }\n",
       "</style>\n",
       "<table border=\"1\" class=\"dataframe\">\n",
       "  <thead>\n",
       "    <tr style=\"text-align: right;\">\n",
       "      <th></th>\n",
       "      <th>model_id</th>\n",
       "      <th>mean_residual_deviance</th>\n",
       "      <th>rmse</th>\n",
       "      <th>mse</th>\n",
       "      <th>mae</th>\n",
       "      <th>rmsle</th>\n",
       "    </tr>\n",
       "  </thead>\n",
       "  <tbody>\n",
       "    <tr>\n",
       "      <th>0</th>\n",
       "      <td>StackedEnsemble_AllModels_AutoML_20181214_171415</td>\n",
       "      <td>145.986803</td>\n",
       "      <td>12.082500</td>\n",
       "      <td>145.986803</td>\n",
       "      <td>9.653954</td>\n",
       "      <td>0.537688</td>\n",
       "    </tr>\n",
       "    <tr>\n",
       "      <th>1</th>\n",
       "      <td>StackedEnsemble_BestOfFamily_AutoML_20181214_171415</td>\n",
       "      <td>148.794055</td>\n",
       "      <td>12.198117</td>\n",
       "      <td>148.794055</td>\n",
       "      <td>9.715667</td>\n",
       "      <td>0.547431</td>\n",
       "    </tr>\n",
       "    <tr>\n",
       "      <th>2</th>\n",
       "      <td>GBM_1_AutoML_20181214_171415</td>\n",
       "      <td>151.040373</td>\n",
       "      <td>12.289848</td>\n",
       "      <td>151.040373</td>\n",
       "      <td>9.609440</td>\n",
       "      <td>0.530786</td>\n",
       "    </tr>\n",
       "    <tr>\n",
       "      <th>3</th>\n",
       "      <td>DeepLearning_grid_1_AutoML_20181214_171415_model_4</td>\n",
       "      <td>152.873410</td>\n",
       "      <td>12.364199</td>\n",
       "      <td>152.873410</td>\n",
       "      <td>9.738334</td>\n",
       "      <td>0.539381</td>\n",
       "    </tr>\n",
       "    <tr>\n",
       "      <th>4</th>\n",
       "      <td>GBM_grid_1_AutoML_20181214_171415_model_6</td>\n",
       "      <td>154.960324</td>\n",
       "      <td>12.448306</td>\n",
       "      <td>154.960324</td>\n",
       "      <td>9.819966</td>\n",
       "      <td>0.552667</td>\n",
       "    </tr>\n",
       "    <tr>\n",
       "      <th>5</th>\n",
       "      <td>DeepLearning_grid_1_AutoML_20181214_171415_model_1</td>\n",
       "      <td>155.347497</td>\n",
       "      <td>12.463848</td>\n",
       "      <td>155.347497</td>\n",
       "      <td>9.919074</td>\n",
       "      <td>NaN</td>\n",
       "    </tr>\n",
       "    <tr>\n",
       "      <th>6</th>\n",
       "      <td>GBM_grid_1_AutoML_20181214_171415_model_10</td>\n",
       "      <td>155.900627</td>\n",
       "      <td>12.486017</td>\n",
       "      <td>155.900627</td>\n",
       "      <td>9.823457</td>\n",
       "      <td>0.556251</td>\n",
       "    </tr>\n",
       "    <tr>\n",
       "      <th>7</th>\n",
       "      <td>GBM_3_AutoML_20181214_171415</td>\n",
       "      <td>157.146871</td>\n",
       "      <td>12.535823</td>\n",
       "      <td>157.146871</td>\n",
       "      <td>9.856006</td>\n",
       "      <td>0.547667</td>\n",
       "    </tr>\n",
       "    <tr>\n",
       "      <th>8</th>\n",
       "      <td>GBM_2_AutoML_20181214_171415</td>\n",
       "      <td>158.074865</td>\n",
       "      <td>12.572783</td>\n",
       "      <td>158.074865</td>\n",
       "      <td>9.956603</td>\n",
       "      <td>0.555240</td>\n",
       "    </tr>\n",
       "    <tr>\n",
       "      <th>9</th>\n",
       "      <td>DeepLearning_1_AutoML_20181214_171415</td>\n",
       "      <td>158.138707</td>\n",
       "      <td>12.575321</td>\n",
       "      <td>158.138707</td>\n",
       "      <td>10.006391</td>\n",
       "      <td>0.590403</td>\n",
       "    </tr>\n",
       "    <tr>\n",
       "      <th>10</th>\n",
       "      <td>GBM_grid_1_AutoML_20181214_171415_model_22</td>\n",
       "      <td>158.479663</td>\n",
       "      <td>12.588871</td>\n",
       "      <td>158.479663</td>\n",
       "      <td>9.993933</td>\n",
       "      <td>0.577565</td>\n",
       "    </tr>\n",
       "    <tr>\n",
       "      <th>11</th>\n",
       "      <td>GBM_grid_1_AutoML_20181214_171415_model_9</td>\n",
       "      <td>158.757987</td>\n",
       "      <td>12.599920</td>\n",
       "      <td>158.757987</td>\n",
       "      <td>9.921727</td>\n",
       "      <td>0.563707</td>\n",
       "    </tr>\n",
       "    <tr>\n",
       "      <th>12</th>\n",
       "      <td>GBM_grid_1_AutoML_20181214_171415_model_8</td>\n",
       "      <td>159.335493</td>\n",
       "      <td>12.622816</td>\n",
       "      <td>159.335493</td>\n",
       "      <td>9.957388</td>\n",
       "      <td>0.576630</td>\n",
       "    </tr>\n",
       "    <tr>\n",
       "      <th>13</th>\n",
       "      <td>GBM_4_AutoML_20181214_171415</td>\n",
       "      <td>160.969439</td>\n",
       "      <td>12.687373</td>\n",
       "      <td>160.969439</td>\n",
       "      <td>10.005438</td>\n",
       "      <td>0.560223</td>\n",
       "    </tr>\n",
       "    <tr>\n",
       "      <th>14</th>\n",
       "      <td>DeepLearning_grid_1_AutoML_20181214_171415_model_3</td>\n",
       "      <td>162.398991</td>\n",
       "      <td>12.743586</td>\n",
       "      <td>162.398991</td>\n",
       "      <td>10.176347</td>\n",
       "      <td>0.595785</td>\n",
       "    </tr>\n",
       "    <tr>\n",
       "      <th>15</th>\n",
       "      <td>GBM_grid_1_AutoML_20181214_171415_model_1</td>\n",
       "      <td>163.969116</td>\n",
       "      <td>12.805043</td>\n",
       "      <td>163.969116</td>\n",
       "      <td>10.219684</td>\n",
       "      <td>0.592133</td>\n",
       "    </tr>\n",
       "    <tr>\n",
       "      <th>16</th>\n",
       "      <td>GBM_grid_1_AutoML_20181214_171415_model_20</td>\n",
       "      <td>164.414232</td>\n",
       "      <td>12.822411</td>\n",
       "      <td>164.414232</td>\n",
       "      <td>10.226732</td>\n",
       "      <td>0.619390</td>\n",
       "    </tr>\n",
       "    <tr>\n",
       "      <th>17</th>\n",
       "      <td>DRF_1_AutoML_20181214_171415</td>\n",
       "      <td>166.018265</td>\n",
       "      <td>12.884808</td>\n",
       "      <td>166.018265</td>\n",
       "      <td>10.236247</td>\n",
       "      <td>0.560546</td>\n",
       "    </tr>\n",
       "    <tr>\n",
       "      <th>18</th>\n",
       "      <td>GBM_5_AutoML_20181214_171415</td>\n",
       "      <td>167.944404</td>\n",
       "      <td>12.959337</td>\n",
       "      <td>167.944404</td>\n",
       "      <td>10.364619</td>\n",
       "      <td>0.623944</td>\n",
       "    </tr>\n",
       "    <tr>\n",
       "      <th>19</th>\n",
       "      <td>GBM_grid_1_AutoML_20181214_171415_model_15</td>\n",
       "      <td>169.106537</td>\n",
       "      <td>13.004097</td>\n",
       "      <td>169.106537</td>\n",
       "      <td>10.422205</td>\n",
       "      <td>0.594940</td>\n",
       "    </tr>\n",
       "    <tr>\n",
       "      <th>20</th>\n",
       "      <td>XRT_1_AutoML_20181214_171415</td>\n",
       "      <td>170.633884</td>\n",
       "      <td>13.062691</td>\n",
       "      <td>170.633884</td>\n",
       "      <td>10.257919</td>\n",
       "      <td>0.589472</td>\n",
       "    </tr>\n",
       "    <tr>\n",
       "      <th>21</th>\n",
       "      <td>DeepLearning_grid_1_AutoML_20181214_171415_model_2</td>\n",
       "      <td>171.772395</td>\n",
       "      <td>13.106197</td>\n",
       "      <td>171.772395</td>\n",
       "      <td>10.437427</td>\n",
       "      <td>NaN</td>\n",
       "    </tr>\n",
       "    <tr>\n",
       "      <th>22</th>\n",
       "      <td>DeepLearning_grid_1_AutoML_20181214_171415_model_5</td>\n",
       "      <td>174.408302</td>\n",
       "      <td>13.206374</td>\n",
       "      <td>174.408302</td>\n",
       "      <td>10.540587</td>\n",
       "      <td>0.641852</td>\n",
       "    </tr>\n",
       "    <tr>\n",
       "      <th>23</th>\n",
       "      <td>GBM_grid_1_AutoML_20181214_171415_model_21</td>\n",
       "      <td>175.993788</td>\n",
       "      <td>13.266265</td>\n",
       "      <td>175.993788</td>\n",
       "      <td>10.375867</td>\n",
       "      <td>0.620447</td>\n",
       "    </tr>\n",
       "    <tr>\n",
       "      <th>24</th>\n",
       "      <td>DeepLearning_grid_1_AutoML_20181214_171415_model_6</td>\n",
       "      <td>180.868289</td>\n",
       "      <td>13.448728</td>\n",
       "      <td>180.868289</td>\n",
       "      <td>10.760933</td>\n",
       "      <td>0.625677</td>\n",
       "    </tr>\n",
       "    <tr>\n",
       "      <th>25</th>\n",
       "      <td>GBM_grid_1_AutoML_20181214_171415_model_19</td>\n",
       "      <td>194.093091</td>\n",
       "      <td>13.931730</td>\n",
       "      <td>194.093091</td>\n",
       "      <td>10.977675</td>\n",
       "      <td>NaN</td>\n",
       "    </tr>\n",
       "    <tr>\n",
       "      <th>26</th>\n",
       "      <td>GBM_grid_1_AutoML_20181214_171415_model_11</td>\n",
       "      <td>195.062962</td>\n",
       "      <td>13.966494</td>\n",
       "      <td>195.062962</td>\n",
       "      <td>10.980531</td>\n",
       "      <td>0.632971</td>\n",
       "    </tr>\n",
       "    <tr>\n",
       "      <th>27</th>\n",
       "      <td>GBM_grid_1_AutoML_20181214_171415_model_5</td>\n",
       "      <td>196.963714</td>\n",
       "      <td>14.034376</td>\n",
       "      <td>196.963714</td>\n",
       "      <td>10.979607</td>\n",
       "      <td>0.672310</td>\n",
       "    </tr>\n",
       "    <tr>\n",
       "      <th>28</th>\n",
       "      <td>GBM_grid_1_AutoML_20181214_171415_model_14</td>\n",
       "      <td>198.240410</td>\n",
       "      <td>14.079787</td>\n",
       "      <td>198.240410</td>\n",
       "      <td>11.016348</td>\n",
       "      <td>0.673430</td>\n",
       "    </tr>\n",
       "    <tr>\n",
       "      <th>29</th>\n",
       "      <td>GBM_grid_1_AutoML_20181214_171415_model_3</td>\n",
       "      <td>198.592958</td>\n",
       "      <td>14.092301</td>\n",
       "      <td>198.592958</td>\n",
       "      <td>10.995438</td>\n",
       "      <td>NaN</td>\n",
       "    </tr>\n",
       "    <tr>\n",
       "      <th>30</th>\n",
       "      <td>GBM_grid_1_AutoML_20181214_171415_model_16</td>\n",
       "      <td>199.065749</td>\n",
       "      <td>14.109066</td>\n",
       "      <td>199.065749</td>\n",
       "      <td>11.026678</td>\n",
       "      <td>0.674799</td>\n",
       "    </tr>\n",
       "    <tr>\n",
       "      <th>31</th>\n",
       "      <td>GBM_grid_1_AutoML_20181214_171415_model_17</td>\n",
       "      <td>200.586159</td>\n",
       "      <td>14.162844</td>\n",
       "      <td>200.586159</td>\n",
       "      <td>11.074419</td>\n",
       "      <td>0.677784</td>\n",
       "    </tr>\n",
       "    <tr>\n",
       "      <th>32</th>\n",
       "      <td>GBM_grid_1_AutoML_20181214_171415_model_2</td>\n",
       "      <td>201.065473</td>\n",
       "      <td>14.179756</td>\n",
       "      <td>201.065473</td>\n",
       "      <td>11.107513</td>\n",
       "      <td>NaN</td>\n",
       "    </tr>\n",
       "    <tr>\n",
       "      <th>33</th>\n",
       "      <td>GBM_grid_1_AutoML_20181214_171415_model_13</td>\n",
       "      <td>201.301339</td>\n",
       "      <td>14.188070</td>\n",
       "      <td>201.301339</td>\n",
       "      <td>11.082915</td>\n",
       "      <td>0.679754</td>\n",
       "    </tr>\n",
       "    <tr>\n",
       "      <th>34</th>\n",
       "      <td>GBM_grid_1_AutoML_20181214_171415_model_12</td>\n",
       "      <td>206.787106</td>\n",
       "      <td>14.380094</td>\n",
       "      <td>206.787106</td>\n",
       "      <td>11.220508</td>\n",
       "      <td>0.685148</td>\n",
       "    </tr>\n",
       "    <tr>\n",
       "      <th>35</th>\n",
       "      <td>GBM_grid_1_AutoML_20181214_171415_model_7</td>\n",
       "      <td>207.000967</td>\n",
       "      <td>14.387528</td>\n",
       "      <td>207.000967</td>\n",
       "      <td>11.224433</td>\n",
       "      <td>0.685367</td>\n",
       "    </tr>\n",
       "    <tr>\n",
       "      <th>36</th>\n",
       "      <td>GBM_grid_1_AutoML_20181214_171415_model_4</td>\n",
       "      <td>207.653079</td>\n",
       "      <td>14.410173</td>\n",
       "      <td>207.653079</td>\n",
       "      <td>11.029978</td>\n",
       "      <td>0.624628</td>\n",
       "    </tr>\n",
       "    <tr>\n",
       "      <th>37</th>\n",
       "      <td>GLM_grid_1_AutoML_20181214_171415_model_1</td>\n",
       "      <td>209.296416</td>\n",
       "      <td>14.467080</td>\n",
       "      <td>209.296416</td>\n",
       "      <td>11.279221</td>\n",
       "      <td>0.688350</td>\n",
       "    </tr>\n",
       "    <tr>\n",
       "      <th>38</th>\n",
       "      <td>GBM_grid_1_AutoML_20181214_171415_model_18</td>\n",
       "      <td>286.934456</td>\n",
       "      <td>16.939140</td>\n",
       "      <td>286.934456</td>\n",
       "      <td>13.057883</td>\n",
       "      <td>NaN</td>\n",
       "    </tr>\n",
       "  </tbody>\n",
       "</table>\n",
       "</div>"
      ],
      "text/plain": [
       "                                               model_id  \\\n",
       "0      StackedEnsemble_AllModels_AutoML_20181214_171415   \n",
       "1   StackedEnsemble_BestOfFamily_AutoML_20181214_171415   \n",
       "2                          GBM_1_AutoML_20181214_171415   \n",
       "3    DeepLearning_grid_1_AutoML_20181214_171415_model_4   \n",
       "4             GBM_grid_1_AutoML_20181214_171415_model_6   \n",
       "5    DeepLearning_grid_1_AutoML_20181214_171415_model_1   \n",
       "6            GBM_grid_1_AutoML_20181214_171415_model_10   \n",
       "7                          GBM_3_AutoML_20181214_171415   \n",
       "8                          GBM_2_AutoML_20181214_171415   \n",
       "9                 DeepLearning_1_AutoML_20181214_171415   \n",
       "10           GBM_grid_1_AutoML_20181214_171415_model_22   \n",
       "11            GBM_grid_1_AutoML_20181214_171415_model_9   \n",
       "12            GBM_grid_1_AutoML_20181214_171415_model_8   \n",
       "13                         GBM_4_AutoML_20181214_171415   \n",
       "14   DeepLearning_grid_1_AutoML_20181214_171415_model_3   \n",
       "15            GBM_grid_1_AutoML_20181214_171415_model_1   \n",
       "16           GBM_grid_1_AutoML_20181214_171415_model_20   \n",
       "17                         DRF_1_AutoML_20181214_171415   \n",
       "18                         GBM_5_AutoML_20181214_171415   \n",
       "19           GBM_grid_1_AutoML_20181214_171415_model_15   \n",
       "20                         XRT_1_AutoML_20181214_171415   \n",
       "21   DeepLearning_grid_1_AutoML_20181214_171415_model_2   \n",
       "22   DeepLearning_grid_1_AutoML_20181214_171415_model_5   \n",
       "23           GBM_grid_1_AutoML_20181214_171415_model_21   \n",
       "24   DeepLearning_grid_1_AutoML_20181214_171415_model_6   \n",
       "25           GBM_grid_1_AutoML_20181214_171415_model_19   \n",
       "26           GBM_grid_1_AutoML_20181214_171415_model_11   \n",
       "27            GBM_grid_1_AutoML_20181214_171415_model_5   \n",
       "28           GBM_grid_1_AutoML_20181214_171415_model_14   \n",
       "29            GBM_grid_1_AutoML_20181214_171415_model_3   \n",
       "30           GBM_grid_1_AutoML_20181214_171415_model_16   \n",
       "31           GBM_grid_1_AutoML_20181214_171415_model_17   \n",
       "32            GBM_grid_1_AutoML_20181214_171415_model_2   \n",
       "33           GBM_grid_1_AutoML_20181214_171415_model_13   \n",
       "34           GBM_grid_1_AutoML_20181214_171415_model_12   \n",
       "35            GBM_grid_1_AutoML_20181214_171415_model_7   \n",
       "36            GBM_grid_1_AutoML_20181214_171415_model_4   \n",
       "37            GLM_grid_1_AutoML_20181214_171415_model_1   \n",
       "38           GBM_grid_1_AutoML_20181214_171415_model_18   \n",
       "\n",
       "    mean_residual_deviance       rmse         mse        mae     rmsle  \n",
       "0               145.986803  12.082500  145.986803   9.653954  0.537688  \n",
       "1               148.794055  12.198117  148.794055   9.715667  0.547431  \n",
       "2               151.040373  12.289848  151.040373   9.609440  0.530786  \n",
       "3               152.873410  12.364199  152.873410   9.738334  0.539381  \n",
       "4               154.960324  12.448306  154.960324   9.819966  0.552667  \n",
       "5               155.347497  12.463848  155.347497   9.919074       NaN  \n",
       "6               155.900627  12.486017  155.900627   9.823457  0.556251  \n",
       "7               157.146871  12.535823  157.146871   9.856006  0.547667  \n",
       "8               158.074865  12.572783  158.074865   9.956603  0.555240  \n",
       "9               158.138707  12.575321  158.138707  10.006391  0.590403  \n",
       "10              158.479663  12.588871  158.479663   9.993933  0.577565  \n",
       "11              158.757987  12.599920  158.757987   9.921727  0.563707  \n",
       "12              159.335493  12.622816  159.335493   9.957388  0.576630  \n",
       "13              160.969439  12.687373  160.969439  10.005438  0.560223  \n",
       "14              162.398991  12.743586  162.398991  10.176347  0.595785  \n",
       "15              163.969116  12.805043  163.969116  10.219684  0.592133  \n",
       "16              164.414232  12.822411  164.414232  10.226732  0.619390  \n",
       "17              166.018265  12.884808  166.018265  10.236247  0.560546  \n",
       "18              167.944404  12.959337  167.944404  10.364619  0.623944  \n",
       "19              169.106537  13.004097  169.106537  10.422205  0.594940  \n",
       "20              170.633884  13.062691  170.633884  10.257919  0.589472  \n",
       "21              171.772395  13.106197  171.772395  10.437427       NaN  \n",
       "22              174.408302  13.206374  174.408302  10.540587  0.641852  \n",
       "23              175.993788  13.266265  175.993788  10.375867  0.620447  \n",
       "24              180.868289  13.448728  180.868289  10.760933  0.625677  \n",
       "25              194.093091  13.931730  194.093091  10.977675       NaN  \n",
       "26              195.062962  13.966494  195.062962  10.980531  0.632971  \n",
       "27              196.963714  14.034376  196.963714  10.979607  0.672310  \n",
       "28              198.240410  14.079787  198.240410  11.016348  0.673430  \n",
       "29              198.592958  14.092301  198.592958  10.995438       NaN  \n",
       "30              199.065749  14.109066  199.065749  11.026678  0.674799  \n",
       "31              200.586159  14.162844  200.586159  11.074419  0.677784  \n",
       "32              201.065473  14.179756  201.065473  11.107513       NaN  \n",
       "33              201.301339  14.188070  201.301339  11.082915  0.679754  \n",
       "34              206.787106  14.380094  206.787106  11.220508  0.685148  \n",
       "35              207.000967  14.387528  207.000967  11.224433  0.685367  \n",
       "36              207.653079  14.410173  207.653079  11.029978  0.624628  \n",
       "37              209.296416  14.467080  209.296416  11.279221  0.688350  \n",
       "38              286.934456  16.939140  286.934456  13.057883       NaN  "
      ]
     },
     "execution_count": 112,
     "metadata": {},
     "output_type": "execute_result"
    }
   ],
   "source": [
    "aml_leaderboard_df"
   ]
  },
  {
   "cell_type": "code",
   "execution_count": 113,
   "metadata": {},
   "outputs": [],
   "source": [
    "# STart best model as first model\n",
    "\n",
    "model_set=aml_leaderboard_df['model_id']\n",
    "mod_best=h2o.get_model(model_set[0])"
   ]
  },
  {
   "cell_type": "code",
   "execution_count": 114,
   "metadata": {},
   "outputs": [
    {
     "data": {
      "text/plain": [
       "'StackedEnsemble_AllModels_AutoML_20181214_171415'"
      ]
     },
     "execution_count": 114,
     "metadata": {},
     "output_type": "execute_result"
    }
   ],
   "source": [
    "mod_best._id"
   ]
  },
  {
   "cell_type": "code",
   "execution_count": 115,
   "metadata": {},
   "outputs": [],
   "source": [
    "# Get stacked ensemble  \n",
    "se=get_stacked_ensemble(model_set)"
   ]
  },
  {
   "cell_type": "code",
   "execution_count": 116,
   "metadata": {},
   "outputs": [
    {
     "name": "stdout",
     "output_type": "stream",
     "text": [
      "StackedEnsemble_BestOfFamily_AutoML_20181214_171415\n"
     ]
    }
   ],
   "source": [
    "print(se)"
   ]
  },
  {
   "cell_type": "code",
   "execution_count": 117,
   "metadata": {},
   "outputs": [],
   "source": [
    "if se is not None:\n",
    "  mod_best=h2o.get_model(se)"
   ]
  },
  {
   "cell_type": "code",
   "execution_count": 118,
   "metadata": {},
   "outputs": [
    {
     "data": {
      "text/plain": [
       "['__class__',\n",
       " '__delattr__',\n",
       " '__dict__',\n",
       " '__dir__',\n",
       " '__doc__',\n",
       " '__eq__',\n",
       " '__format__',\n",
       " '__ge__',\n",
       " '__getattr__',\n",
       " '__getattribute__',\n",
       " '__gt__',\n",
       " '__hash__',\n",
       " '__init__',\n",
       " '__init_subclass__',\n",
       " '__le__',\n",
       " '__lt__',\n",
       " '__module__',\n",
       " '__ne__',\n",
       " '__new__',\n",
       " '__reduce__',\n",
       " '__reduce_ex__',\n",
       " '__repr__',\n",
       " '__setattr__',\n",
       " '__sizeof__',\n",
       " '__str__',\n",
       " '__subclasshook__',\n",
       " '__weakref__',\n",
       " '_bc',\n",
       " '_bcin',\n",
       " '_check_targets',\n",
       " '_compute_algo',\n",
       " '_estimator_type',\n",
       " '_future',\n",
       " '_get_metrics',\n",
       " '_have_mojo',\n",
       " '_have_pojo',\n",
       " '_id',\n",
       " '_is_xvalidated',\n",
       " '_job',\n",
       " '_keyify_if_h2oframe',\n",
       " '_make_model',\n",
       " '_metrics_class',\n",
       " '_model_json',\n",
       " '_parms',\n",
       " '_plot',\n",
       " '_requires_training_frame',\n",
       " '_resolve_model',\n",
       " '_verify_training_frame_params',\n",
       " '_xval_keys',\n",
       " 'actual_params',\n",
       " 'aic',\n",
       " 'algo',\n",
       " 'auc',\n",
       " 'base_models',\n",
       " 'biases',\n",
       " 'catoffsets',\n",
       " 'coef',\n",
       " 'coef_norm',\n",
       " 'convert_H2OXGBoostParams_2_XGBoostParams',\n",
       " 'cross_validation_fold_assignment',\n",
       " 'cross_validation_holdout_predictions',\n",
       " 'cross_validation_metrics_summary',\n",
       " 'cross_validation_models',\n",
       " 'cross_validation_predictions',\n",
       " 'deepfeatures',\n",
       " 'default_params',\n",
       " 'download_mojo',\n",
       " 'download_pojo',\n",
       " 'fit',\n",
       " 'full_parameters',\n",
       " 'get_params',\n",
       " 'get_xval_models',\n",
       " 'gini',\n",
       " 'have_mojo',\n",
       " 'have_pojo',\n",
       " 'is_cross_validated',\n",
       " 'join',\n",
       " 'keep_levelone_frame',\n",
       " 'levelone_frame_id',\n",
       " 'logloss',\n",
       " 'mae',\n",
       " 'mean_residual_deviance',\n",
       " 'metalearner',\n",
       " 'metalearner_algorithm',\n",
       " 'metalearner_fold_assignment',\n",
       " 'metalearner_fold_column',\n",
       " 'metalearner_nfolds',\n",
       " 'metalearner_params',\n",
       " 'mixin',\n",
       " 'model_id',\n",
       " 'model_performance',\n",
       " 'mse',\n",
       " 'normmul',\n",
       " 'normsub',\n",
       " 'null_degrees_of_freedom',\n",
       " 'null_deviance',\n",
       " 'params',\n",
       " 'parms',\n",
       " 'partial_plot',\n",
       " 'plot',\n",
       " 'pprint_coef',\n",
       " 'predict',\n",
       " 'predict_leaf_node_assignment',\n",
       " 'r2',\n",
       " 'residual_degrees_of_freedom',\n",
       " 'residual_deviance',\n",
       " 'respmul',\n",
       " 'response_column',\n",
       " 'respsub',\n",
       " 'rmse',\n",
       " 'rmsle',\n",
       " 'rotation',\n",
       " 'save_model_details',\n",
       " 'save_mojo',\n",
       " 'score_history',\n",
       " 'scoring_history',\n",
       " 'seed',\n",
       " 'set_params',\n",
       " 'show',\n",
       " 'staged_predict_proba',\n",
       " 'start',\n",
       " 'std_coef_plot',\n",
       " 'summary',\n",
       " 'train',\n",
       " 'training_frame',\n",
       " 'type',\n",
       " 'validation_frame',\n",
       " 'varimp',\n",
       " 'varimp_plot',\n",
       " 'weights',\n",
       " 'xval_keys',\n",
       " 'xvals']"
      ]
     },
     "execution_count": 118,
     "metadata": {},
     "output_type": "execute_result"
    }
   ],
   "source": [
    "dir(mod_best)"
   ]
  },
  {
   "cell_type": "code",
   "execution_count": 119,
   "metadata": {},
   "outputs": [
    {
     "data": {
      "text/plain": [
       "'StackedEnsemble_BestOfFamily_AutoML_20181214_171415'"
      ]
     },
     "execution_count": 119,
     "metadata": {},
     "output_type": "execute_result"
    }
   ],
   "source": [
    "mod_best._id"
   ]
  },
  {
   "cell_type": "code",
   "execution_count": 120,
   "metadata": {},
   "outputs": [
    {
     "data": {
      "text/plain": [
       "<function h2o.model.model_base.ModelBase._get_metrics(o, train, valid, xval)>"
      ]
     },
     "execution_count": 120,
     "metadata": {},
     "output_type": "execute_result"
    }
   ],
   "source": [
    "mod_best._get_metrics"
   ]
  },
  {
   "cell_type": "code",
   "execution_count": 121,
   "metadata": {},
   "outputs": [
    {
     "data": {
      "text/plain": [
       "h2o.estimators.stackedensemble.H2OStackedEnsembleEstimator"
      ]
     },
     "execution_count": 121,
     "metadata": {},
     "output_type": "execute_result"
    }
   ],
   "source": [
    "type(mod_best)"
   ]
  },
  {
   "cell_type": "code",
   "execution_count": 122,
   "metadata": {},
   "outputs": [
    {
     "name": "stdout",
     "output_type": "stream",
     "text": [
      "Model Details\n",
      "=============\n",
      "H2OStackedEnsembleEstimator :  Stacked Ensemble\n",
      "Model Key:  StackedEnsemble_BestOfFamily_AutoML_20181214_171415\n",
      "No model summary for this model\n",
      "\n",
      "\n",
      "ModelMetricsRegressionGLM: stackedensemble\n",
      "** Reported on train data. **\n",
      "\n",
      "MSE: 69.31267842927711\n",
      "RMSE: 8.325423618608072\n",
      "MAE: 6.716328796107707\n",
      "RMSLE: 0.46164476048299313\n",
      "R^2: 0.6676679494119901\n",
      "Mean Residual Deviance: 69.31267842927711\n",
      "Null degrees of freedom: 637\n",
      "Residual degrees of freedom: 633\n",
      "Null deviance: 133064.17108923398\n",
      "Residual deviance: 44221.488837878795\n",
      "AIC: 4526.81012989359\n",
      "\n",
      "ModelMetricsRegressionGLM: stackedensemble\n",
      "** Reported on validation data. **\n",
      "\n",
      "MSE: 151.85910492646215\n",
      "RMSE: 12.323112631411844\n",
      "MAE: 9.699615426047078\n",
      "RMSLE: 0.698266700146051\n",
      "R^2: 0.327299879881343\n",
      "Mean Residual Deviance: 151.85910492646215\n",
      "Null degrees of freedom: 75\n",
      "Residual degrees of freedom: 71\n",
      "Null deviance: 17420.553624427812\n",
      "Residual deviance: 11541.291974411124\n",
      "AIC: 609.4230964241029\n",
      "\n",
      "ModelMetricsRegressionGLM: stackedensemble\n",
      "** Reported on cross-validation data. **\n",
      "\n",
      "MSE: 148.79405513734795\n",
      "RMSE: 12.198116868490315\n",
      "MAE: 9.715667285297307\n",
      "RMSLE: 0.5474310039760577\n",
      "R^2: 0.28658025371858487\n",
      "Mean Residual Deviance: 148.79405513734795\n",
      "Null degrees of freedom: 637\n",
      "Residual degrees of freedom: 633\n",
      "Null deviance: 157765.61286851528\n",
      "Residual deviance: 94930.607177628\n",
      "AIC: 5014.200870552868\n",
      "<bound method ModelBase.coef_norm of >\n"
     ]
    }
   ],
   "source": [
    "mods=mod_best.coef_norm\n",
    "print(mods)"
   ]
  },
  {
   "cell_type": "code",
   "execution_count": 123,
   "metadata": {},
   "outputs": [
    {
     "data": {
      "text/plain": [
       "'\\nmod_best.aic()\\n mod_best.algo\\n mod_best.coef()\\n mod_best.coef_norm()\\n mod_best.confusion_matrix()\\n mod_best.cross_validation_fold_assignment()\\n mod_best.cross_validation_holdout_predictions()\\n mod_best.cross_validation_metrics_summary()\\n mod_best.cross_validation_models()\\n mod_best.cross_validation_predictions()\\n mod_best.deepfeatures()\\n mod_best.default_params()\\n mod_best.download_mojo()\\n mod_best.download_pojo()\\n mod_best.fit()\\n mod_best.full_parameters()\\n mod_best.get_params()\\n mod_best.get_xval_models()\\n mod_best.gini()\\n mod_best.have_mojo()\\n mod_best.have_pojo()\\n mod_best.hit_ratio_table()\\n mod_best.is_cross_validated()\\n mod_best.join()\\n mod_best.keep_levelone_frame()\\n mod_best.levelone_frame_id()\\n mod_best.logloss()\\n mod_best.mae()\\n mod_best.mean_per_class_error()\\n mod_best.mean_residual_deviance()\\n mod_best.metalearner()\\n mod_best.metalearner_algorithm()\\n mod_best.metalearner_fold_assignment()\\n mod_best.metalearner_fold_column()\\n mod_best.metalearner_nfolds()\\n mod_best.metalearner_params()\\n mod_best.mixin()\\n mod_best.model_id()\\n mod_best.model_performance()\\n mod_best.mse()\\n mod_best.normmul()\\n mod_best.normsub()\\n mod_best.null_degrees_of_freedom()\\n mod_best.null_deviance()\\n mod_best.params()\\n mod_best.parms()\\n mod_best.partial_plot()\\n mod_best.plot()\\n mod_best.pprint_coef()\\n mod_best.predict()\\n mod_best.predict_leaf_node_assignment()\\n mod_best.r2()\\n mod_best.residual_degrees_of_freedom()\\n mod_best.residual_deviance()\\n mod_best.respmul()\\n mod_best.response_column()\\n mod_best.respsub()\\n mod_best.rmse()\\n mod_best.rmsle()\\n mod_best.rotation()\\n mod_best.save_model_details()\\n mod_best.save_mojo()\\n mod_best.score_history()\\n mod_best.scoring_history()\\n mod_best.seed()\\n mod_best.set_params()\\n mod_best.show()\\n mod_best.start()\\n mod_best.std_coef_plot()\\n mod_best.summary()\\n mod_best.train()\\n mod_best.training_frame()\\n mod_best.type()\\n mod_best.validation_frame()\\n mod_best.varimp()\\n mod_best.varimp_plot()\\n mod_best.weights()\\n mod_best.xval_keys()\\n mod_best.xvalsmod_best()\\n '"
      ]
     },
     "execution_count": 123,
     "metadata": {},
     "output_type": "execute_result"
    }
   ],
   "source": [
    "'''\n",
    "mod_best.aic()\n",
    " mod_best.algo\n",
    " mod_best.coef()\n",
    " mod_best.coef_norm()\n",
    " mod_best.confusion_matrix()\n",
    " mod_best.cross_validation_fold_assignment()\n",
    " mod_best.cross_validation_holdout_predictions()\n",
    " mod_best.cross_validation_metrics_summary()\n",
    " mod_best.cross_validation_models()\n",
    " mod_best.cross_validation_predictions()\n",
    " mod_best.deepfeatures()\n",
    " mod_best.default_params()\n",
    " mod_best.download_mojo()\n",
    " mod_best.download_pojo()\n",
    " mod_best.fit()\n",
    " mod_best.full_parameters()\n",
    " mod_best.get_params()\n",
    " mod_best.get_xval_models()\n",
    " mod_best.gini()\n",
    " mod_best.have_mojo()\n",
    " mod_best.have_pojo()\n",
    " mod_best.hit_ratio_table()\n",
    " mod_best.is_cross_validated()\n",
    " mod_best.join()\n",
    " mod_best.keep_levelone_frame()\n",
    " mod_best.levelone_frame_id()\n",
    " mod_best.logloss()\n",
    " mod_best.mae()\n",
    " mod_best.mean_per_class_error()\n",
    " mod_best.mean_residual_deviance()\n",
    " mod_best.metalearner()\n",
    " mod_best.metalearner_algorithm()\n",
    " mod_best.metalearner_fold_assignment()\n",
    " mod_best.metalearner_fold_column()\n",
    " mod_best.metalearner_nfolds()\n",
    " mod_best.metalearner_params()\n",
    " mod_best.mixin()\n",
    " mod_best.model_id()\n",
    " mod_best.model_performance()\n",
    " mod_best.mse()\n",
    " mod_best.normmul()\n",
    " mod_best.normsub()\n",
    " mod_best.null_degrees_of_freedom()\n",
    " mod_best.null_deviance()\n",
    " mod_best.params()\n",
    " mod_best.parms()\n",
    " mod_best.partial_plot()\n",
    " mod_best.plot()\n",
    " mod_best.pprint_coef()\n",
    " mod_best.predict()\n",
    " mod_best.predict_leaf_node_assignment()\n",
    " mod_best.r2()\n",
    " mod_best.residual_degrees_of_freedom()\n",
    " mod_best.residual_deviance()\n",
    " mod_best.respmul()\n",
    " mod_best.response_column()\n",
    " mod_best.respsub()\n",
    " mod_best.rmse()\n",
    " mod_best.rmsle()\n",
    " mod_best.rotation()\n",
    " mod_best.save_model_details()\n",
    " mod_best.save_mojo()\n",
    " mod_best.score_history()\n",
    " mod_best.scoring_history()\n",
    " mod_best.seed()\n",
    " mod_best.set_params()\n",
    " mod_best.show()\n",
    " mod_best.start()\n",
    " mod_best.std_coef_plot()\n",
    " mod_best.summary()\n",
    " mod_best.train()\n",
    " mod_best.training_frame()\n",
    " mod_best.type()\n",
    " mod_best.validation_frame()\n",
    " mod_best.varimp()\n",
    " mod_best.varimp_plot()\n",
    " mod_best.weights()\n",
    " mod_best.xval_keys()\n",
    " mod_best.xvalsmod_best()\n",
    " '''"
   ]
  },
  {
   "cell_type": "code",
   "execution_count": 124,
   "metadata": {},
   "outputs": [],
   "source": [
    "bm=stackedensemble_df(aml_leaderboard_df)"
   ]
  },
  {
   "cell_type": "code",
   "execution_count": 125,
   "metadata": {},
   "outputs": [
    {
     "data": {
      "text/plain": [
       "['GBM_1_AutoML_20181214_171415',\n",
       " 'GLM_grid_1_AutoML_20181214_171415_model_1',\n",
       " 'DRF_1_AutoML_20181214_171415',\n",
       " 'XRT_1_AutoML_20181214_171415',\n",
       " 'DeepLearning_grid_1_AutoML_20181214_171415_model_4']"
      ]
     },
     "execution_count": 125,
     "metadata": {},
     "output_type": "execute_result"
    }
   ],
   "source": [
    "bm"
   ]
  },
  {
   "cell_type": "code",
   "execution_count": 126,
   "metadata": {},
   "outputs": [
    {
     "data": {
      "text/html": [
       "<div>\n",
       "<style scoped>\n",
       "    .dataframe tbody tr th:only-of-type {\n",
       "        vertical-align: middle;\n",
       "    }\n",
       "\n",
       "    .dataframe tbody tr th {\n",
       "        vertical-align: top;\n",
       "    }\n",
       "\n",
       "    .dataframe thead th {\n",
       "        text-align: right;\n",
       "    }\n",
       "</style>\n",
       "<table border=\"1\" class=\"dataframe\">\n",
       "  <thead>\n",
       "    <tr style=\"text-align: right;\">\n",
       "      <th></th>\n",
       "      <th>model_id</th>\n",
       "      <th>mean_residual_deviance</th>\n",
       "      <th>rmse</th>\n",
       "      <th>mse</th>\n",
       "      <th>mae</th>\n",
       "      <th>rmsle</th>\n",
       "    </tr>\n",
       "  </thead>\n",
       "  <tbody>\n",
       "    <tr>\n",
       "      <th>0</th>\n",
       "      <td>StackedEnsemble_AllModels_AutoML_20181214_171415</td>\n",
       "      <td>145.986803</td>\n",
       "      <td>12.082500</td>\n",
       "      <td>145.986803</td>\n",
       "      <td>9.653954</td>\n",
       "      <td>0.537688</td>\n",
       "    </tr>\n",
       "    <tr>\n",
       "      <th>1</th>\n",
       "      <td>StackedEnsemble_BestOfFamily_AutoML_20181214_171415</td>\n",
       "      <td>148.794055</td>\n",
       "      <td>12.198117</td>\n",
       "      <td>148.794055</td>\n",
       "      <td>9.715667</td>\n",
       "      <td>0.547431</td>\n",
       "    </tr>\n",
       "    <tr>\n",
       "      <th>2</th>\n",
       "      <td>GBM_1_AutoML_20181214_171415</td>\n",
       "      <td>151.040373</td>\n",
       "      <td>12.289848</td>\n",
       "      <td>151.040373</td>\n",
       "      <td>9.609440</td>\n",
       "      <td>0.530786</td>\n",
       "    </tr>\n",
       "    <tr>\n",
       "      <th>3</th>\n",
       "      <td>DeepLearning_grid_1_AutoML_20181214_171415_model_4</td>\n",
       "      <td>152.873410</td>\n",
       "      <td>12.364199</td>\n",
       "      <td>152.873410</td>\n",
       "      <td>9.738334</td>\n",
       "      <td>0.539381</td>\n",
       "    </tr>\n",
       "    <tr>\n",
       "      <th>4</th>\n",
       "      <td>GBM_grid_1_AutoML_20181214_171415_model_6</td>\n",
       "      <td>154.960324</td>\n",
       "      <td>12.448306</td>\n",
       "      <td>154.960324</td>\n",
       "      <td>9.819966</td>\n",
       "      <td>0.552667</td>\n",
       "    </tr>\n",
       "    <tr>\n",
       "      <th>5</th>\n",
       "      <td>DeepLearning_grid_1_AutoML_20181214_171415_model_1</td>\n",
       "      <td>155.347497</td>\n",
       "      <td>12.463848</td>\n",
       "      <td>155.347497</td>\n",
       "      <td>9.919074</td>\n",
       "      <td>NaN</td>\n",
       "    </tr>\n",
       "    <tr>\n",
       "      <th>6</th>\n",
       "      <td>GBM_grid_1_AutoML_20181214_171415_model_10</td>\n",
       "      <td>155.900627</td>\n",
       "      <td>12.486017</td>\n",
       "      <td>155.900627</td>\n",
       "      <td>9.823457</td>\n",
       "      <td>0.556251</td>\n",
       "    </tr>\n",
       "    <tr>\n",
       "      <th>7</th>\n",
       "      <td>GBM_3_AutoML_20181214_171415</td>\n",
       "      <td>157.146871</td>\n",
       "      <td>12.535823</td>\n",
       "      <td>157.146871</td>\n",
       "      <td>9.856006</td>\n",
       "      <td>0.547667</td>\n",
       "    </tr>\n",
       "    <tr>\n",
       "      <th>8</th>\n",
       "      <td>GBM_2_AutoML_20181214_171415</td>\n",
       "      <td>158.074865</td>\n",
       "      <td>12.572783</td>\n",
       "      <td>158.074865</td>\n",
       "      <td>9.956603</td>\n",
       "      <td>0.555240</td>\n",
       "    </tr>\n",
       "    <tr>\n",
       "      <th>9</th>\n",
       "      <td>DeepLearning_1_AutoML_20181214_171415</td>\n",
       "      <td>158.138707</td>\n",
       "      <td>12.575321</td>\n",
       "      <td>158.138707</td>\n",
       "      <td>10.006391</td>\n",
       "      <td>0.590403</td>\n",
       "    </tr>\n",
       "    <tr>\n",
       "      <th>10</th>\n",
       "      <td>GBM_grid_1_AutoML_20181214_171415_model_22</td>\n",
       "      <td>158.479663</td>\n",
       "      <td>12.588871</td>\n",
       "      <td>158.479663</td>\n",
       "      <td>9.993933</td>\n",
       "      <td>0.577565</td>\n",
       "    </tr>\n",
       "    <tr>\n",
       "      <th>11</th>\n",
       "      <td>GBM_grid_1_AutoML_20181214_171415_model_9</td>\n",
       "      <td>158.757987</td>\n",
       "      <td>12.599920</td>\n",
       "      <td>158.757987</td>\n",
       "      <td>9.921727</td>\n",
       "      <td>0.563707</td>\n",
       "    </tr>\n",
       "    <tr>\n",
       "      <th>12</th>\n",
       "      <td>GBM_grid_1_AutoML_20181214_171415_model_8</td>\n",
       "      <td>159.335493</td>\n",
       "      <td>12.622816</td>\n",
       "      <td>159.335493</td>\n",
       "      <td>9.957388</td>\n",
       "      <td>0.576630</td>\n",
       "    </tr>\n",
       "    <tr>\n",
       "      <th>13</th>\n",
       "      <td>GBM_4_AutoML_20181214_171415</td>\n",
       "      <td>160.969439</td>\n",
       "      <td>12.687373</td>\n",
       "      <td>160.969439</td>\n",
       "      <td>10.005438</td>\n",
       "      <td>0.560223</td>\n",
       "    </tr>\n",
       "    <tr>\n",
       "      <th>14</th>\n",
       "      <td>DeepLearning_grid_1_AutoML_20181214_171415_model_3</td>\n",
       "      <td>162.398991</td>\n",
       "      <td>12.743586</td>\n",
       "      <td>162.398991</td>\n",
       "      <td>10.176347</td>\n",
       "      <td>0.595785</td>\n",
       "    </tr>\n",
       "    <tr>\n",
       "      <th>15</th>\n",
       "      <td>GBM_grid_1_AutoML_20181214_171415_model_1</td>\n",
       "      <td>163.969116</td>\n",
       "      <td>12.805043</td>\n",
       "      <td>163.969116</td>\n",
       "      <td>10.219684</td>\n",
       "      <td>0.592133</td>\n",
       "    </tr>\n",
       "    <tr>\n",
       "      <th>16</th>\n",
       "      <td>GBM_grid_1_AutoML_20181214_171415_model_20</td>\n",
       "      <td>164.414232</td>\n",
       "      <td>12.822411</td>\n",
       "      <td>164.414232</td>\n",
       "      <td>10.226732</td>\n",
       "      <td>0.619390</td>\n",
       "    </tr>\n",
       "    <tr>\n",
       "      <th>17</th>\n",
       "      <td>DRF_1_AutoML_20181214_171415</td>\n",
       "      <td>166.018265</td>\n",
       "      <td>12.884808</td>\n",
       "      <td>166.018265</td>\n",
       "      <td>10.236247</td>\n",
       "      <td>0.560546</td>\n",
       "    </tr>\n",
       "    <tr>\n",
       "      <th>18</th>\n",
       "      <td>GBM_5_AutoML_20181214_171415</td>\n",
       "      <td>167.944404</td>\n",
       "      <td>12.959337</td>\n",
       "      <td>167.944404</td>\n",
       "      <td>10.364619</td>\n",
       "      <td>0.623944</td>\n",
       "    </tr>\n",
       "    <tr>\n",
       "      <th>19</th>\n",
       "      <td>GBM_grid_1_AutoML_20181214_171415_model_15</td>\n",
       "      <td>169.106537</td>\n",
       "      <td>13.004097</td>\n",
       "      <td>169.106537</td>\n",
       "      <td>10.422205</td>\n",
       "      <td>0.594940</td>\n",
       "    </tr>\n",
       "    <tr>\n",
       "      <th>20</th>\n",
       "      <td>XRT_1_AutoML_20181214_171415</td>\n",
       "      <td>170.633884</td>\n",
       "      <td>13.062691</td>\n",
       "      <td>170.633884</td>\n",
       "      <td>10.257919</td>\n",
       "      <td>0.589472</td>\n",
       "    </tr>\n",
       "    <tr>\n",
       "      <th>21</th>\n",
       "      <td>DeepLearning_grid_1_AutoML_20181214_171415_model_2</td>\n",
       "      <td>171.772395</td>\n",
       "      <td>13.106197</td>\n",
       "      <td>171.772395</td>\n",
       "      <td>10.437427</td>\n",
       "      <td>NaN</td>\n",
       "    </tr>\n",
       "    <tr>\n",
       "      <th>22</th>\n",
       "      <td>DeepLearning_grid_1_AutoML_20181214_171415_model_5</td>\n",
       "      <td>174.408302</td>\n",
       "      <td>13.206374</td>\n",
       "      <td>174.408302</td>\n",
       "      <td>10.540587</td>\n",
       "      <td>0.641852</td>\n",
       "    </tr>\n",
       "    <tr>\n",
       "      <th>23</th>\n",
       "      <td>GBM_grid_1_AutoML_20181214_171415_model_21</td>\n",
       "      <td>175.993788</td>\n",
       "      <td>13.266265</td>\n",
       "      <td>175.993788</td>\n",
       "      <td>10.375867</td>\n",
       "      <td>0.620447</td>\n",
       "    </tr>\n",
       "    <tr>\n",
       "      <th>24</th>\n",
       "      <td>DeepLearning_grid_1_AutoML_20181214_171415_model_6</td>\n",
       "      <td>180.868289</td>\n",
       "      <td>13.448728</td>\n",
       "      <td>180.868289</td>\n",
       "      <td>10.760933</td>\n",
       "      <td>0.625677</td>\n",
       "    </tr>\n",
       "    <tr>\n",
       "      <th>25</th>\n",
       "      <td>GBM_grid_1_AutoML_20181214_171415_model_19</td>\n",
       "      <td>194.093091</td>\n",
       "      <td>13.931730</td>\n",
       "      <td>194.093091</td>\n",
       "      <td>10.977675</td>\n",
       "      <td>NaN</td>\n",
       "    </tr>\n",
       "    <tr>\n",
       "      <th>26</th>\n",
       "      <td>GBM_grid_1_AutoML_20181214_171415_model_11</td>\n",
       "      <td>195.062962</td>\n",
       "      <td>13.966494</td>\n",
       "      <td>195.062962</td>\n",
       "      <td>10.980531</td>\n",
       "      <td>0.632971</td>\n",
       "    </tr>\n",
       "    <tr>\n",
       "      <th>27</th>\n",
       "      <td>GBM_grid_1_AutoML_20181214_171415_model_5</td>\n",
       "      <td>196.963714</td>\n",
       "      <td>14.034376</td>\n",
       "      <td>196.963714</td>\n",
       "      <td>10.979607</td>\n",
       "      <td>0.672310</td>\n",
       "    </tr>\n",
       "    <tr>\n",
       "      <th>28</th>\n",
       "      <td>GBM_grid_1_AutoML_20181214_171415_model_14</td>\n",
       "      <td>198.240410</td>\n",
       "      <td>14.079787</td>\n",
       "      <td>198.240410</td>\n",
       "      <td>11.016348</td>\n",
       "      <td>0.673430</td>\n",
       "    </tr>\n",
       "    <tr>\n",
       "      <th>29</th>\n",
       "      <td>GBM_grid_1_AutoML_20181214_171415_model_3</td>\n",
       "      <td>198.592958</td>\n",
       "      <td>14.092301</td>\n",
       "      <td>198.592958</td>\n",
       "      <td>10.995438</td>\n",
       "      <td>NaN</td>\n",
       "    </tr>\n",
       "    <tr>\n",
       "      <th>30</th>\n",
       "      <td>GBM_grid_1_AutoML_20181214_171415_model_16</td>\n",
       "      <td>199.065749</td>\n",
       "      <td>14.109066</td>\n",
       "      <td>199.065749</td>\n",
       "      <td>11.026678</td>\n",
       "      <td>0.674799</td>\n",
       "    </tr>\n",
       "    <tr>\n",
       "      <th>31</th>\n",
       "      <td>GBM_grid_1_AutoML_20181214_171415_model_17</td>\n",
       "      <td>200.586159</td>\n",
       "      <td>14.162844</td>\n",
       "      <td>200.586159</td>\n",
       "      <td>11.074419</td>\n",
       "      <td>0.677784</td>\n",
       "    </tr>\n",
       "    <tr>\n",
       "      <th>32</th>\n",
       "      <td>GBM_grid_1_AutoML_20181214_171415_model_2</td>\n",
       "      <td>201.065473</td>\n",
       "      <td>14.179756</td>\n",
       "      <td>201.065473</td>\n",
       "      <td>11.107513</td>\n",
       "      <td>NaN</td>\n",
       "    </tr>\n",
       "    <tr>\n",
       "      <th>33</th>\n",
       "      <td>GBM_grid_1_AutoML_20181214_171415_model_13</td>\n",
       "      <td>201.301339</td>\n",
       "      <td>14.188070</td>\n",
       "      <td>201.301339</td>\n",
       "      <td>11.082915</td>\n",
       "      <td>0.679754</td>\n",
       "    </tr>\n",
       "    <tr>\n",
       "      <th>34</th>\n",
       "      <td>GBM_grid_1_AutoML_20181214_171415_model_12</td>\n",
       "      <td>206.787106</td>\n",
       "      <td>14.380094</td>\n",
       "      <td>206.787106</td>\n",
       "      <td>11.220508</td>\n",
       "      <td>0.685148</td>\n",
       "    </tr>\n",
       "    <tr>\n",
       "      <th>35</th>\n",
       "      <td>GBM_grid_1_AutoML_20181214_171415_model_7</td>\n",
       "      <td>207.000967</td>\n",
       "      <td>14.387528</td>\n",
       "      <td>207.000967</td>\n",
       "      <td>11.224433</td>\n",
       "      <td>0.685367</td>\n",
       "    </tr>\n",
       "    <tr>\n",
       "      <th>36</th>\n",
       "      <td>GBM_grid_1_AutoML_20181214_171415_model_4</td>\n",
       "      <td>207.653079</td>\n",
       "      <td>14.410173</td>\n",
       "      <td>207.653079</td>\n",
       "      <td>11.029978</td>\n",
       "      <td>0.624628</td>\n",
       "    </tr>\n",
       "    <tr>\n",
       "      <th>37</th>\n",
       "      <td>GLM_grid_1_AutoML_20181214_171415_model_1</td>\n",
       "      <td>209.296416</td>\n",
       "      <td>14.467080</td>\n",
       "      <td>209.296416</td>\n",
       "      <td>11.279221</td>\n",
       "      <td>0.688350</td>\n",
       "    </tr>\n",
       "    <tr>\n",
       "      <th>38</th>\n",
       "      <td>GBM_grid_1_AutoML_20181214_171415_model_18</td>\n",
       "      <td>286.934456</td>\n",
       "      <td>16.939140</td>\n",
       "      <td>286.934456</td>\n",
       "      <td>13.057883</td>\n",
       "      <td>NaN</td>\n",
       "    </tr>\n",
       "  </tbody>\n",
       "</table>\n",
       "</div>"
      ],
      "text/plain": [
       "                                               model_id  \\\n",
       "0      StackedEnsemble_AllModels_AutoML_20181214_171415   \n",
       "1   StackedEnsemble_BestOfFamily_AutoML_20181214_171415   \n",
       "2                          GBM_1_AutoML_20181214_171415   \n",
       "3    DeepLearning_grid_1_AutoML_20181214_171415_model_4   \n",
       "4             GBM_grid_1_AutoML_20181214_171415_model_6   \n",
       "5    DeepLearning_grid_1_AutoML_20181214_171415_model_1   \n",
       "6            GBM_grid_1_AutoML_20181214_171415_model_10   \n",
       "7                          GBM_3_AutoML_20181214_171415   \n",
       "8                          GBM_2_AutoML_20181214_171415   \n",
       "9                 DeepLearning_1_AutoML_20181214_171415   \n",
       "10           GBM_grid_1_AutoML_20181214_171415_model_22   \n",
       "11            GBM_grid_1_AutoML_20181214_171415_model_9   \n",
       "12            GBM_grid_1_AutoML_20181214_171415_model_8   \n",
       "13                         GBM_4_AutoML_20181214_171415   \n",
       "14   DeepLearning_grid_1_AutoML_20181214_171415_model_3   \n",
       "15            GBM_grid_1_AutoML_20181214_171415_model_1   \n",
       "16           GBM_grid_1_AutoML_20181214_171415_model_20   \n",
       "17                         DRF_1_AutoML_20181214_171415   \n",
       "18                         GBM_5_AutoML_20181214_171415   \n",
       "19           GBM_grid_1_AutoML_20181214_171415_model_15   \n",
       "20                         XRT_1_AutoML_20181214_171415   \n",
       "21   DeepLearning_grid_1_AutoML_20181214_171415_model_2   \n",
       "22   DeepLearning_grid_1_AutoML_20181214_171415_model_5   \n",
       "23           GBM_grid_1_AutoML_20181214_171415_model_21   \n",
       "24   DeepLearning_grid_1_AutoML_20181214_171415_model_6   \n",
       "25           GBM_grid_1_AutoML_20181214_171415_model_19   \n",
       "26           GBM_grid_1_AutoML_20181214_171415_model_11   \n",
       "27            GBM_grid_1_AutoML_20181214_171415_model_5   \n",
       "28           GBM_grid_1_AutoML_20181214_171415_model_14   \n",
       "29            GBM_grid_1_AutoML_20181214_171415_model_3   \n",
       "30           GBM_grid_1_AutoML_20181214_171415_model_16   \n",
       "31           GBM_grid_1_AutoML_20181214_171415_model_17   \n",
       "32            GBM_grid_1_AutoML_20181214_171415_model_2   \n",
       "33           GBM_grid_1_AutoML_20181214_171415_model_13   \n",
       "34           GBM_grid_1_AutoML_20181214_171415_model_12   \n",
       "35            GBM_grid_1_AutoML_20181214_171415_model_7   \n",
       "36            GBM_grid_1_AutoML_20181214_171415_model_4   \n",
       "37            GLM_grid_1_AutoML_20181214_171415_model_1   \n",
       "38           GBM_grid_1_AutoML_20181214_171415_model_18   \n",
       "\n",
       "    mean_residual_deviance       rmse         mse        mae     rmsle  \n",
       "0               145.986803  12.082500  145.986803   9.653954  0.537688  \n",
       "1               148.794055  12.198117  148.794055   9.715667  0.547431  \n",
       "2               151.040373  12.289848  151.040373   9.609440  0.530786  \n",
       "3               152.873410  12.364199  152.873410   9.738334  0.539381  \n",
       "4               154.960324  12.448306  154.960324   9.819966  0.552667  \n",
       "5               155.347497  12.463848  155.347497   9.919074       NaN  \n",
       "6               155.900627  12.486017  155.900627   9.823457  0.556251  \n",
       "7               157.146871  12.535823  157.146871   9.856006  0.547667  \n",
       "8               158.074865  12.572783  158.074865   9.956603  0.555240  \n",
       "9               158.138707  12.575321  158.138707  10.006391  0.590403  \n",
       "10              158.479663  12.588871  158.479663   9.993933  0.577565  \n",
       "11              158.757987  12.599920  158.757987   9.921727  0.563707  \n",
       "12              159.335493  12.622816  159.335493   9.957388  0.576630  \n",
       "13              160.969439  12.687373  160.969439  10.005438  0.560223  \n",
       "14              162.398991  12.743586  162.398991  10.176347  0.595785  \n",
       "15              163.969116  12.805043  163.969116  10.219684  0.592133  \n",
       "16              164.414232  12.822411  164.414232  10.226732  0.619390  \n",
       "17              166.018265  12.884808  166.018265  10.236247  0.560546  \n",
       "18              167.944404  12.959337  167.944404  10.364619  0.623944  \n",
       "19              169.106537  13.004097  169.106537  10.422205  0.594940  \n",
       "20              170.633884  13.062691  170.633884  10.257919  0.589472  \n",
       "21              171.772395  13.106197  171.772395  10.437427       NaN  \n",
       "22              174.408302  13.206374  174.408302  10.540587  0.641852  \n",
       "23              175.993788  13.266265  175.993788  10.375867  0.620447  \n",
       "24              180.868289  13.448728  180.868289  10.760933  0.625677  \n",
       "25              194.093091  13.931730  194.093091  10.977675       NaN  \n",
       "26              195.062962  13.966494  195.062962  10.980531  0.632971  \n",
       "27              196.963714  14.034376  196.963714  10.979607  0.672310  \n",
       "28              198.240410  14.079787  198.240410  11.016348  0.673430  \n",
       "29              198.592958  14.092301  198.592958  10.995438       NaN  \n",
       "30              199.065749  14.109066  199.065749  11.026678  0.674799  \n",
       "31              200.586159  14.162844  200.586159  11.074419  0.677784  \n",
       "32              201.065473  14.179756  201.065473  11.107513       NaN  \n",
       "33              201.301339  14.188070  201.301339  11.082915  0.679754  \n",
       "34              206.787106  14.380094  206.787106  11.220508  0.685148  \n",
       "35              207.000967  14.387528  207.000967  11.224433  0.685367  \n",
       "36              207.653079  14.410173  207.653079  11.029978  0.624628  \n",
       "37              209.296416  14.467080  209.296416  11.279221  0.688350  \n",
       "38              286.934456  16.939140  286.934456  13.057883       NaN  "
      ]
     },
     "execution_count": 126,
     "metadata": {},
     "output_type": "execute_result"
    }
   ],
   "source": [
    "aml_leaderboard_df"
   ]
  },
  {
   "cell_type": "code",
   "execution_count": 127,
   "metadata": {},
   "outputs": [],
   "source": [
    "#  Get best_models and coef_norm()\n",
    "best_models={}\n",
    "best_models=stackedensemble(mod_best)\n",
    "bm=[]\n",
    "if best_models is not None: \n",
    "  if 'Intercept' in best_models.keys():\n",
    "    del best_models['Intercept']\n",
    "  bm=list(best_models.keys())\n",
    "else:\n",
    "  best_models={}\n",
    "  bm=stackedensemble_df(aml_leaderboard_df)   \n",
    "  for b in bm:   \n",
    "    best_models[b]=None\n",
    "\n",
    "if mod_best.model_id not in bm:\n",
    "    bm.append(mod_best.model_id)"
   ]
  },
  {
   "cell_type": "code",
   "execution_count": 128,
   "metadata": {},
   "outputs": [
    {
     "data": {
      "text/plain": [
       "['GBM_1_AutoML_20181214_171415',\n",
       " 'DeepLearning_grid_1_AutoML_20181214_171415_model_4',\n",
       " 'DRF_1_AutoML_20181214_171415',\n",
       " 'XRT_1_AutoML_20181214_171415',\n",
       " 'GLM_grid_1_AutoML_20181214_171415_model_1',\n",
       " 'StackedEnsemble_BestOfFamily_AutoML_20181214_171415']"
      ]
     },
     "execution_count": 128,
     "metadata": {},
     "output_type": "execute_result"
    }
   ],
   "source": [
    "bm"
   ]
  },
  {
   "cell_type": "code",
   "execution_count": 129,
   "metadata": {},
   "outputs": [],
   "source": [
    "# Best of Family leaderboard\n",
    "\n",
    "aml_leaderboard_df=aml_leaderboard_df.loc[aml_leaderboard_df['model_id'].isin(bm)]"
   ]
  },
  {
   "cell_type": "code",
   "execution_count": 130,
   "metadata": {},
   "outputs": [
    {
     "data": {
      "text/html": [
       "<div>\n",
       "<style scoped>\n",
       "    .dataframe tbody tr th:only-of-type {\n",
       "        vertical-align: middle;\n",
       "    }\n",
       "\n",
       "    .dataframe tbody tr th {\n",
       "        vertical-align: top;\n",
       "    }\n",
       "\n",
       "    .dataframe thead th {\n",
       "        text-align: right;\n",
       "    }\n",
       "</style>\n",
       "<table border=\"1\" class=\"dataframe\">\n",
       "  <thead>\n",
       "    <tr style=\"text-align: right;\">\n",
       "      <th></th>\n",
       "      <th>model_id</th>\n",
       "      <th>mean_residual_deviance</th>\n",
       "      <th>rmse</th>\n",
       "      <th>mse</th>\n",
       "      <th>mae</th>\n",
       "      <th>rmsle</th>\n",
       "    </tr>\n",
       "  </thead>\n",
       "  <tbody>\n",
       "    <tr>\n",
       "      <th>1</th>\n",
       "      <td>StackedEnsemble_BestOfFamily_AutoML_20181214_171415</td>\n",
       "      <td>148.794055</td>\n",
       "      <td>12.198117</td>\n",
       "      <td>148.794055</td>\n",
       "      <td>9.715667</td>\n",
       "      <td>0.547431</td>\n",
       "    </tr>\n",
       "    <tr>\n",
       "      <th>2</th>\n",
       "      <td>GBM_1_AutoML_20181214_171415</td>\n",
       "      <td>151.040373</td>\n",
       "      <td>12.289848</td>\n",
       "      <td>151.040373</td>\n",
       "      <td>9.609440</td>\n",
       "      <td>0.530786</td>\n",
       "    </tr>\n",
       "    <tr>\n",
       "      <th>3</th>\n",
       "      <td>DeepLearning_grid_1_AutoML_20181214_171415_model_4</td>\n",
       "      <td>152.873410</td>\n",
       "      <td>12.364199</td>\n",
       "      <td>152.873410</td>\n",
       "      <td>9.738334</td>\n",
       "      <td>0.539381</td>\n",
       "    </tr>\n",
       "    <tr>\n",
       "      <th>17</th>\n",
       "      <td>DRF_1_AutoML_20181214_171415</td>\n",
       "      <td>166.018265</td>\n",
       "      <td>12.884808</td>\n",
       "      <td>166.018265</td>\n",
       "      <td>10.236247</td>\n",
       "      <td>0.560546</td>\n",
       "    </tr>\n",
       "    <tr>\n",
       "      <th>20</th>\n",
       "      <td>XRT_1_AutoML_20181214_171415</td>\n",
       "      <td>170.633884</td>\n",
       "      <td>13.062691</td>\n",
       "      <td>170.633884</td>\n",
       "      <td>10.257919</td>\n",
       "      <td>0.589472</td>\n",
       "    </tr>\n",
       "    <tr>\n",
       "      <th>37</th>\n",
       "      <td>GLM_grid_1_AutoML_20181214_171415_model_1</td>\n",
       "      <td>209.296416</td>\n",
       "      <td>14.467080</td>\n",
       "      <td>209.296416</td>\n",
       "      <td>11.279221</td>\n",
       "      <td>0.688350</td>\n",
       "    </tr>\n",
       "  </tbody>\n",
       "</table>\n",
       "</div>"
      ],
      "text/plain": [
       "                                               model_id  \\\n",
       "1   StackedEnsemble_BestOfFamily_AutoML_20181214_171415   \n",
       "2                          GBM_1_AutoML_20181214_171415   \n",
       "3    DeepLearning_grid_1_AutoML_20181214_171415_model_4   \n",
       "17                         DRF_1_AutoML_20181214_171415   \n",
       "20                         XRT_1_AutoML_20181214_171415   \n",
       "37            GLM_grid_1_AutoML_20181214_171415_model_1   \n",
       "\n",
       "    mean_residual_deviance       rmse         mse        mae     rmsle  \n",
       "1               148.794055  12.198117  148.794055   9.715667  0.547431  \n",
       "2               151.040373  12.289848  151.040373   9.609440  0.530786  \n",
       "3               152.873410  12.364199  152.873410   9.738334  0.539381  \n",
       "17              166.018265  12.884808  166.018265  10.236247  0.560546  \n",
       "20              170.633884  13.062691  170.633884  10.257919  0.589472  \n",
       "37              209.296416  14.467080  209.296416  11.279221  0.688350  "
      ]
     },
     "execution_count": 130,
     "metadata": {},
     "output_type": "execute_result"
    }
   ],
   "source": [
    "aml_leaderboard_df"
   ]
  },
  {
   "cell_type": "code",
   "execution_count": 131,
   "metadata": {},
   "outputs": [],
   "source": [
    "# save leaderboard\n",
    "leaderboard_stats=run_id+'_leaderboard.csv'\n",
    "aml_leaderboard_df.to_csv(leaderboard_stats)"
   ]
  },
  {
   "cell_type": "code",
   "execution_count": 132,
   "metadata": {},
   "outputs": [
    {
     "name": "stdout",
     "output_type": "stream",
     "text": [
      "StackedEnsemble_BestOfFamily_AutoML_20181214_171415\n"
     ]
    }
   ],
   "source": [
    "top=aml_leaderboard_df.iloc[0]['model_id']\n",
    "print(top)"
   ]
  },
  {
   "cell_type": "code",
   "execution_count": 133,
   "metadata": {},
   "outputs": [
    {
     "name": "stdout",
     "output_type": "stream",
     "text": [
      "StackedEnsemble_BestOfFamily_AutoML_20181214_171415\n",
      "stackedensemble\n"
     ]
    }
   ],
   "source": [
    "mod_best=h2o.get_model(top)\n",
    "print(mod_best._id)\n",
    "print(mod_best.algo)"
   ]
  },
  {
   "cell_type": "code",
   "execution_count": 134,
   "metadata": {},
   "outputs": [],
   "source": [
    "meta_data['mod_best']=mod_best._id\n",
    "meta_data['mod_best_algo']=mod_best.algo"
   ]
  },
  {
   "cell_type": "code",
   "execution_count": 135,
   "metadata": {},
   "outputs": [],
   "source": [
    "meta_data['models']=bm"
   ]
  },
  {
   "cell_type": "code",
   "execution_count": 136,
   "metadata": {},
   "outputs": [],
   "source": [
    "models_path=os.path.join(run_dir,'models')\n",
    "for mod in bm:\n",
    "  try:   \n",
    "    m=h2o.get_model(mod) \n",
    "    h2o.save_model(m, path = models_path)\n",
    "  except:    \n",
    "    pass    "
   ]
  },
  {
   "cell_type": "code",
   "execution_count": 137,
   "metadata": {},
   "outputs": [
    {
     "name": "stdout",
     "output_type": "stream",
     "text": [
      "C:\\Users\\prabh\\WXf3Ticdf\\models\n"
     ]
    }
   ],
   "source": [
    "print(models_path)"
   ]
  },
  {
   "cell_type": "code",
   "execution_count": 138,
   "metadata": {},
   "outputs": [
    {
     "name": "stdout",
     "output_type": "stream",
     "text": [
      "{'algo': 'gbm', 'model_id': 'GBM_1_AutoML_20181214_171415', 'varimp': [('Cabin', 176905.90625, 1.0, 0.34828746381739056), ('PassengerId', 70705.453125, 0.3996783070943964, 0.1392029439207355), ('Pclass', 58239.265625, 0.3292104082873152, 0.11465985816467665), ('SibSp', 48826.41796875, 0.2760021923730995, 0.09612810358966635), ('Fare', 48579.80078125, 0.2746081338437506, 0.09564257048006644), ('Parch', 40474.29296875, 0.2287899473042608, 0.07968467049351542), ('Survived', 19565.40625, 0.1105978125023737, 0.038519831620203025), ('Ticket', 17843.427734375, 0.10086394576989992, 0.035129647862813265), ('Sex', 14574.671875, 0.08238657591456193, 0.028694211577881688), ('Embarked', 12216.0888671875, 0.06905416063341582, 0.02405069847305109)]}\n"
     ]
    }
   ],
   "source": [
    "# GBM\n",
    " \n",
    "mod,mod_id=get_model_by_algo(\"GBM\",best_models)\n",
    "if mod is not None:\n",
    "    try:     \n",
    "        sh_df=mod.scoring_history()\n",
    "        sh_df.to_csv(run_id+'_gbm_scoring_history.csv') \n",
    "    except:\n",
    "        pass   \n",
    "    try:     \n",
    "        stats_gbm={}\n",
    "        stats_gbm=gbm_stats(mod)\n",
    "        n=run_id+'_gbm_stats.json'\n",
    "        dict_to_json(stats_gbm,n)\n",
    "        print(stats_gbm)\n",
    "    except:\n",
    "        pass        "
   ]
  },
  {
   "cell_type": "code",
   "execution_count": 139,
   "metadata": {},
   "outputs": [
    {
     "name": "stdout",
     "output_type": "stream",
     "text": [
      "{'algo': 'gbm', 'model_id': 'GBM_1_AutoML_20181214_171415', 'varimp': [('Cabin', 176905.90625, 1.0, 0.34828746381739056), ('PassengerId', 70705.453125, 0.3996783070943964, 0.1392029439207355), ('Pclass', 58239.265625, 0.3292104082873152, 0.11465985816467665), ('SibSp', 48826.41796875, 0.2760021923730995, 0.09612810358966635), ('Fare', 48579.80078125, 0.2746081338437506, 0.09564257048006644), ('Parch', 40474.29296875, 0.2287899473042608, 0.07968467049351542), ('Survived', 19565.40625, 0.1105978125023737, 0.038519831620203025), ('Ticket', 17843.427734375, 0.10086394576989992, 0.035129647862813265), ('Sex', 14574.671875, 0.08238657591456193, 0.028694211577881688), ('Embarked', 12216.0888671875, 0.06905416063341582, 0.02405069847305109)]}\n"
     ]
    }
   ],
   "source": [
    "if mod is not None:\n",
    "    try:    \n",
    "        sh_df=mod.scoring_history()\n",
    "        sh_df.to_csv(run_id+'_dl_scoring_history.csv') \n",
    "    except:\n",
    "        pass \n",
    "    try:\n",
    "        stats_dl={}\n",
    "        stats_dl=dl_stats(mod)\n",
    "        n=run_id+'_dl_stats.json'\n",
    "        dict_to_json(stats_dl,n)\n",
    "        print(stats_dl)\n",
    "    except:\n",
    "        pass    \n",
    "    try:\n",
    "        cf=mod.confusion_matrix()    \n",
    "        cf_df.to_csv(run_id+'_dl_confusion_matrix.csv')\n",
    "    except:\n",
    "        pass       "
   ]
  },
  {
   "cell_type": "code",
   "execution_count": 140,
   "metadata": {},
   "outputs": [],
   "source": [
    "# DRF\n",
    "\n",
    "mod,mod_id=get_model_by_algo(\"DRF\",best_models)\n",
    "if mod is not None:\n",
    "    try:     \n",
    "         sh_df=mod.scoring_history()\n",
    "         sh_df.to_csv(run_id+'_drf_scoring_history.csv') \n",
    "    except:\n",
    "         pass  \n",
    "    try: \n",
    "         stats_drf={}\n",
    "         stats_drf=drf_stats(mod)\n",
    "         n=run_id+'_drf_stats.json'\n",
    "         dict_to_json(stats_drf,n)\n",
    "         print(stats_drf)\n",
    "    except:\n",
    "         pass     "
   ]
  },
  {
   "cell_type": "code",
   "execution_count": 141,
   "metadata": {},
   "outputs": [],
   "source": [
    "# XRT\n",
    "\n",
    "mod,mod_id=get_model_by_algo(\"XRT\",best_models)\n",
    "if mod is not None:\n",
    "    try:     \n",
    "         sh_df=mod.scoring_history()\n",
    "         sh_df.to_csv(run_id+'_xrt_scoring_history.csv')\n",
    "    except:\n",
    "         pass     \n",
    "    try:        \n",
    "         stats_xrt={}\n",
    "         stats_xrt=xrt_stats(mod)\n",
    "         n=run_id+'_xrt_stats.json'\n",
    "         dict_to_json(stats_xrt,n)\n",
    "         print(stats_xrt)\n",
    "    except:\n",
    "         pass     "
   ]
  },
  {
   "cell_type": "code",
   "execution_count": 142,
   "metadata": {},
   "outputs": [
    {
     "name": "stdout",
     "output_type": "stream",
     "text": [
      "{'algo': 'glm', 'model_id': 'GLM_grid_1_AutoML_20181214_171415_model_1', 'coef': {'Intercept': 29.931577388309464, 'Cabin.A10': 1.7889885595391946e-05, 'Cabin.A14': 0.0, 'Cabin.A16': 5.327157853594956e-05, 'Cabin.A19': 0.0, 'Cabin.A20': 5.621322818209506e-05, 'Cabin.A23': 0.0001475026456284589, 'Cabin.A24': 3.166271310578935e-06, 'Cabin.A26': 7.68087552852573e-05, 'Cabin.A31': 2.9691651567974238e-05, 'Cabin.A32': 0.0, 'Cabin.A34': -7.631909956211258e-05, 'Cabin.A36': 2.6734436332794794e-05, 'Cabin.A5': 0.00012099425832625229, 'Cabin.A6': -5.649198070709256e-06, 'Cabin.A7': 0.0, 'Cabin.B101': 1.4884411775774374e-05, 'Cabin.B102': 0.0, 'Cabin.B18': -4.0979276281272954e-05, 'Cabin.B19': 9.153730191711037e-05, 'Cabin.B20': -3.485005689254223e-05, 'Cabin.B22': 1.7948416865252497e-05, 'Cabin.B28': 0.0001182883455132549, 'Cabin.B3': 3.851613846067888e-05, 'Cabin.B30': 0.00010333176879618606, 'Cabin.B35': -3.4867773694174445e-05, 'Cabin.B37': 8.269214322204722e-05, 'Cabin.B38': 4.440655973215861e-05, 'Cabin.B39': -2.3293176210617257e-05, 'Cabin.B4': 4.148551137502664e-05, 'Cabin.B41': 8.862051033656629e-05, 'Cabin.B42': -3.21620133970793e-05, 'Cabin.B49': -4.6637625874745653e-05, 'Cabin.B5': -4.66912352423672e-05, 'Cabin.B50': 6.119643623071419e-06, 'Cabin.B51 B53 B55': 2.69055464202083e-05, 'Cabin.B57 B59 B63 B66': -6.129397254674507e-05, 'Cabin.B58 B60': 4.1682310639053914e-05, 'Cabin.B69': 6.506113628236158e-05, 'Cabin.B71': 3.1870833394493118e-06, 'Cabin.B73': 2.2989628283484118e-07, 'Cabin.B77': 9.066623362155633e-06, 'Cabin.B78': 0.0, 'Cabin.B79': -4.10019543856434e-05, 'Cabin.B80': 8.270244184856701e-05, 'Cabin.B82 B84': 4.7341847015639565e-05, 'Cabin.B86': -1.7448276388726104e-05, 'Cabin.B94': 2.9687505461474683e-05, 'Cabin.B96 B98': -0.0029667820471973145, 'Cabin.C101': 6.801713960750505e-05, 'Cabin.C103': 8.272236865566226e-05, 'Cabin.C104': 6.503572127098214e-05, 'Cabin.C106': 0.0, 'Cabin.C110': 0.0, 'Cabin.C111': 2.2395825004853605e-07, 'Cabin.C118': 2.0866114016057554e-05, 'Cabin.C123': 3.5854612665811515e-05, 'Cabin.C124': 4.588184624348547e-05, 'Cabin.C125': 0.00011240031836647121, 'Cabin.C126': 5.326258099683177e-05, 'Cabin.C128': 0.0, 'Cabin.C148': -1.1553694535135495e-05, 'Cabin.C2': -2.600825820084216e-05, 'Cabin.C22 C26': -9.666131572649664e-05, 'Cabin.C23 C25 C27': 3.060888332004266e-05, 'Cabin.C30': 7.38607865594883e-05, 'Cabin.C32': 1.79030710889596e-05, 'Cabin.C45': 2.3773742968866637e-05, 'Cabin.C46': 1.7902229563344973e-05, 'Cabin.C47': 0.0, 'Cabin.C49': 5.9147528472945256e-05, 'Cabin.C50': 7.682305607837811e-05, 'Cabin.C52': -5.653591323911178e-06, 'Cabin.C54': -1.7440320800462264e-05, 'Cabin.C62 C64': -3.5116173995306126e-05, 'Cabin.C65': -7.314932328705988e-05, 'Cabin.C68': 8.297262902066085e-05, 'Cabin.C7': 3.2032376772385824e-06, 'Cabin.C70': -3.803744700390202e-05, 'Cabin.C78': 5.0574003425804495e-05, 'Cabin.C82': -8.604771310700454e-06, 'Cabin.C83': 5.94018048476757e-05, 'Cabin.C85': 2.3827038847277894e-05, 'Cabin.C86': 5.91409311526677e-05, 'Cabin.C87': 9.448274123482358e-05, 'Cabin.C90': -1.74336660399223e-05, 'Cabin.C91': 2.3793220986365072e-05, 'Cabin.C92': 5.620339058094106e-05, 'Cabin.C93': 3.878559060493399e-05, 'Cabin.C95': 0.0, 'Cabin.C99': 1.4960705479390185e-05, 'Cabin.D': 1.5558461073915236e-05, 'Cabin.D10 D12': -2.0362088448960307e-05, 'Cabin.D11': 6.210109471154283e-05, 'Cabin.D15': 6.125445603790608e-06, 'Cabin.D17': 0.00010945319957239417, 'Cabin.D19': 3.5591014498356534e-05, 'Cabin.D20': 0.0001359863861968912, 'Cabin.D21': 0.0, 'Cabin.D26': 4.465884513684575e-05, 'Cabin.D28': -4.09772779023019e-05, 'Cabin.D30': -3.216331541636545e-05, 'Cabin.D33': 5.326399876904857e-05, 'Cabin.D35': 7.12266611502796e-05, 'Cabin.D36': -1.717961253075335e-05, 'Cabin.D37': 8.861638218281238e-05, 'Cabin.D45': 0.0, 'Cabin.D46': 5.029438923457703e-05, 'Cabin.D47': -3.2117843744619925e-05, 'Cabin.D48': 8.271282863433929e-05, 'Cabin.D49': 0.0, 'Cabin.D50': 9.152901512627192e-05, 'Cabin.D56': 1.2065691610551935e-05, 'Cabin.D6': -2.7241900266145204e-06, 'Cabin.D7': 9.7453055920804e-05, 'Cabin.D9': -2.6277904695771984e-05, 'Cabin.E10': 6.205201607375707e-06, 'Cabin.E101': -9.130325177720232e-07, 'Cabin.E12': 5.325189852527073e-05, 'Cabin.E121': -7.885848871936693e-05, 'Cabin.E17': 6.208516366089788e-05, 'Cabin.E24': 3.558262103813294e-05, 'Cabin.E25': 1.7911976088359985e-05, 'Cabin.E31': 4.737509882556189e-05, 'Cabin.E33': -2.33043237522676e-05, 'Cabin.E34': 2.9714438251541743e-05, 'Cabin.E36': 2.4332658711576505e-07, 'Cabin.E38': 0.00010331335023900626, 'Cabin.E40': 3.262341898057928e-05, 'Cabin.E44': 8.590789156636242e-05, 'Cabin.E46': 7.091611935334822e-05, 'Cabin.E49': 2.6776715734377974e-05, 'Cabin.E50': -1.448034749966358e-05, 'Cabin.E58': 5.029279546758096e-05, 'Cabin.E63': 5.0296490049283624e-05, 'Cabin.E67': 9.183501205824854e-05, 'Cabin.E68': -3.507535986368593e-05, 'Cabin.E77': 7.979726084389906e-05, 'Cabin.E8': 9.089642977934756e-06, 'Cabin.F E69': 0.0, 'Cabin.F G63': 3.5647529283331626e-05, 'Cabin.F G73': -3.2097395148661684e-05, 'Cabin.F2': -0.0001613694343201144, 'Cabin.F33': -7.972970633464351e-06, 'Cabin.F38': 0.0, 'Cabin.F4': -0.00016133345296319375, 'Cabin.G6': -0.00017826421674908645, 'Cabin.T': 0.0, 'Embarked.C': 0.00041572167189854323, 'Embarked.Q': -6.426151286361864e-05, 'Embarked.S': -0.0003514631952074015, 'Sex.female': -0.0012416368579228959, 'Sex.male': 0.0012416378046750027, 'PassengerId': 4.7813847336345e-06, 'Survived': -0.003596861175424309, 'Pclass': -0.011878087741678263, 'SibSp': -0.0062102408163390525, 'Parch': -0.006075768038415728, 'Ticket': -9.448548634644196e-09, 'Fare': 5.418240175260776e-05}, 'coef_norm': {'Intercept': 29.898848046009313, 'Cabin.A10': 1.7889885595391946e-05, 'Cabin.A14': 0.0, 'Cabin.A16': 5.327157853594956e-05, 'Cabin.A19': 0.0, 'Cabin.A20': 5.621322818209506e-05, 'Cabin.A23': 0.0001475026456284589, 'Cabin.A24': 3.166271310578935e-06, 'Cabin.A26': 7.68087552852573e-05, 'Cabin.A31': 2.9691651567974238e-05, 'Cabin.A32': 0.0, 'Cabin.A34': -7.631909956211258e-05, 'Cabin.A36': 2.6734436332794794e-05, 'Cabin.A5': 0.00012099425832625229, 'Cabin.A6': -5.649198070709256e-06, 'Cabin.A7': 0.0, 'Cabin.B101': 1.4884411775774374e-05, 'Cabin.B102': 0.0, 'Cabin.B18': -4.0979276281272954e-05, 'Cabin.B19': 9.153730191711037e-05, 'Cabin.B20': -3.485005689254223e-05, 'Cabin.B22': 1.7948416865252497e-05, 'Cabin.B28': 0.0001182883455132549, 'Cabin.B3': 3.851613846067888e-05, 'Cabin.B30': 0.00010333176879618606, 'Cabin.B35': -3.4867773694174445e-05, 'Cabin.B37': 8.269214322204722e-05, 'Cabin.B38': 4.440655973215861e-05, 'Cabin.B39': -2.3293176210617257e-05, 'Cabin.B4': 4.148551137502664e-05, 'Cabin.B41': 8.862051033656629e-05, 'Cabin.B42': -3.21620133970793e-05, 'Cabin.B49': -4.6637625874745653e-05, 'Cabin.B5': -4.66912352423672e-05, 'Cabin.B50': 6.119643623071419e-06, 'Cabin.B51 B53 B55': 2.69055464202083e-05, 'Cabin.B57 B59 B63 B66': -6.129397254674507e-05, 'Cabin.B58 B60': 4.1682310639053914e-05, 'Cabin.B69': 6.506113628236158e-05, 'Cabin.B71': 3.1870833394493118e-06, 'Cabin.B73': 2.2989628283484118e-07, 'Cabin.B77': 9.066623362155633e-06, 'Cabin.B78': 0.0, 'Cabin.B79': -4.10019543856434e-05, 'Cabin.B80': 8.270244184856701e-05, 'Cabin.B82 B84': 4.7341847015639565e-05, 'Cabin.B86': -1.7448276388726104e-05, 'Cabin.B94': 2.9687505461474683e-05, 'Cabin.B96 B98': -0.0029667820471973145, 'Cabin.C101': 6.801713960750505e-05, 'Cabin.C103': 8.272236865566226e-05, 'Cabin.C104': 6.503572127098214e-05, 'Cabin.C106': 0.0, 'Cabin.C110': 0.0, 'Cabin.C111': 2.2395825004853605e-07, 'Cabin.C118': 2.0866114016057554e-05, 'Cabin.C123': 3.5854612665811515e-05, 'Cabin.C124': 4.588184624348547e-05, 'Cabin.C125': 0.00011240031836647121, 'Cabin.C126': 5.326258099683177e-05, 'Cabin.C128': 0.0, 'Cabin.C148': -1.1553694535135495e-05, 'Cabin.C2': -2.600825820084216e-05, 'Cabin.C22 C26': -9.666131572649664e-05, 'Cabin.C23 C25 C27': 3.060888332004266e-05, 'Cabin.C30': 7.38607865594883e-05, 'Cabin.C32': 1.79030710889596e-05, 'Cabin.C45': 2.3773742968866637e-05, 'Cabin.C46': 1.7902229563344973e-05, 'Cabin.C47': 0.0, 'Cabin.C49': 5.9147528472945256e-05, 'Cabin.C50': 7.682305607837811e-05, 'Cabin.C52': -5.653591323911178e-06, 'Cabin.C54': -1.7440320800462264e-05, 'Cabin.C62 C64': -3.5116173995306126e-05, 'Cabin.C65': -7.314932328705988e-05, 'Cabin.C68': 8.297262902066085e-05, 'Cabin.C7': 3.2032376772385824e-06, 'Cabin.C70': -3.803744700390202e-05, 'Cabin.C78': 5.0574003425804495e-05, 'Cabin.C82': -8.604771310700454e-06, 'Cabin.C83': 5.94018048476757e-05, 'Cabin.C85': 2.3827038847277894e-05, 'Cabin.C86': 5.91409311526677e-05, 'Cabin.C87': 9.448274123482358e-05, 'Cabin.C90': -1.74336660399223e-05, 'Cabin.C91': 2.3793220986365072e-05, 'Cabin.C92': 5.620339058094106e-05, 'Cabin.C93': 3.878559060493399e-05, 'Cabin.C95': 0.0, 'Cabin.C99': 1.4960705479390185e-05, 'Cabin.D': 1.5558461073915236e-05, 'Cabin.D10 D12': -2.0362088448960307e-05, 'Cabin.D11': 6.210109471154283e-05, 'Cabin.D15': 6.125445603790608e-06, 'Cabin.D17': 0.00010945319957239417, 'Cabin.D19': 3.5591014498356534e-05, 'Cabin.D20': 0.0001359863861968912, 'Cabin.D21': 0.0, 'Cabin.D26': 4.465884513684575e-05, 'Cabin.D28': -4.09772779023019e-05, 'Cabin.D30': -3.216331541636545e-05, 'Cabin.D33': 5.326399876904857e-05, 'Cabin.D35': 7.12266611502796e-05, 'Cabin.D36': -1.717961253075335e-05, 'Cabin.D37': 8.861638218281238e-05, 'Cabin.D45': 0.0, 'Cabin.D46': 5.029438923457703e-05, 'Cabin.D47': -3.2117843744619925e-05, 'Cabin.D48': 8.271282863433929e-05, 'Cabin.D49': 0.0, 'Cabin.D50': 9.152901512627192e-05, 'Cabin.D56': 1.2065691610551935e-05, 'Cabin.D6': -2.7241900266145204e-06, 'Cabin.D7': 9.7453055920804e-05, 'Cabin.D9': -2.6277904695771984e-05, 'Cabin.E10': 6.205201607375707e-06, 'Cabin.E101': -9.130325177720232e-07, 'Cabin.E12': 5.325189852527073e-05, 'Cabin.E121': -7.885848871936693e-05, 'Cabin.E17': 6.208516366089788e-05, 'Cabin.E24': 3.558262103813294e-05, 'Cabin.E25': 1.7911976088359985e-05, 'Cabin.E31': 4.737509882556189e-05, 'Cabin.E33': -2.33043237522676e-05, 'Cabin.E34': 2.9714438251541743e-05, 'Cabin.E36': 2.4332658711576505e-07, 'Cabin.E38': 0.00010331335023900626, 'Cabin.E40': 3.262341898057928e-05, 'Cabin.E44': 8.590789156636242e-05, 'Cabin.E46': 7.091611935334822e-05, 'Cabin.E49': 2.6776715734377974e-05, 'Cabin.E50': -1.448034749966358e-05, 'Cabin.E58': 5.029279546758096e-05, 'Cabin.E63': 5.0296490049283624e-05, 'Cabin.E67': 9.183501205824854e-05, 'Cabin.E68': -3.507535986368593e-05, 'Cabin.E77': 7.979726084389906e-05, 'Cabin.E8': 9.089642977934756e-06, 'Cabin.F E69': 0.0, 'Cabin.F G63': 3.5647529283331626e-05, 'Cabin.F G73': -3.2097395148661684e-05, 'Cabin.F2': -0.0001613694343201144, 'Cabin.F33': -7.972970633464351e-06, 'Cabin.F38': 0.0, 'Cabin.F4': -0.00016133345296319375, 'Cabin.G6': -0.00017826421674908645, 'Cabin.T': 0.0, 'Embarked.C': 0.00041572167189854323, 'Embarked.Q': -6.426151286361864e-05, 'Embarked.S': -0.0003514631952074015, 'Sex.female': -0.0012416368579228959, 'Sex.male': 0.0012416378046750027, 'PassengerId': 0.0012236209128394212, 'Survived': -0.0017489957143210651, 'Pclass': -0.009980923688533832, 'SibSp': -0.006989862673008236, 'Parch': -0.004985961681301473, 'Ticket': -0.0035454801896929247, 'Fare': 0.0027998621851261733}}"
     ]
    },
    {
     "name": "stdout",
     "output_type": "stream",
     "text": [
      "\n"
     ]
    }
   ],
   "source": [
    "# GLM\n",
    "\n",
    "mod,mod_id=get_model_by_algo(\"GLM\",best_models)\n",
    "if mod is not None:\n",
    "    try:     \n",
    "         stats_glm={}\n",
    "         stats_glm=glm_stats(mod)\n",
    "         n=run_id+'_glm_stats.json'\n",
    "         dict_to_json(stats_glm,n)\n",
    "         print(stats_glm)\n",
    "    except:\n",
    "         pass     "
   ]
  },
  {
   "cell_type": "code",
   "execution_count": 143,
   "metadata": {},
   "outputs": [],
   "source": [
    "# split into training and test for showing how to predict\n",
    "train, test = df.split_frame([0.8])"
   ]
  },
  {
   "cell_type": "code",
   "execution_count": 144,
   "metadata": {},
   "outputs": [
    {
     "name": "stdout",
     "output_type": "stream",
     "text": [
      "stackedensemble prediction progress: |████████████████████████████████████| 100%\n"
     ]
    }
   ],
   "source": [
    "predictions_df=predictions_test(mod_best,test,run_id)"
   ]
  },
  {
   "cell_type": "code",
   "execution_count": 145,
   "metadata": {},
   "outputs": [
    {
     "data": {
      "text/html": [
       "<table>\n",
       "<thead>\n",
       "<tr><th style=\"text-align: right;\">  predict</th></tr>\n",
       "</thead>\n",
       "<tbody>\n",
       "<tr><td style=\"text-align: right;\">  47.4265</td></tr>\n",
       "<tr><td style=\"text-align: right;\">  27.331 </td></tr>\n",
       "<tr><td style=\"text-align: right;\">  42.332 </td></tr>\n",
       "<tr><td style=\"text-align: right;\">  38.7472</td></tr>\n",
       "<tr><td style=\"text-align: right;\">  27.1912</td></tr>\n",
       "<tr><td style=\"text-align: right;\">  15.5921</td></tr>\n",
       "<tr><td style=\"text-align: right;\">  11.7798</td></tr>\n",
       "<tr><td style=\"text-align: right;\">  28.9408</td></tr>\n",
       "<tr><td style=\"text-align: right;\">  17.2598</td></tr>\n",
       "<tr><td style=\"text-align: right;\">  41.6262</td></tr>\n",
       "</tbody>\n",
       "</table>"
      ]
     },
     "metadata": {},
     "output_type": "display_data"
    },
    {
     "data": {
      "text/plain": []
     },
     "execution_count": 145,
     "metadata": {},
     "output_type": "execute_result"
    }
   ],
   "source": [
    "predictions_df.head()"
   ]
  },
  {
   "cell_type": "code",
   "execution_count": 146,
   "metadata": {},
   "outputs": [
    {
     "name": "stdout",
     "output_type": "stream",
     "text": [
      "Rows:179\n",
      "Cols:1\n",
      "\n",
      "\n"
     ]
    },
    {
     "data": {
      "text/html": [
       "<table>\n",
       "<thead>\n",
       "<tr><th>       </th><th>predict           </th></tr>\n",
       "</thead>\n",
       "<tbody>\n",
       "<tr><td>type   </td><td>real              </td></tr>\n",
       "<tr><td>mins   </td><td>8.083272510884955 </td></tr>\n",
       "<tr><td>mean   </td><td>30.93996337788674 </td></tr>\n",
       "<tr><td>maxs   </td><td>61.54260600780955 </td></tr>\n",
       "<tr><td>sigma  </td><td>8.084836963120733 </td></tr>\n",
       "<tr><td>zeros  </td><td>0                 </td></tr>\n",
       "<tr><td>missing</td><td>0                 </td></tr>\n",
       "<tr><td>0      </td><td>47.42648392567415 </td></tr>\n",
       "<tr><td>1      </td><td>27.33097547641846 </td></tr>\n",
       "<tr><td>2      </td><td>42.331998584554405</td></tr>\n",
       "<tr><td>3      </td><td>38.74721579877394 </td></tr>\n",
       "<tr><td>4      </td><td>27.191239621734336</td></tr>\n",
       "<tr><td>5      </td><td>15.592105128951975</td></tr>\n",
       "<tr><td>6      </td><td>11.77977938681953 </td></tr>\n",
       "<tr><td>7      </td><td>28.940819993561977</td></tr>\n",
       "<tr><td>8      </td><td>17.259772132658487</td></tr>\n",
       "<tr><td>9      </td><td>41.62617614416297 </td></tr>\n",
       "</tbody>\n",
       "</table>"
      ]
     },
     "metadata": {},
     "output_type": "display_data"
    }
   ],
   "source": [
    "predictions_df.describe()"
   ]
  },
  {
   "cell_type": "code",
   "execution_count": 147,
   "metadata": {},
   "outputs": [],
   "source": [
    "# Update and save meta data\n",
    "\n",
    "meta_data['end_time'] = time.time()\n",
    "meta_data['execution_time'] = meta_data['end_time'] - meta_data['start_time']\n",
    "  \n",
    "n=run_id+'_meta_data.json'\n",
    "dict_to_json(meta_data,n)"
   ]
  },
  {
   "cell_type": "code",
   "execution_count": 148,
   "metadata": {},
   "outputs": [
    {
     "data": {
      "text/plain": [
       "{'start_time': 1544825621.785323,\n",
       " 'target': None,\n",
       " 'server_path': 'C:\\\\Users\\\\prabh',\n",
       " 'data_path': 'C:/Users/prabh/Desktop/ML/Project ML/Dataset/Titanic_train.csv',\n",
       " 'test_path': None,\n",
       " 'max_models': 9,\n",
       " 'run_time': 100,\n",
       " 'run_id': 'WXf3Ticdf',\n",
       " 'scale': False,\n",
       " 'classification': False,\n",
       " 'model_path': None,\n",
       " 'balance': False,\n",
       " 'balance_threshold': 0.2,\n",
       " 'project': None,\n",
       " 'end_time': 1544825788.8741882,\n",
       " 'execution_time': 167.08886528015137,\n",
       " 'run_path': 'C:\\\\Users\\\\prabh\\\\WXf3Ticdf',\n",
       " 'nthreads': 1,\n",
       " 'min_mem_size': 4,\n",
       " 'analysis': 0,\n",
       " 'X': ['PassengerId',\n",
       "  'Survived',\n",
       "  'Pclass',\n",
       "  'SibSp',\n",
       "  'Parch',\n",
       "  'Ticket',\n",
       "  'Sex',\n",
       "  'Cabin',\n",
       "  'Embarked',\n",
       "  'Name',\n",
       "  'Fare'],\n",
       " 'variables': {'PassengerId': 'int',\n",
       "  'Survived': 'int',\n",
       "  'Pclass': 'int',\n",
       "  'Name': 'string',\n",
       "  'Sex': 'enum',\n",
       "  'Age': 'real',\n",
       "  'SibSp': 'int',\n",
       "  'Parch': 'int',\n",
       "  'Ticket': 'int',\n",
       "  'Fare': 'real',\n",
       "  'Cabin': 'enum',\n",
       "  'Embarked': 'enum'},\n",
       " 'model_execution_time': 89.31195330619812,\n",
       " 'mod_best': 'StackedEnsemble_BestOfFamily_AutoML_20181214_171415',\n",
       " 'mod_best_algo': 'stackedensemble',\n",
       " 'models': ['GBM_1_AutoML_20181214_171415',\n",
       "  'DeepLearning_grid_1_AutoML_20181214_171415_model_4',\n",
       "  'DRF_1_AutoML_20181214_171415',\n",
       "  'XRT_1_AutoML_20181214_171415',\n",
       "  'GLM_grid_1_AutoML_20181214_171415_model_1',\n",
       "  'StackedEnsemble_BestOfFamily_AutoML_20181214_171415']}"
      ]
     },
     "execution_count": 148,
     "metadata": {},
     "output_type": "execute_result"
    }
   ],
   "source": [
    "meta_data"
   ]
  },
  {
   "cell_type": "code",
   "execution_count": 149,
   "metadata": {},
   "outputs": [
    {
     "name": "stdout",
     "output_type": "stream",
     "text": [
      "Writing H2O logs to C:\\Users\\prabh\\WXf3Ticdf\\logs\\WXf3Ticdf_autoh2o_log.zip\n"
     ]
    },
    {
     "data": {
      "text/plain": [
       "'C:\\\\Users\\\\prabh\\\\WXf3Ticdf\\\\logs\\\\WXf3Ticdf_autoh2o_log.zip'"
      ]
     },
     "execution_count": 149,
     "metadata": {},
     "output_type": "execute_result"
    }
   ],
   "source": [
    "# Save logs\n",
    "h2o.download_all_logs(dirname=logs_path, filename=logfile)"
   ]
  },
  {
   "cell_type": "code",
   "execution_count": 150,
   "metadata": {},
   "outputs": [],
   "source": [
    "# Clean up\n",
    "os.chdir(server_path)"
   ]
  },
  {
   "cell_type": "code",
   "execution_count": 151,
   "metadata": {},
   "outputs": [],
   "source": [
    "def predictions_test(mod,test,run_id):\n",
    "    mod_perf=mod_best.model_performance(test)          \n",
    "    stats_test={}\n",
    "    stats_test=model_performance_stats(mod_perf)\n",
    "    print(stats_test)   \n",
    "    n=run_id+'_test_stats.json'\n",
    "    dict_to_json(stats_test,n) \n",
    "    try:\n",
    "      cf=mod_perf.confusion_matrix()\n",
    "      print(cf)   \n",
    "#      cf=mod_perf.confusion_matrix(metrics=[\"f1\",\"f2\",\"f0point5\",\"accuracy\",\"precision\",\"recall\",\"specificity\",\"absolute_mcc\",\"min_per_class_accuracy\",\"mean_per_class_accuracy\"])\n",
    "      cf_df=cf.table.as_data_frame()\n",
    "      print(cf_df)    \n",
    "      cf_df.to_csv(run_id+'_test_confusion_matrix.csv')\n",
    "    except:\n",
    "      pass\n",
    "    predictions = mod_best.predict(test)    \n",
    "    predictions_df=test.cbind(predictions).as_data_frame() \n",
    "    predictions_df.to_csv(run_id+'_predictions.csv')\n",
    "    return predictions"
   ]
  },
  {
   "cell_type": "code",
   "execution_count": 152,
   "metadata": {},
   "outputs": [
    {
     "name": "stdout",
     "output_type": "stream",
     "text": [
      "H2O session _sid_bdc4 closed.\n"
     ]
    }
   ],
   "source": [
    "h2o.cluster().shutdown()"
   ]
  },
  {
   "cell_type": "code",
   "execution_count": null,
   "metadata": {},
   "outputs": [],
   "source": []
  }
 ],
 "metadata": {
  "kernelspec": {
   "display_name": "Python 3",
   "language": "python",
   "name": "python3"
  },
  "language_info": {
   "codemirror_mode": {
    "name": "ipython",
    "version": 3
   },
   "file_extension": ".py",
   "mimetype": "text/x-python",
   "name": "python",
   "nbconvert_exporter": "python",
   "pygments_lexer": "ipython3",
   "version": "3.7.0"
  }
 },
 "nbformat": 4,
 "nbformat_minor": 2
}
