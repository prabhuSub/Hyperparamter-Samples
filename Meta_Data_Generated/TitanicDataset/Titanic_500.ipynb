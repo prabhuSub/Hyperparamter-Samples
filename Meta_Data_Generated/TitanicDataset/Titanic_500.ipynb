{
 "cells": [
  {
   "cell_type": "code",
   "execution_count": 1,
   "metadata": {},
   "outputs": [],
   "source": [
    "import h2o\n",
    "from h2o.automl import H2OAutoML\n",
    "import random, os, sys\n",
    "from datetime import datetime\n",
    "import pandas as pd\n",
    "import logging\n",
    "import csv\n",
    "import optparse\n",
    "import time\n",
    "import json\n",
    "from distutils.util import strtobool\n",
    "import psutil"
   ]
  },
  {
   "cell_type": "code",
   "execution_count": 2,
   "metadata": {},
   "outputs": [],
   "source": [
    "data_path=None\n",
    "all_variables=None\n",
    "test_path=None\n",
    "# target='search_term'\n",
    "target=None\n",
    "nthreads=1 \n",
    "min_mem_size=6 \n",
    "run_time=500\n",
    "classification=False\n",
    "scale=False\n",
    "max_models=9    \n",
    "model_path=None\n",
    "balance_y=False \n",
    "balance_threshold=0.2\n",
    "name=None \n",
    "server_path=None  \n",
    "analysis=0 "
   ]
  },
  {
   "cell_type": "code",
   "execution_count": 3,
   "metadata": {},
   "outputs": [
    {
     "name": "stdout",
     "output_type": "stream",
     "text": [
      "4\n"
     ]
    }
   ],
   "source": [
    "pct_memory=0.5\n",
    "virtual_memory=psutil.virtual_memory()\n",
    "min_mem_size=int(round(int(pct_memory*virtual_memory.available)/1073741824,0))\n",
    "print(min_mem_size)"
   ]
  },
  {
   "cell_type": "code",
   "execution_count": 4,
   "metadata": {},
   "outputs": [],
   "source": [
    "# Functions\n",
    "\n",
    "def alphabet(n):\n",
    "  alpha='0123456789abcdefghijklmnopqrstuvwxyzABCDEFGHIJKLMNOPQRSTUVWXYZ'    \n",
    "  str=''\n",
    "  r=len(alpha)-1   \n",
    "  while len(str)<n:\n",
    "    i=random.randint(0,r)\n",
    "    str+=alpha[i]   \n",
    "  return str\n",
    "  \n",
    "  \n",
    "def set_meta_data(analysis,run_id,server,data,test,model_path,target,run_time,classification,scale,model,balance,balance_threshold,name,path,nthreads,min_mem_size):\n",
    "  m_data={}\n",
    "  m_data['start_time'] = time.time()\n",
    "  m_data['target']=target\n",
    "  m_data['server_path']=server\n",
    "  m_data['data_path']=data \n",
    "  m_data['test_path']=test\n",
    "  m_data['max_models']=model\n",
    "  m_data['run_time']=run_time\n",
    "  m_data['run_id'] =run_id\n",
    "  m_data['scale']=scale\n",
    "  m_data['classification']=classification\n",
    "  m_data['scale']=False\n",
    "  m_data['model_path']=model_path\n",
    "  m_data['balance']=balance\n",
    "  m_data['balance_threshold']=balance_threshold\n",
    "  m_data['project'] =name\n",
    "  m_data['end_time'] = time.time()\n",
    "  m_data['execution_time'] = 0.0\n",
    "  m_data['run_path'] =path\n",
    "  m_data['nthreads'] = nthreads\n",
    "  m_data['min_mem_size'] = min_mem_size\n",
    "  m_data['analysis'] = analysis\n",
    "  return m_data\n",
    "\n",
    "\n",
    "def dict_to_json(dct,n):\n",
    "  j = json.dumps(dct, indent=4)\n",
    "  f = open(n, 'w')\n",
    "  print(j, file=f)\n",
    "  f.close()\n",
    "  \n",
    "  \n",
    "def stackedensemble(mod):\n",
    "    coef_norm=None\n",
    "    try:\n",
    "      metalearner = h2o.get_model(mod.metalearner()['name'])\n",
    "      coef_norm=metalearner.coef_norm()\n",
    "    except:\n",
    "      pass        \n",
    "    return coef_norm\n",
    "\n",
    "def stackedensemble_df(df):\n",
    "    bm_algo={ 'GBM': None,'GLM': None,'DRF': None,'XRT': None,'Dee': None}\n",
    "    for index, row in df.iterrows():\n",
    "      if len(row['model_id'])>3:\n",
    "        key=row['model_id'][0:3]\n",
    "        if key in bm_algo:\n",
    "          if bm_algo[key] is None:\n",
    "                bm_algo[key]=row['model_id']\n",
    "    bm=list(bm_algo.values()) \n",
    "    bm=list(filter(None.__ne__, bm))             \n",
    "    return bm\n",
    "\n",
    "def se_stats(modl):\n",
    "    d={}\n",
    "    d['algo']=modl.algo\n",
    "    d['model_id']=modl.model_id   \n",
    "    d['auc']=modl.auc()   \n",
    "    d['roc']=modl.roc()\n",
    "    d['mse']=modl.mse()   \n",
    "    d['null_degrees_of_freedom']=modl.null_degrees_of_freedom()\n",
    "    d['null_deviance']=modl.null_deviance()\n",
    "    d['residual_degrees_of_freedom']=modl.residual_degrees_of_freedom()   \n",
    "    d['residual_deviance']=modl.residual_deviance()\n",
    "    d['rmse']=modl.rmse()\n",
    "    return d\n",
    "\n",
    "def get_model_by_algo(algo,models_dict):\n",
    "    mod=None\n",
    "    mod_id=None    \n",
    "    for m in list(models_dict.keys()):\n",
    "        if m[0:3]==algo:\n",
    "            mod_id=m\n",
    "            mod=h2o.get_model(m)      \n",
    "    return mod,mod_id     \n",
    "    \n",
    "    \n",
    "def gbm_stats(modl):\n",
    "    d={}\n",
    "    d['algo']=modl.algo\n",
    "    d['model_id']=modl.model_id   \n",
    "    d['varimp']=modl.varimp()  \n",
    "    return d\n",
    "    \n",
    "    \n",
    "def dl_stats(modl):\n",
    "    d={}\n",
    "    d['algo']=modl.algo\n",
    "    d['model_id']=modl.model_id   \n",
    "    d['varimp']=modl.varimp()  \n",
    "    return d\n",
    "    \n",
    "    \n",
    "def drf_stats(modl):\n",
    "    d={}\n",
    "    d['algo']=modl.algo\n",
    "    d['model_id']=modl.model_id   \n",
    "    d['varimp']=modl.varimp()  \n",
    "    d['roc']=modl.roc()      \n",
    "    return d\n",
    "    \n",
    "def xrt_stats(modl):\n",
    "    d={}\n",
    "    d['algo']=modl.algo\n",
    "    d['model_id']=modl.model_id   \n",
    "    d['varimp']=modl.varimp()  \n",
    "    d['roc']=modl.roc()      \n",
    "    return d\n",
    "    \n",
    "    \n",
    "def glm_stats(modl):\n",
    "    d={}\n",
    "    d['algo']=modl.algo\n",
    "    d['model_id']=modl.model_id   \n",
    "    d['coef']=modl.coef()  \n",
    "    d['coef_norm']=modl.coef_norm()      \n",
    "    return d\n",
    "    \n",
    "def model_performance_stats(perf):\n",
    "    d={}\n",
    "    try:    \n",
    "      d['mse']=perf.mse()\n",
    "    except:\n",
    "      pass      \n",
    "    try:    \n",
    "      d['rmse']=perf.rmse() \n",
    "    except:\n",
    "      pass      \n",
    "    try:    \n",
    "      d['null_degrees_of_freedom']=perf.null_degrees_of_freedom()\n",
    "    except:\n",
    "      pass      \n",
    "    try:    \n",
    "      d['residual_degrees_of_freedom']=perf.residual_degrees_of_freedom()\n",
    "    except:\n",
    "      pass      \n",
    "    try:    \n",
    "      d['residual_deviance']=perf.residual_deviance() \n",
    "    except:\n",
    "      pass      \n",
    "    try:    \n",
    "      d['null_deviance']=perf.null_deviance() \n",
    "    except:\n",
    "      pass      \n",
    "    try:    \n",
    "      d['aic']=perf.aic() \n",
    "    except:\n",
    "      pass      \n",
    "    try:\n",
    "      d['logloss']=perf.logloss() \n",
    "    except:\n",
    "      pass    \n",
    "    try:\n",
    "      d['auc']=perf.auc()\n",
    "    except:\n",
    "      pass  \n",
    "    try:\n",
    "      d['gini']=perf.gini()\n",
    "    except:\n",
    "      pass    \n",
    "    return d\n",
    "    \n",
    "def impute_missing_values(df, x, scal=False):\n",
    "    # determine column types\n",
    "    ints, reals, enums = [], [], []\n",
    "    for key, val in df.types.items():\n",
    "        if key in x:\n",
    "            if val == 'enum':\n",
    "                enums.append(key)\n",
    "            elif val == 'int':\n",
    "                ints.append(key)            \n",
    "            else: \n",
    "                reals.append(key)    \n",
    "    _ = df[reals].impute(method='mean')\n",
    "    _ = df[ints].impute(method='median')\n",
    "    if scal:\n",
    "        df[reals] = df[reals].scale()\n",
    "        df[ints] = df[ints].scale()    \n",
    "    return\n",
    "\n",
    "\n",
    "def get_independent_variables(df, targ):\n",
    "    C = [name for name in df.columns if name != targ]\n",
    "    # determine column types\n",
    "    ints, reals, enums = [], [], []\n",
    "    for key, val in df.types.items():\n",
    "        if key in C:\n",
    "            if val == 'enum':\n",
    "                enums.append(key)\n",
    "            elif val == 'int':\n",
    "                ints.append(key)            \n",
    "            else: \n",
    "                reals.append(key)    \n",
    "    x=ints+enums+reals\n",
    "    return x\n",
    "    \n",
    "def get_all_variables_csv(i):\n",
    "    ivd={}\n",
    "    try:\n",
    "      iv = pd.read_csv(i,header=None)\n",
    "    except:\n",
    "      sys.exit(1)    \n",
    "    col=iv.values.tolist()[0]\n",
    "    dt=iv.values.tolist()[1]\n",
    "    i=0\n",
    "    for c in col:\n",
    "      ivd[c.strip()]=dt[i].strip()\n",
    "      i+=1        \n",
    "    return ivd\n",
    "    \n",
    "    \n",
    "\n",
    "def check_all_variables(df,dct,y=None):     \n",
    "    targ=list(dct.keys())     \n",
    "    for key, val in df.types.items():\n",
    "        if key in targ:\n",
    "          if dct[key] not in ['real','int','enum']:                      \n",
    "            targ.remove(key)  \n",
    "    for key, val in df.types.items():\n",
    "        if key in targ:            \n",
    "          if dct[key] != val:\n",
    "            print('convert ',key,' ',dct[key],' ',val)\n",
    "            if dct[key]=='enum':\n",
    "                try:\n",
    "                  df[key] = df[key].asfactor() \n",
    "                except:\n",
    "                  targ.remove(key)                 \n",
    "            if dct[key]=='int': \n",
    "                try:                \n",
    "                  df[key] = df[key].asnumeric() \n",
    "                except:\n",
    "                  targ.remove(key)                  \n",
    "            if dct[key]=='real':\n",
    "                try:                \n",
    "                  df[key] = df[key].asnumeric()  \n",
    "                except:\n",
    "                  targ.remove(key)                  \n",
    "    if y is None:\n",
    "      y=df.columns[-1] \n",
    "    if y in targ:\n",
    "      targ.remove(y)\n",
    "    else:\n",
    "      y=targ.pop()            \n",
    "    return targ    \n",
    "    \n",
    "def predictions(mod,data,run_id):\n",
    "    test = h2o.import_file(data)\n",
    "    mod_perf=mod_best.model_performance(test)\n",
    "              \n",
    "    stats_test={}\n",
    "    stats_test=model_performance_stats(mod_perf)\n",
    "\n",
    "    n=run_id+'_test_stats.json'\n",
    "    dict_to_json(stats_test,n) \n",
    "\n",
    "    try:    \n",
    "      cf=mod_perf.confusion_matrix(metrics=[\"f1\",\"f2\",\"f0point5\",\"accuracy\",\"precision\",\"recall\",\"specificity\",\"absolute_mcc\",\"min_per_class_accuracy\",\"mean_per_class_accuracy\"])\n",
    "      cf_df=cf[0].table.as_data_frame()\n",
    "      cf_df.to_csv(run_id+'_test_confusion_matrix.csv')\n",
    "    except:\n",
    "      pass\n",
    "\n",
    "    predictions = mod_best.predict(test)\n",
    "    predictions_df=test.cbind(predictions).as_data_frame() \n",
    "    predictions_df.to_csv(run_id+'_predictions.csv')\n",
    "    return\n",
    "\n",
    "def predictions_test(mod,test,run_id):\n",
    "    mod_perf=mod_best.model_performance(test)          \n",
    "    stats_test={}\n",
    "    stats_test=model_performance_stats(mod_perf)\n",
    "    n=run_id+'_test_stats.json'\n",
    "    dict_to_json(stats_test,n) \n",
    "    try:\n",
    "      cf=mod_perf.confusion_matrix()\n",
    "#      cf=mod_perf.confusion_matrix(metrics=[\"f1\",\"f2\",\"f0point5\",\"accuracy\",\"precision\",\"recall\",\"specificity\",\"absolute_mcc\",\"min_per_class_accuracy\",\"mean_per_class_accuracy\"])\n",
    "      cf_df=cf.table.as_data_frame()\n",
    "      cf_df.to_csv(run_id+'_test_confusion_matrix.csv')\n",
    "    except:\n",
    "      pass\n",
    "    predictions = mod_best.predict(test)    \n",
    "    predictions_df=test.cbind(predictions).as_data_frame() \n",
    "    predictions_df.to_csv(run_id+'_predictions.csv')\n",
    "    return predictions\n",
    "\n",
    "def check_X(x,df):\n",
    "    for name in x:\n",
    "        if name not in df.columns:\n",
    "          x.remove(name)  \n",
    "    return x    \n",
    "    \n",
    "    \n",
    "def get_stacked_ensemble(lst):\n",
    "    se=None\n",
    "    for model in model_set:\n",
    "      if 'BestOfFamily' in model:\n",
    "        se=model\n",
    "    if se is None:     \n",
    "      for model in model_set:\n",
    "        if 'AllModels'in model:\n",
    "          se=model           \n",
    "    return se       \n",
    "    \n",
    "def get_variables_types(df):\n",
    "    d={}\n",
    "    for key, val in df.types.items():\n",
    "        d[key]=val           \n",
    "    return d    \n",
    "    \n",
    "#  End Functions"
   ]
  },
  {
   "cell_type": "code",
   "execution_count": 5,
   "metadata": {},
   "outputs": [],
   "source": [
    "all_variables=None"
   ]
  },
  {
   "cell_type": "code",
   "execution_count": 6,
   "metadata": {},
   "outputs": [],
   "source": [
    "data_path='C:/Users/prabh/Desktop/ML/Project ML/Dataset/Titanic_train.csv'"
   ]
  },
  {
   "cell_type": "code",
   "execution_count": 7,
   "metadata": {},
   "outputs": [
    {
     "name": "stdout",
     "output_type": "stream",
     "text": [
      "Q1Ofqzsv4\n"
     ]
    }
   ],
   "source": [
    "run_id=alphabet(9)\n",
    "if server_path==None:\n",
    "  server_path=os.path.abspath(os.curdir)\n",
    "os.chdir(server_path) \n",
    "run_dir = os.path.join(server_path,run_id)\n",
    "os.mkdir(run_dir)\n",
    "os.chdir(run_dir)    \n",
    "\n",
    "# run_id to std out\n",
    "print (run_id) "
   ]
  },
  {
   "cell_type": "code",
   "execution_count": 8,
   "metadata": {},
   "outputs": [
    {
     "name": "stdout",
     "output_type": "stream",
     "text": [
      "C:\\Users\\prabh\\Q1Ofqzsv4\\logs   Q1Ofqzsv4_autoh2o_log.zip\n"
     ]
    }
   ],
   "source": [
    "logfile=run_id+'_autoh2o_log.zip'\n",
    "logs_path=os.path.join(run_dir,'logs')\n",
    "print(logs_path,' ',logfile)"
   ]
  },
  {
   "cell_type": "code",
   "execution_count": 9,
   "metadata": {},
   "outputs": [
    {
     "name": "stdout",
     "output_type": "stream",
     "text": [
      "Checking whether there is an H2O instance running at http://localhost:16531..... not found.\n",
      "Attempting to start a local H2O server...\n",
      "; Java HotSpot(TM) 64-Bit Server VM (build 25.191-b12, mixed mode)\n",
      "  Starting server from C:\\Users\\prabh\\Anaconda3\\lib\\site-packages\\h2o\\backend\\bin\\h2o.jar\n",
      "  Ice root: C:\\Users\\prabh\\AppData\\Local\\Temp\\tmpkc2kc7tt\n",
      "  JVM stdout: C:\\Users\\prabh\\AppData\\Local\\Temp\\tmpkc2kc7tt\\h2o_prabh_started_from_python.out\n",
      "  JVM stderr: C:\\Users\\prabh\\AppData\\Local\\Temp\\tmpkc2kc7tt\\h2o_prabh_started_from_python.err\n",
      "  Server is running at http://127.0.0.1:16531\n",
      "Connecting to H2O server at http://127.0.0.1:16531... successful.\n"
     ]
    },
    {
     "data": {
      "text/html": [
       "<div style=\"overflow:auto\"><table style=\"width:50%\"><tr><td>H2O cluster uptime:</td>\n",
       "<td>01 secs</td></tr>\n",
       "<tr><td>H2O cluster timezone:</td>\n",
       "<td>America/New_York</td></tr>\n",
       "<tr><td>H2O data parsing timezone:</td>\n",
       "<td>UTC</td></tr>\n",
       "<tr><td>H2O cluster version:</td>\n",
       "<td>3.22.0.1</td></tr>\n",
       "<tr><td>H2O cluster version age:</td>\n",
       "<td>1 month and 17 days </td></tr>\n",
       "<tr><td>H2O cluster name:</td>\n",
       "<td>H2O_from_python_prabh_0sw38m</td></tr>\n",
       "<tr><td>H2O cluster total nodes:</td>\n",
       "<td>1</td></tr>\n",
       "<tr><td>H2O cluster free memory:</td>\n",
       "<td>3.833 Gb</td></tr>\n",
       "<tr><td>H2O cluster total cores:</td>\n",
       "<td>12</td></tr>\n",
       "<tr><td>H2O cluster allowed cores:</td>\n",
       "<td>12</td></tr>\n",
       "<tr><td>H2O cluster status:</td>\n",
       "<td>accepting new members, healthy</td></tr>\n",
       "<tr><td>H2O connection url:</td>\n",
       "<td>http://127.0.0.1:16531</td></tr>\n",
       "<tr><td>H2O connection proxy:</td>\n",
       "<td>None</td></tr>\n",
       "<tr><td>H2O internal security:</td>\n",
       "<td>False</td></tr>\n",
       "<tr><td>H2O API Extensions:</td>\n",
       "<td>Algos, AutoML, Core V3, Core V4</td></tr>\n",
       "<tr><td>Python version:</td>\n",
       "<td>3.7.0 final</td></tr></table></div>"
      ],
      "text/plain": [
       "--------------------------  -------------------------------\n",
       "H2O cluster uptime:         01 secs\n",
       "H2O cluster timezone:       America/New_York\n",
       "H2O data parsing timezone:  UTC\n",
       "H2O cluster version:        3.22.0.1\n",
       "H2O cluster version age:    1 month and 17 days\n",
       "H2O cluster name:           H2O_from_python_prabh_0sw38m\n",
       "H2O cluster total nodes:    1\n",
       "H2O cluster free memory:    3.833 Gb\n",
       "H2O cluster total cores:    12\n",
       "H2O cluster allowed cores:  12\n",
       "H2O cluster status:         accepting new members, healthy\n",
       "H2O connection url:         http://127.0.0.1:16531\n",
       "H2O connection proxy:\n",
       "H2O internal security:      False\n",
       "H2O API Extensions:         Algos, AutoML, Core V3, Core V4\n",
       "Python version:             3.7.0 final\n",
       "--------------------------  -------------------------------"
      ]
     },
     "metadata": {},
     "output_type": "display_data"
    }
   ],
   "source": [
    "# 65535 Highest port no\n",
    "port_no=random.randint(5555,55555)\n",
    "h2o.init(strict_version_check=False,min_mem_size_GB=min_mem_size,port=port_no)"
   ]
  },
  {
   "cell_type": "code",
   "execution_count": 10,
   "metadata": {},
   "outputs": [
    {
     "name": "stdout",
     "output_type": "stream",
     "text": [
      "{'start_time': 1544825909.5973294, 'target': None, 'server_path': 'C:\\\\Users\\\\prabh', 'data_path': 'C:/Users/prabh/Desktop/ML/Project ML/Dataset/Titanic_train.csv', 'test_path': None, 'max_models': 9, 'run_time': 500, 'run_id': 'Q1Ofqzsv4', 'scale': False, 'classification': False, 'model_path': None, 'balance': False, 'balance_threshold': 0.2, 'project': None, 'end_time': 1544825909.5973294, 'execution_time': 0.0, 'run_path': 'C:\\\\Users\\\\prabh\\\\Q1Ofqzsv4', 'nthreads': 1, 'min_mem_size': 4, 'analysis': 0}\n"
     ]
    }
   ],
   "source": [
    "# meta data\n",
    "meta_data = set_meta_data(analysis, run_id,server_path,data_path,test_path,model_path,target,run_time,classification,scale,max_models,balance_y,balance_threshold,name,run_dir,nthreads,min_mem_size)\n",
    "print(meta_data)  "
   ]
  },
  {
   "cell_type": "code",
   "execution_count": 11,
   "metadata": {},
   "outputs": [
    {
     "name": "stdout",
     "output_type": "stream",
     "text": [
      "C:/Users/prabh/Desktop/ML/Project ML/Dataset/Titanic_train.csv\n"
     ]
    }
   ],
   "source": [
    "print(data_path)"
   ]
  },
  {
   "cell_type": "code",
   "execution_count": 12,
   "metadata": {},
   "outputs": [
    {
     "name": "stdout",
     "output_type": "stream",
     "text": [
      "Parse progress: |█████████████████████████████████████████████████████████| 100%\n"
     ]
    }
   ],
   "source": [
    "df = h2o.import_file(data_path)"
   ]
  },
  {
   "cell_type": "code",
   "execution_count": 13,
   "metadata": {},
   "outputs": [
    {
     "data": {
      "text/html": [
       "<table>\n",
       "<thead>\n",
       "<tr><th style=\"text-align: right;\">  PassengerId</th><th style=\"text-align: right;\">  Survived</th><th style=\"text-align: right;\">  Pclass</th><th>Name                                               </th><th>Sex   </th><th style=\"text-align: right;\">  Age</th><th style=\"text-align: right;\">  SibSp</th><th style=\"text-align: right;\">  Parch</th><th style=\"text-align: right;\">  Ticket</th><th style=\"text-align: right;\">   Fare</th><th>Cabin  </th><th>Embarked  </th></tr>\n",
       "</thead>\n",
       "<tbody>\n",
       "<tr><td style=\"text-align: right;\">            1</td><td style=\"text-align: right;\">         0</td><td style=\"text-align: right;\">       3</td><td>Braund, Mr. Owen Harris                            </td><td>male  </td><td style=\"text-align: right;\">   22</td><td style=\"text-align: right;\">      1</td><td style=\"text-align: right;\">      0</td><td style=\"text-align: right;\">     nan</td><td style=\"text-align: right;\"> 7.25  </td><td>       </td><td>S         </td></tr>\n",
       "<tr><td style=\"text-align: right;\">            2</td><td style=\"text-align: right;\">         1</td><td style=\"text-align: right;\">       1</td><td>Cumings, Mrs. John Bradley (Florence Briggs Thayer)</td><td>female</td><td style=\"text-align: right;\">   38</td><td style=\"text-align: right;\">      1</td><td style=\"text-align: right;\">      0</td><td style=\"text-align: right;\">     nan</td><td style=\"text-align: right;\">71.2833</td><td>C85    </td><td>C         </td></tr>\n",
       "<tr><td style=\"text-align: right;\">            3</td><td style=\"text-align: right;\">         1</td><td style=\"text-align: right;\">       3</td><td>Heikkinen, Miss. Laina                             </td><td>female</td><td style=\"text-align: right;\">   26</td><td style=\"text-align: right;\">      0</td><td style=\"text-align: right;\">      0</td><td style=\"text-align: right;\">     nan</td><td style=\"text-align: right;\"> 7.925 </td><td>       </td><td>S         </td></tr>\n",
       "<tr><td style=\"text-align: right;\">            4</td><td style=\"text-align: right;\">         1</td><td style=\"text-align: right;\">       1</td><td>Futrelle, Mrs. Jacques Heath (Lily May Peel)       </td><td>female</td><td style=\"text-align: right;\">   35</td><td style=\"text-align: right;\">      1</td><td style=\"text-align: right;\">      0</td><td style=\"text-align: right;\">  113803</td><td style=\"text-align: right;\">53.1   </td><td>C123   </td><td>S         </td></tr>\n",
       "<tr><td style=\"text-align: right;\">            5</td><td style=\"text-align: right;\">         0</td><td style=\"text-align: right;\">       3</td><td>Allen, Mr. William Henry                           </td><td>male  </td><td style=\"text-align: right;\">   35</td><td style=\"text-align: right;\">      0</td><td style=\"text-align: right;\">      0</td><td style=\"text-align: right;\">  373450</td><td style=\"text-align: right;\"> 8.05  </td><td>       </td><td>S         </td></tr>\n",
       "<tr><td style=\"text-align: right;\">            6</td><td style=\"text-align: right;\">         0</td><td style=\"text-align: right;\">       3</td><td>Moran, Mr. James                                   </td><td>male  </td><td style=\"text-align: right;\">  nan</td><td style=\"text-align: right;\">      0</td><td style=\"text-align: right;\">      0</td><td style=\"text-align: right;\">  330877</td><td style=\"text-align: right;\"> 8.4583</td><td>       </td><td>Q         </td></tr>\n",
       "<tr><td style=\"text-align: right;\">            7</td><td style=\"text-align: right;\">         0</td><td style=\"text-align: right;\">       1</td><td>McCarthy, Mr. Timothy J                            </td><td>male  </td><td style=\"text-align: right;\">   54</td><td style=\"text-align: right;\">      0</td><td style=\"text-align: right;\">      0</td><td style=\"text-align: right;\">   17463</td><td style=\"text-align: right;\">51.8625</td><td>E46    </td><td>S         </td></tr>\n",
       "<tr><td style=\"text-align: right;\">            8</td><td style=\"text-align: right;\">         0</td><td style=\"text-align: right;\">       3</td><td>Palsson, Master. Gosta Leonard                     </td><td>male  </td><td style=\"text-align: right;\">    2</td><td style=\"text-align: right;\">      3</td><td style=\"text-align: right;\">      1</td><td style=\"text-align: right;\">  349909</td><td style=\"text-align: right;\">21.075 </td><td>       </td><td>S         </td></tr>\n",
       "<tr><td style=\"text-align: right;\">            9</td><td style=\"text-align: right;\">         1</td><td style=\"text-align: right;\">       3</td><td>Johnson, Mrs. Oscar W (Elisabeth Vilhelmina Berg)  </td><td>female</td><td style=\"text-align: right;\">   27</td><td style=\"text-align: right;\">      0</td><td style=\"text-align: right;\">      2</td><td style=\"text-align: right;\">  347742</td><td style=\"text-align: right;\">11.1333</td><td>       </td><td>S         </td></tr>\n",
       "<tr><td style=\"text-align: right;\">           10</td><td style=\"text-align: right;\">         1</td><td style=\"text-align: right;\">       2</td><td>Nasser, Mrs. Nicholas (Adele Achem)                </td><td>female</td><td style=\"text-align: right;\">   14</td><td style=\"text-align: right;\">      1</td><td style=\"text-align: right;\">      0</td><td style=\"text-align: right;\">  237736</td><td style=\"text-align: right;\">30.0708</td><td>       </td><td>C         </td></tr>\n",
       "</tbody>\n",
       "</table>"
      ]
     },
     "metadata": {},
     "output_type": "display_data"
    },
    {
     "data": {
      "text/plain": []
     },
     "execution_count": 13,
     "metadata": {},
     "output_type": "execute_result"
    }
   ],
   "source": [
    "df.head()"
   ]
  },
  {
   "cell_type": "code",
   "execution_count": 14,
   "metadata": {
    "scrolled": true
   },
   "outputs": [
    {
     "name": "stdout",
     "output_type": "stream",
     "text": [
      "Rows:891\n",
      "Cols:12\n",
      "\n",
      "\n"
     ]
    },
    {
     "data": {
      "text/html": [
       "<table>\n",
       "<thead>\n",
       "<tr><th>       </th><th>PassengerId      </th><th>Survived          </th><th>Pclass            </th><th>Name                                               </th><th>Sex   </th><th>Age               </th><th>SibSp             </th><th>Parch             </th><th>Ticket            </th><th>Fare             </th><th>Cabin  </th><th>Embarked  </th></tr>\n",
       "</thead>\n",
       "<tbody>\n",
       "<tr><td>type   </td><td>int              </td><td>int               </td><td>int               </td><td>string                                             </td><td>enum  </td><td>real              </td><td>int               </td><td>int               </td><td>int               </td><td>real             </td><td>enum   </td><td>enum      </td></tr>\n",
       "<tr><td>mins   </td><td>1.0              </td><td>0.0               </td><td>1.0               </td><td>NaN                                                </td><td>      </td><td>0.42              </td><td>0.0               </td><td>0.0               </td><td>693.0             </td><td>0.0              </td><td>       </td><td>          </td></tr>\n",
       "<tr><td>mean   </td><td>446.0            </td><td>0.3838383838383838</td><td>2.3086419753086447</td><td>NaN                                                </td><td>      </td><td>29.69911764705884 </td><td>0.5230078563411893</td><td>0.3815937149270483</td><td>260318.5491679275 </td><td>32.20420796857465</td><td>       </td><td>          </td></tr>\n",
       "<tr><td>maxs   </td><td>891.0            </td><td>1.0               </td><td>3.0               </td><td>NaN                                                </td><td>      </td><td>80.0              </td><td>8.0               </td><td>6.0               </td><td>3101298.0         </td><td>512.3292         </td><td>       </td><td>          </td></tr>\n",
       "<tr><td>sigma  </td><td>257.3538420152301</td><td>0.4865924542648575</td><td>0.8360712409770491</td><td>NaN                                                </td><td>      </td><td>14.526497332334035</td><td>1.1027434322934315</td><td>0.8060572211299488</td><td>471609.26868834975</td><td>49.69342859718089</td><td>       </td><td>          </td></tr>\n",
       "<tr><td>zeros  </td><td>0                </td><td>549               </td><td>0                 </td><td>0                                                  </td><td>      </td><td>0                 </td><td>608               </td><td>678               </td><td>0                 </td><td>15               </td><td>       </td><td>          </td></tr>\n",
       "<tr><td>missing</td><td>0                </td><td>0                 </td><td>0                 </td><td>0                                                  </td><td>0     </td><td>177               </td><td>0                 </td><td>0                 </td><td>230               </td><td>0                </td><td>687    </td><td>2         </td></tr>\n",
       "<tr><td>0      </td><td>1.0              </td><td>0.0               </td><td>3.0               </td><td>Braund, Mr. Owen Harris                            </td><td>male  </td><td>22.0              </td><td>1.0               </td><td>0.0               </td><td>nan               </td><td>7.25             </td><td>       </td><td>S         </td></tr>\n",
       "<tr><td>1      </td><td>2.0              </td><td>1.0               </td><td>1.0               </td><td>Cumings, Mrs. John Bradley (Florence Briggs Thayer)</td><td>female</td><td>38.0              </td><td>1.0               </td><td>0.0               </td><td>nan               </td><td>71.2833          </td><td>C85    </td><td>C         </td></tr>\n",
       "<tr><td>2      </td><td>3.0              </td><td>1.0               </td><td>3.0               </td><td>Heikkinen, Miss. Laina                             </td><td>female</td><td>26.0              </td><td>0.0               </td><td>0.0               </td><td>nan               </td><td>7.925            </td><td>       </td><td>S         </td></tr>\n",
       "<tr><td>3      </td><td>4.0              </td><td>1.0               </td><td>1.0               </td><td>Futrelle, Mrs. Jacques Heath (Lily May Peel)       </td><td>female</td><td>35.0              </td><td>1.0               </td><td>0.0               </td><td>113803.0          </td><td>53.1             </td><td>C123   </td><td>S         </td></tr>\n",
       "<tr><td>4      </td><td>5.0              </td><td>0.0               </td><td>3.0               </td><td>Allen, Mr. William Henry                           </td><td>male  </td><td>35.0              </td><td>0.0               </td><td>0.0               </td><td>373450.0          </td><td>8.05             </td><td>       </td><td>S         </td></tr>\n",
       "<tr><td>5      </td><td>6.0              </td><td>0.0               </td><td>3.0               </td><td>Moran, Mr. James                                   </td><td>male  </td><td>nan               </td><td>0.0               </td><td>0.0               </td><td>330877.0          </td><td>8.4583           </td><td>       </td><td>Q         </td></tr>\n",
       "<tr><td>6      </td><td>7.0              </td><td>0.0               </td><td>1.0               </td><td>McCarthy, Mr. Timothy J                            </td><td>male  </td><td>54.0              </td><td>0.0               </td><td>0.0               </td><td>17463.0           </td><td>51.8625          </td><td>E46    </td><td>S         </td></tr>\n",
       "<tr><td>7      </td><td>8.0              </td><td>0.0               </td><td>3.0               </td><td>Palsson, Master. Gosta Leonard                     </td><td>male  </td><td>2.0               </td><td>3.0               </td><td>1.0               </td><td>349909.0          </td><td>21.075           </td><td>       </td><td>S         </td></tr>\n",
       "<tr><td>8      </td><td>9.0              </td><td>1.0               </td><td>3.0               </td><td>Johnson, Mrs. Oscar W (Elisabeth Vilhelmina Berg)  </td><td>female</td><td>27.0              </td><td>0.0               </td><td>2.0               </td><td>347742.0          </td><td>11.1333          </td><td>       </td><td>S         </td></tr>\n",
       "<tr><td>9      </td><td>10.0             </td><td>1.0               </td><td>2.0               </td><td>Nasser, Mrs. Nicholas (Adele Achem)                </td><td>female</td><td>14.0              </td><td>1.0               </td><td>0.0               </td><td>237736.0          </td><td>30.0708          </td><td>       </td><td>C         </td></tr>\n",
       "</tbody>\n",
       "</table>"
      ]
     },
     "metadata": {},
     "output_type": "display_data"
    }
   ],
   "source": [
    "df.describe()"
   ]
  },
  {
   "cell_type": "code",
   "execution_count": 15,
   "metadata": {},
   "outputs": [
    {
     "data": {
      "text/plain": [
       "\"\\nimport sys\\nsys.stdout = open('describe.txt', 'w')\\nprint ('test')\\n\""
      ]
     },
     "execution_count": 15,
     "metadata": {},
     "output_type": "execute_result"
    }
   ],
   "source": [
    "'''\n",
    "import sys\n",
    "sys.stdout = open('describe.txt', 'w')\n",
    "print ('test')\n",
    "'''"
   ]
  },
  {
   "cell_type": "code",
   "execution_count": 16,
   "metadata": {},
   "outputs": [],
   "source": [
    "# dependent variable\n",
    "# assign target and inputs for classification or regression\n",
    "if target==None:\n",
    "  target=df.columns[1]   \n",
    "y = target"
   ]
  },
  {
   "cell_type": "code",
   "execution_count": 17,
   "metadata": {},
   "outputs": [
    {
     "name": "stdout",
     "output_type": "stream",
     "text": [
      "Survived\n"
     ]
    }
   ],
   "source": [
    "print(y)"
   ]
  },
  {
   "cell_type": "code",
   "execution_count": 18,
   "metadata": {},
   "outputs": [
    {
     "name": "stdout",
     "output_type": "stream",
     "text": [
      "None\n"
     ]
    }
   ],
   "source": [
    "print(all_variables)"
   ]
  },
  {
   "cell_type": "code",
   "execution_count": 19,
   "metadata": {},
   "outputs": [],
   "source": [
    "if all_variables is not None:\n",
    "  ivd=get_all_variables_csv(all_variables)\n",
    "  print(ivd)    \n",
    "  X=check_all_variables(df,ivd,y)\n",
    "  print(X)"
   ]
  },
  {
   "cell_type": "code",
   "execution_count": 20,
   "metadata": {},
   "outputs": [],
   "source": [
    "# independent variables\n",
    "\n",
    "X = []  \n",
    "if all_variables is None:\n",
    "  X=get_independent_variables(df, target)  \n",
    "else: \n",
    "  ivd=get_all_variables_csv(all_variables)    \n",
    "  X=check_all_variables(df, ivd)\n",
    "\n",
    "\n",
    "X=check_X(X,df)\n",
    "\n",
    "\n",
    "# Add independent variables\n",
    "\n",
    "meta_data['X']=X  \n",
    "\n",
    "\n",
    "# impute missing values\n",
    "\n",
    "_=impute_missing_values(df,X, scale)"
   ]
  },
  {
   "cell_type": "code",
   "execution_count": 21,
   "metadata": {},
   "outputs": [],
   "source": [
    "if analysis == 3:\n",
    "  classification=False\n",
    "elif analysis == 2:\n",
    "  classification=True\n",
    "elif analysis == 1:\n",
    "  classification=True"
   ]
  },
  {
   "cell_type": "code",
   "execution_count": 22,
   "metadata": {},
   "outputs": [],
   "source": [
    "# Force target to be factors\n",
    "# Only 'int' or 'string' are allowed for asfactor(), got Target (Total orders):real \n",
    "\n",
    "if classification:\n",
    "    df[y] = df[y].asfactor()"
   ]
  },
  {
   "cell_type": "code",
   "execution_count": 23,
   "metadata": {},
   "outputs": [],
   "source": [
    "def check_y(y,df):\n",
    "  ok=False\n",
    "  C = [name for name in df.columns if name == y]\n",
    "  for key, val in df.types.items():\n",
    "    if key in C:\n",
    "      if val in ['real','int','enum']:        \n",
    "        ok=True         \n",
    "  return ok   "
   ]
  },
  {
   "cell_type": "code",
   "execution_count": 24,
   "metadata": {},
   "outputs": [],
   "source": [
    "ok=check_y(y,df)\n",
    "if not ok:\n",
    "    print(ok)"
   ]
  },
  {
   "cell_type": "code",
   "execution_count": 25,
   "metadata": {},
   "outputs": [
    {
     "name": "stdout",
     "output_type": "stream",
     "text": [
      "True\n"
     ]
    }
   ],
   "source": [
    "print(ok)"
   ]
  },
  {
   "cell_type": "code",
   "execution_count": 26,
   "metadata": {},
   "outputs": [
    {
     "name": "stdout",
     "output_type": "stream",
     "text": [
      "[]\n"
     ]
    }
   ],
   "source": [
    "classification=True\n",
    "if classification:\n",
    "    print(df[y].levels())"
   ]
  },
  {
   "cell_type": "code",
   "execution_count": 27,
   "metadata": {},
   "outputs": [
    {
     "name": "stdout",
     "output_type": "stream",
     "text": [
      "[]\n"
     ]
    }
   ],
   "source": [
    "print(df[y].levels())"
   ]
  },
  {
   "cell_type": "code",
   "execution_count": 28,
   "metadata": {},
   "outputs": [
    {
     "data": {
      "text/plain": [
       "{'PassengerId': 'int',\n",
       " 'Survived': 'int',\n",
       " 'Pclass': 'int',\n",
       " 'Name': 'string',\n",
       " 'Sex': 'enum',\n",
       " 'Age': 'real',\n",
       " 'SibSp': 'int',\n",
       " 'Parch': 'int',\n",
       " 'Ticket': 'int',\n",
       " 'Fare': 'real',\n",
       " 'Cabin': 'enum',\n",
       " 'Embarked': 'enum'}"
      ]
     },
     "execution_count": 28,
     "metadata": {},
     "output_type": "execute_result"
    }
   ],
   "source": [
    "allV=get_variables_types(df)\n",
    "allV"
   ]
  },
  {
   "cell_type": "code",
   "execution_count": 29,
   "metadata": {},
   "outputs": [],
   "source": [
    "meta_data['variables']=allV"
   ]
  },
  {
   "cell_type": "code",
   "execution_count": 30,
   "metadata": {},
   "outputs": [],
   "source": [
    "# Set up AutoML\n",
    "\n",
    "aml = H2OAutoML(max_runtime_secs=run_time,project_name = name)"
   ]
  },
  {
   "cell_type": "code",
   "execution_count": 31,
   "metadata": {},
   "outputs": [],
   "source": [
    "model_start_time = time.time()"
   ]
  },
  {
   "cell_type": "code",
   "execution_count": 32,
   "metadata": {},
   "outputs": [
    {
     "name": "stdout",
     "output_type": "stream",
     "text": [
      "AutoML progress: |████████████████████████████████████████████████████████| 100%\n"
     ]
    }
   ],
   "source": [
    "aml.train(x=X,y=y,training_frame=df)"
   ]
  },
  {
   "cell_type": "code",
   "execution_count": 33,
   "metadata": {},
   "outputs": [],
   "source": [
    "meta_data['model_execution_time'] = time.time() - model_start_time"
   ]
  },
  {
   "cell_type": "code",
   "execution_count": 34,
   "metadata": {},
   "outputs": [],
   "source": [
    "# get leaderboard\n",
    "aml_leaderboard_df=aml.leaderboard.as_data_frame()"
   ]
  },
  {
   "cell_type": "code",
   "execution_count": 35,
   "metadata": {
    "scrolled": true
   },
   "outputs": [
    {
     "data": {
      "text/html": [
       "<div>\n",
       "<style scoped>\n",
       "    .dataframe tbody tr th:only-of-type {\n",
       "        vertical-align: middle;\n",
       "    }\n",
       "\n",
       "    .dataframe tbody tr th {\n",
       "        vertical-align: top;\n",
       "    }\n",
       "\n",
       "    .dataframe thead th {\n",
       "        text-align: right;\n",
       "    }\n",
       "</style>\n",
       "<table border=\"1\" class=\"dataframe\">\n",
       "  <thead>\n",
       "    <tr style=\"text-align: right;\">\n",
       "      <th></th>\n",
       "      <th>model_id</th>\n",
       "      <th>mean_residual_deviance</th>\n",
       "      <th>rmse</th>\n",
       "      <th>mse</th>\n",
       "      <th>mae</th>\n",
       "      <th>rmsle</th>\n",
       "    </tr>\n",
       "  </thead>\n",
       "  <tbody>\n",
       "    <tr>\n",
       "      <th>0</th>\n",
       "      <td>StackedEnsemble_AllModels_AutoML_20181214_171830</td>\n",
       "      <td>0.126741</td>\n",
       "      <td>0.356006</td>\n",
       "      <td>0.126741</td>\n",
       "      <td>0.256589</td>\n",
       "      <td>0.249802</td>\n",
       "    </tr>\n",
       "    <tr>\n",
       "      <th>1</th>\n",
       "      <td>StackedEnsemble_BestOfFamily_AutoML_20181214_1...</td>\n",
       "      <td>0.129717</td>\n",
       "      <td>0.360163</td>\n",
       "      <td>0.129717</td>\n",
       "      <td>0.265749</td>\n",
       "      <td>0.253417</td>\n",
       "    </tr>\n",
       "    <tr>\n",
       "      <th>2</th>\n",
       "      <td>GBM_3_AutoML_20181214_171830</td>\n",
       "      <td>0.132251</td>\n",
       "      <td>0.363664</td>\n",
       "      <td>0.132251</td>\n",
       "      <td>0.263926</td>\n",
       "      <td>0.256737</td>\n",
       "    </tr>\n",
       "    <tr>\n",
       "      <th>3</th>\n",
       "      <td>GBM_2_AutoML_20181214_171830</td>\n",
       "      <td>0.132469</td>\n",
       "      <td>0.363963</td>\n",
       "      <td>0.132469</td>\n",
       "      <td>0.260689</td>\n",
       "      <td>0.258011</td>\n",
       "    </tr>\n",
       "    <tr>\n",
       "      <th>4</th>\n",
       "      <td>GBM_grid_1_AutoML_20181214_171830_model_9</td>\n",
       "      <td>0.132978</td>\n",
       "      <td>0.364662</td>\n",
       "      <td>0.132978</td>\n",
       "      <td>0.282134</td>\n",
       "      <td>0.257893</td>\n",
       "    </tr>\n",
       "    <tr>\n",
       "      <th>5</th>\n",
       "      <td>GBM_grid_1_AutoML_20181214_171830_model_21</td>\n",
       "      <td>0.133650</td>\n",
       "      <td>0.365582</td>\n",
       "      <td>0.133650</td>\n",
       "      <td>0.277383</td>\n",
       "      <td>0.259301</td>\n",
       "    </tr>\n",
       "    <tr>\n",
       "      <th>6</th>\n",
       "      <td>GBM_1_AutoML_20181214_171830</td>\n",
       "      <td>0.135616</td>\n",
       "      <td>0.368261</td>\n",
       "      <td>0.135616</td>\n",
       "      <td>0.260579</td>\n",
       "      <td>0.261144</td>\n",
       "    </tr>\n",
       "    <tr>\n",
       "      <th>7</th>\n",
       "      <td>GBM_grid_1_AutoML_20181214_171830_model_19</td>\n",
       "      <td>0.136140</td>\n",
       "      <td>0.368972</td>\n",
       "      <td>0.136140</td>\n",
       "      <td>0.272553</td>\n",
       "      <td>0.262234</td>\n",
       "    </tr>\n",
       "    <tr>\n",
       "      <th>8</th>\n",
       "      <td>GBM_grid_1_AutoML_20181214_171830_model_5</td>\n",
       "      <td>0.136886</td>\n",
       "      <td>0.369981</td>\n",
       "      <td>0.136886</td>\n",
       "      <td>0.294889</td>\n",
       "      <td>0.261161</td>\n",
       "    </tr>\n",
       "    <tr>\n",
       "      <th>9</th>\n",
       "      <td>GBM_4_AutoML_20181214_171830</td>\n",
       "      <td>0.137578</td>\n",
       "      <td>0.370914</td>\n",
       "      <td>0.137578</td>\n",
       "      <td>0.261210</td>\n",
       "      <td>0.263769</td>\n",
       "    </tr>\n",
       "    <tr>\n",
       "      <th>10</th>\n",
       "      <td>GBM_grid_1_AutoML_20181214_171830_model_14</td>\n",
       "      <td>0.138788</td>\n",
       "      <td>0.372543</td>\n",
       "      <td>0.138788</td>\n",
       "      <td>0.327878</td>\n",
       "      <td>0.262562</td>\n",
       "    </tr>\n",
       "    <tr>\n",
       "      <th>11</th>\n",
       "      <td>XRT_1_AutoML_20181214_171830</td>\n",
       "      <td>0.140408</td>\n",
       "      <td>0.374710</td>\n",
       "      <td>0.140408</td>\n",
       "      <td>0.261123</td>\n",
       "      <td>0.265317</td>\n",
       "    </tr>\n",
       "    <tr>\n",
       "      <th>12</th>\n",
       "      <td>GBM_grid_1_AutoML_20181214_171830_model_22</td>\n",
       "      <td>0.140540</td>\n",
       "      <td>0.374886</td>\n",
       "      <td>0.140540</td>\n",
       "      <td>0.277849</td>\n",
       "      <td>0.266002</td>\n",
       "    </tr>\n",
       "    <tr>\n",
       "      <th>13</th>\n",
       "      <td>DeepLearning_grid_1_AutoML_20181214_171830_mod...</td>\n",
       "      <td>0.141878</td>\n",
       "      <td>0.376667</td>\n",
       "      <td>0.141878</td>\n",
       "      <td>0.244654</td>\n",
       "      <td>0.261044</td>\n",
       "    </tr>\n",
       "    <tr>\n",
       "      <th>14</th>\n",
       "      <td>DeepLearning_1_AutoML_20181214_171830</td>\n",
       "      <td>0.141905</td>\n",
       "      <td>0.376703</td>\n",
       "      <td>0.141905</td>\n",
       "      <td>0.274722</td>\n",
       "      <td>0.263342</td>\n",
       "    </tr>\n",
       "    <tr>\n",
       "      <th>15</th>\n",
       "      <td>GBM_grid_1_AutoML_20181214_171830_model_2</td>\n",
       "      <td>0.142768</td>\n",
       "      <td>0.377846</td>\n",
       "      <td>0.142768</td>\n",
       "      <td>0.334957</td>\n",
       "      <td>0.267831</td>\n",
       "    </tr>\n",
       "    <tr>\n",
       "      <th>16</th>\n",
       "      <td>GBM_grid_1_AutoML_20181214_171830_model_7</td>\n",
       "      <td>0.144645</td>\n",
       "      <td>0.380323</td>\n",
       "      <td>0.144645</td>\n",
       "      <td>0.336487</td>\n",
       "      <td>0.269931</td>\n",
       "    </tr>\n",
       "    <tr>\n",
       "      <th>17</th>\n",
       "      <td>GLM_grid_1_AutoML_20181214_171830_model_1</td>\n",
       "      <td>0.145946</td>\n",
       "      <td>0.382028</td>\n",
       "      <td>0.145946</td>\n",
       "      <td>0.295867</td>\n",
       "      <td>0.269839</td>\n",
       "    </tr>\n",
       "    <tr>\n",
       "      <th>18</th>\n",
       "      <td>GBM_grid_1_AutoML_20181214_171830_model_17</td>\n",
       "      <td>0.146427</td>\n",
       "      <td>0.382658</td>\n",
       "      <td>0.146427</td>\n",
       "      <td>0.309221</td>\n",
       "      <td>0.271135</td>\n",
       "    </tr>\n",
       "    <tr>\n",
       "      <th>19</th>\n",
       "      <td>DRF_1_AutoML_20181214_171830</td>\n",
       "      <td>0.148671</td>\n",
       "      <td>0.385579</td>\n",
       "      <td>0.148671</td>\n",
       "      <td>0.260637</td>\n",
       "      <td>0.272685</td>\n",
       "    </tr>\n",
       "    <tr>\n",
       "      <th>20</th>\n",
       "      <td>GBM_grid_1_AutoML_20181214_171830_model_1</td>\n",
       "      <td>0.150106</td>\n",
       "      <td>0.387435</td>\n",
       "      <td>0.150106</td>\n",
       "      <td>0.352739</td>\n",
       "      <td>0.274726</td>\n",
       "    </tr>\n",
       "    <tr>\n",
       "      <th>21</th>\n",
       "      <td>GBM_grid_1_AutoML_20181214_171830_model_16</td>\n",
       "      <td>0.156775</td>\n",
       "      <td>0.395949</td>\n",
       "      <td>0.156775</td>\n",
       "      <td>0.364811</td>\n",
       "      <td>0.279338</td>\n",
       "    </tr>\n",
       "    <tr>\n",
       "      <th>22</th>\n",
       "      <td>GBM_5_AutoML_20181214_171830</td>\n",
       "      <td>0.158723</td>\n",
       "      <td>0.398400</td>\n",
       "      <td>0.158723</td>\n",
       "      <td>0.307371</td>\n",
       "      <td>0.282172</td>\n",
       "    </tr>\n",
       "    <tr>\n",
       "      <th>23</th>\n",
       "      <td>GBM_grid_1_AutoML_20181214_171830_model_4</td>\n",
       "      <td>0.159338</td>\n",
       "      <td>0.399172</td>\n",
       "      <td>0.159338</td>\n",
       "      <td>0.301030</td>\n",
       "      <td>0.285123</td>\n",
       "    </tr>\n",
       "    <tr>\n",
       "      <th>24</th>\n",
       "      <td>DeepLearning_grid_1_AutoML_20181214_171830_mod...</td>\n",
       "      <td>0.167064</td>\n",
       "      <td>0.408734</td>\n",
       "      <td>0.167064</td>\n",
       "      <td>0.268506</td>\n",
       "      <td>0.286529</td>\n",
       "    </tr>\n",
       "    <tr>\n",
       "      <th>25</th>\n",
       "      <td>DeepLearning_grid_1_AutoML_20181214_171830_mod...</td>\n",
       "      <td>0.167732</td>\n",
       "      <td>0.409551</td>\n",
       "      <td>0.167732</td>\n",
       "      <td>0.253856</td>\n",
       "      <td>0.286353</td>\n",
       "    </tr>\n",
       "    <tr>\n",
       "      <th>26</th>\n",
       "      <td>GBM_grid_1_AutoML_20181214_171830_model_12</td>\n",
       "      <td>0.171076</td>\n",
       "      <td>0.413614</td>\n",
       "      <td>0.171076</td>\n",
       "      <td>0.391506</td>\n",
       "      <td>0.291768</td>\n",
       "    </tr>\n",
       "    <tr>\n",
       "      <th>27</th>\n",
       "      <td>GBM_grid_1_AutoML_20181214_171830_model_8</td>\n",
       "      <td>0.174915</td>\n",
       "      <td>0.418229</td>\n",
       "      <td>0.174915</td>\n",
       "      <td>0.296760</td>\n",
       "      <td>0.304193</td>\n",
       "    </tr>\n",
       "    <tr>\n",
       "      <th>28</th>\n",
       "      <td>GBM_grid_1_AutoML_20181214_171830_model_20</td>\n",
       "      <td>0.185963</td>\n",
       "      <td>0.431234</td>\n",
       "      <td>0.185963</td>\n",
       "      <td>0.325080</td>\n",
       "      <td>0.312930</td>\n",
       "    </tr>\n",
       "    <tr>\n",
       "      <th>29</th>\n",
       "      <td>GBM_grid_1_AutoML_20181214_171830_model_10</td>\n",
       "      <td>0.187874</td>\n",
       "      <td>0.433444</td>\n",
       "      <td>0.187874</td>\n",
       "      <td>0.416508</td>\n",
       "      <td>0.306378</td>\n",
       "    </tr>\n",
       "    <tr>\n",
       "      <th>30</th>\n",
       "      <td>GBM_grid_1_AutoML_20181214_171830_model_11</td>\n",
       "      <td>0.206858</td>\n",
       "      <td>0.454816</td>\n",
       "      <td>0.206858</td>\n",
       "      <td>0.440717</td>\n",
       "      <td>0.320953</td>\n",
       "    </tr>\n",
       "    <tr>\n",
       "      <th>31</th>\n",
       "      <td>GBM_grid_1_AutoML_20181214_171830_model_13</td>\n",
       "      <td>0.207773</td>\n",
       "      <td>0.455821</td>\n",
       "      <td>0.207773</td>\n",
       "      <td>0.441914</td>\n",
       "      <td>0.321494</td>\n",
       "    </tr>\n",
       "    <tr>\n",
       "      <th>32</th>\n",
       "      <td>GBM_grid_1_AutoML_20181214_171830_model_18</td>\n",
       "      <td>0.218444</td>\n",
       "      <td>0.467380</td>\n",
       "      <td>0.218444</td>\n",
       "      <td>0.453486</td>\n",
       "      <td>0.328913</td>\n",
       "    </tr>\n",
       "    <tr>\n",
       "      <th>33</th>\n",
       "      <td>GBM_grid_1_AutoML_20181214_171830_model_6</td>\n",
       "      <td>0.229067</td>\n",
       "      <td>0.478609</td>\n",
       "      <td>0.229067</td>\n",
       "      <td>0.364833</td>\n",
       "      <td>0.353881</td>\n",
       "    </tr>\n",
       "    <tr>\n",
       "      <th>34</th>\n",
       "      <td>GBM_grid_1_AutoML_20181214_171830_model_3</td>\n",
       "      <td>0.230543</td>\n",
       "      <td>0.480149</td>\n",
       "      <td>0.230543</td>\n",
       "      <td>0.466648</td>\n",
       "      <td>0.337846</td>\n",
       "    </tr>\n",
       "    <tr>\n",
       "      <th>35</th>\n",
       "      <td>GBM_grid_1_AutoML_20181214_171830_model_15</td>\n",
       "      <td>0.233865</td>\n",
       "      <td>0.483596</td>\n",
       "      <td>0.233865</td>\n",
       "      <td>0.470010</td>\n",
       "      <td>0.340286</td>\n",
       "    </tr>\n",
       "  </tbody>\n",
       "</table>\n",
       "</div>"
      ],
      "text/plain": [
       "                                             model_id  mean_residual_deviance  \\\n",
       "0    StackedEnsemble_AllModels_AutoML_20181214_171830                0.126741   \n",
       "1   StackedEnsemble_BestOfFamily_AutoML_20181214_1...                0.129717   \n",
       "2                        GBM_3_AutoML_20181214_171830                0.132251   \n",
       "3                        GBM_2_AutoML_20181214_171830                0.132469   \n",
       "4           GBM_grid_1_AutoML_20181214_171830_model_9                0.132978   \n",
       "5          GBM_grid_1_AutoML_20181214_171830_model_21                0.133650   \n",
       "6                        GBM_1_AutoML_20181214_171830                0.135616   \n",
       "7          GBM_grid_1_AutoML_20181214_171830_model_19                0.136140   \n",
       "8           GBM_grid_1_AutoML_20181214_171830_model_5                0.136886   \n",
       "9                        GBM_4_AutoML_20181214_171830                0.137578   \n",
       "10         GBM_grid_1_AutoML_20181214_171830_model_14                0.138788   \n",
       "11                       XRT_1_AutoML_20181214_171830                0.140408   \n",
       "12         GBM_grid_1_AutoML_20181214_171830_model_22                0.140540   \n",
       "13  DeepLearning_grid_1_AutoML_20181214_171830_mod...                0.141878   \n",
       "14              DeepLearning_1_AutoML_20181214_171830                0.141905   \n",
       "15          GBM_grid_1_AutoML_20181214_171830_model_2                0.142768   \n",
       "16          GBM_grid_1_AutoML_20181214_171830_model_7                0.144645   \n",
       "17          GLM_grid_1_AutoML_20181214_171830_model_1                0.145946   \n",
       "18         GBM_grid_1_AutoML_20181214_171830_model_17                0.146427   \n",
       "19                       DRF_1_AutoML_20181214_171830                0.148671   \n",
       "20          GBM_grid_1_AutoML_20181214_171830_model_1                0.150106   \n",
       "21         GBM_grid_1_AutoML_20181214_171830_model_16                0.156775   \n",
       "22                       GBM_5_AutoML_20181214_171830                0.158723   \n",
       "23          GBM_grid_1_AutoML_20181214_171830_model_4                0.159338   \n",
       "24  DeepLearning_grid_1_AutoML_20181214_171830_mod...                0.167064   \n",
       "25  DeepLearning_grid_1_AutoML_20181214_171830_mod...                0.167732   \n",
       "26         GBM_grid_1_AutoML_20181214_171830_model_12                0.171076   \n",
       "27          GBM_grid_1_AutoML_20181214_171830_model_8                0.174915   \n",
       "28         GBM_grid_1_AutoML_20181214_171830_model_20                0.185963   \n",
       "29         GBM_grid_1_AutoML_20181214_171830_model_10                0.187874   \n",
       "30         GBM_grid_1_AutoML_20181214_171830_model_11                0.206858   \n",
       "31         GBM_grid_1_AutoML_20181214_171830_model_13                0.207773   \n",
       "32         GBM_grid_1_AutoML_20181214_171830_model_18                0.218444   \n",
       "33          GBM_grid_1_AutoML_20181214_171830_model_6                0.229067   \n",
       "34          GBM_grid_1_AutoML_20181214_171830_model_3                0.230543   \n",
       "35         GBM_grid_1_AutoML_20181214_171830_model_15                0.233865   \n",
       "\n",
       "        rmse       mse       mae     rmsle  \n",
       "0   0.356006  0.126741  0.256589  0.249802  \n",
       "1   0.360163  0.129717  0.265749  0.253417  \n",
       "2   0.363664  0.132251  0.263926  0.256737  \n",
       "3   0.363963  0.132469  0.260689  0.258011  \n",
       "4   0.364662  0.132978  0.282134  0.257893  \n",
       "5   0.365582  0.133650  0.277383  0.259301  \n",
       "6   0.368261  0.135616  0.260579  0.261144  \n",
       "7   0.368972  0.136140  0.272553  0.262234  \n",
       "8   0.369981  0.136886  0.294889  0.261161  \n",
       "9   0.370914  0.137578  0.261210  0.263769  \n",
       "10  0.372543  0.138788  0.327878  0.262562  \n",
       "11  0.374710  0.140408  0.261123  0.265317  \n",
       "12  0.374886  0.140540  0.277849  0.266002  \n",
       "13  0.376667  0.141878  0.244654  0.261044  \n",
       "14  0.376703  0.141905  0.274722  0.263342  \n",
       "15  0.377846  0.142768  0.334957  0.267831  \n",
       "16  0.380323  0.144645  0.336487  0.269931  \n",
       "17  0.382028  0.145946  0.295867  0.269839  \n",
       "18  0.382658  0.146427  0.309221  0.271135  \n",
       "19  0.385579  0.148671  0.260637  0.272685  \n",
       "20  0.387435  0.150106  0.352739  0.274726  \n",
       "21  0.395949  0.156775  0.364811  0.279338  \n",
       "22  0.398400  0.158723  0.307371  0.282172  \n",
       "23  0.399172  0.159338  0.301030  0.285123  \n",
       "24  0.408734  0.167064  0.268506  0.286529  \n",
       "25  0.409551  0.167732  0.253856  0.286353  \n",
       "26  0.413614  0.171076  0.391506  0.291768  \n",
       "27  0.418229  0.174915  0.296760  0.304193  \n",
       "28  0.431234  0.185963  0.325080  0.312930  \n",
       "29  0.433444  0.187874  0.416508  0.306378  \n",
       "30  0.454816  0.206858  0.440717  0.320953  \n",
       "31  0.455821  0.207773  0.441914  0.321494  \n",
       "32  0.467380  0.218444  0.453486  0.328913  \n",
       "33  0.478609  0.229067  0.364833  0.353881  \n",
       "34  0.480149  0.230543  0.466648  0.337846  \n",
       "35  0.483596  0.233865  0.470010  0.340286  "
      ]
     },
     "execution_count": 35,
     "metadata": {},
     "output_type": "execute_result"
    }
   ],
   "source": [
    "aml_leaderboard_df"
   ]
  },
  {
   "cell_type": "code",
   "execution_count": 36,
   "metadata": {},
   "outputs": [],
   "source": [
    "# STart best model as first model\n",
    "\n",
    "model_set=aml_leaderboard_df['model_id']\n",
    "mod_best=h2o.get_model(model_set[0])"
   ]
  },
  {
   "cell_type": "code",
   "execution_count": 37,
   "metadata": {},
   "outputs": [
    {
     "data": {
      "text/plain": [
       "'StackedEnsemble_AllModels_AutoML_20181214_171830'"
      ]
     },
     "execution_count": 37,
     "metadata": {},
     "output_type": "execute_result"
    }
   ],
   "source": [
    "mod_best._id"
   ]
  },
  {
   "cell_type": "code",
   "execution_count": 38,
   "metadata": {},
   "outputs": [],
   "source": [
    "# Get stacked ensemble  \n",
    "se=get_stacked_ensemble(model_set)"
   ]
  },
  {
   "cell_type": "code",
   "execution_count": 39,
   "metadata": {},
   "outputs": [
    {
     "name": "stdout",
     "output_type": "stream",
     "text": [
      "StackedEnsemble_BestOfFamily_AutoML_20181214_171830\n"
     ]
    }
   ],
   "source": [
    "print(se)"
   ]
  },
  {
   "cell_type": "code",
   "execution_count": 40,
   "metadata": {},
   "outputs": [],
   "source": [
    "if se is not None:\n",
    "  mod_best=h2o.get_model(se)"
   ]
  },
  {
   "cell_type": "code",
   "execution_count": 41,
   "metadata": {},
   "outputs": [
    {
     "data": {
      "text/plain": [
       "['__class__',\n",
       " '__delattr__',\n",
       " '__dict__',\n",
       " '__dir__',\n",
       " '__doc__',\n",
       " '__eq__',\n",
       " '__format__',\n",
       " '__ge__',\n",
       " '__getattr__',\n",
       " '__getattribute__',\n",
       " '__gt__',\n",
       " '__hash__',\n",
       " '__init__',\n",
       " '__init_subclass__',\n",
       " '__le__',\n",
       " '__lt__',\n",
       " '__module__',\n",
       " '__ne__',\n",
       " '__new__',\n",
       " '__reduce__',\n",
       " '__reduce_ex__',\n",
       " '__repr__',\n",
       " '__setattr__',\n",
       " '__sizeof__',\n",
       " '__str__',\n",
       " '__subclasshook__',\n",
       " '__weakref__',\n",
       " '_bc',\n",
       " '_bcin',\n",
       " '_check_targets',\n",
       " '_compute_algo',\n",
       " '_estimator_type',\n",
       " '_future',\n",
       " '_get_metrics',\n",
       " '_have_mojo',\n",
       " '_have_pojo',\n",
       " '_id',\n",
       " '_is_xvalidated',\n",
       " '_job',\n",
       " '_keyify_if_h2oframe',\n",
       " '_make_model',\n",
       " '_metrics_class',\n",
       " '_model_json',\n",
       " '_parms',\n",
       " '_plot',\n",
       " '_requires_training_frame',\n",
       " '_resolve_model',\n",
       " '_verify_training_frame_params',\n",
       " '_xval_keys',\n",
       " 'actual_params',\n",
       " 'aic',\n",
       " 'algo',\n",
       " 'auc',\n",
       " 'base_models',\n",
       " 'biases',\n",
       " 'catoffsets',\n",
       " 'coef',\n",
       " 'coef_norm',\n",
       " 'convert_H2OXGBoostParams_2_XGBoostParams',\n",
       " 'cross_validation_fold_assignment',\n",
       " 'cross_validation_holdout_predictions',\n",
       " 'cross_validation_metrics_summary',\n",
       " 'cross_validation_models',\n",
       " 'cross_validation_predictions',\n",
       " 'deepfeatures',\n",
       " 'default_params',\n",
       " 'download_mojo',\n",
       " 'download_pojo',\n",
       " 'fit',\n",
       " 'full_parameters',\n",
       " 'get_params',\n",
       " 'get_xval_models',\n",
       " 'gini',\n",
       " 'have_mojo',\n",
       " 'have_pojo',\n",
       " 'is_cross_validated',\n",
       " 'join',\n",
       " 'keep_levelone_frame',\n",
       " 'levelone_frame_id',\n",
       " 'logloss',\n",
       " 'mae',\n",
       " 'mean_residual_deviance',\n",
       " 'metalearner',\n",
       " 'metalearner_algorithm',\n",
       " 'metalearner_fold_assignment',\n",
       " 'metalearner_fold_column',\n",
       " 'metalearner_nfolds',\n",
       " 'metalearner_params',\n",
       " 'mixin',\n",
       " 'model_id',\n",
       " 'model_performance',\n",
       " 'mse',\n",
       " 'normmul',\n",
       " 'normsub',\n",
       " 'null_degrees_of_freedom',\n",
       " 'null_deviance',\n",
       " 'params',\n",
       " 'parms',\n",
       " 'partial_plot',\n",
       " 'plot',\n",
       " 'pprint_coef',\n",
       " 'predict',\n",
       " 'predict_leaf_node_assignment',\n",
       " 'r2',\n",
       " 'residual_degrees_of_freedom',\n",
       " 'residual_deviance',\n",
       " 'respmul',\n",
       " 'response_column',\n",
       " 'respsub',\n",
       " 'rmse',\n",
       " 'rmsle',\n",
       " 'rotation',\n",
       " 'save_model_details',\n",
       " 'save_mojo',\n",
       " 'score_history',\n",
       " 'scoring_history',\n",
       " 'seed',\n",
       " 'set_params',\n",
       " 'show',\n",
       " 'staged_predict_proba',\n",
       " 'start',\n",
       " 'std_coef_plot',\n",
       " 'summary',\n",
       " 'train',\n",
       " 'training_frame',\n",
       " 'type',\n",
       " 'validation_frame',\n",
       " 'varimp',\n",
       " 'varimp_plot',\n",
       " 'weights',\n",
       " 'xval_keys',\n",
       " 'xvals']"
      ]
     },
     "execution_count": 41,
     "metadata": {},
     "output_type": "execute_result"
    }
   ],
   "source": [
    "dir(mod_best)"
   ]
  },
  {
   "cell_type": "code",
   "execution_count": 42,
   "metadata": {},
   "outputs": [
    {
     "data": {
      "text/plain": [
       "'StackedEnsemble_BestOfFamily_AutoML_20181214_171830'"
      ]
     },
     "execution_count": 42,
     "metadata": {},
     "output_type": "execute_result"
    }
   ],
   "source": [
    "mod_best._id"
   ]
  },
  {
   "cell_type": "code",
   "execution_count": 43,
   "metadata": {},
   "outputs": [
    {
     "data": {
      "text/plain": [
       "<function h2o.model.model_base.ModelBase._get_metrics(o, train, valid, xval)>"
      ]
     },
     "execution_count": 43,
     "metadata": {},
     "output_type": "execute_result"
    }
   ],
   "source": [
    "mod_best._get_metrics"
   ]
  },
  {
   "cell_type": "code",
   "execution_count": 44,
   "metadata": {},
   "outputs": [
    {
     "data": {
      "text/plain": [
       "h2o.estimators.stackedensemble.H2OStackedEnsembleEstimator"
      ]
     },
     "execution_count": 44,
     "metadata": {},
     "output_type": "execute_result"
    }
   ],
   "source": [
    "type(mod_best)"
   ]
  },
  {
   "cell_type": "code",
   "execution_count": 45,
   "metadata": {},
   "outputs": [
    {
     "name": "stdout",
     "output_type": "stream",
     "text": [
      "Model Details\n",
      "=============\n",
      "H2OStackedEnsembleEstimator :  Stacked Ensemble\n",
      "Model Key:  StackedEnsemble_BestOfFamily_AutoML_20181214_171830\n",
      "No model summary for this model\n",
      "\n",
      "\n",
      "ModelMetricsRegressionGLM: stackedensemble\n",
      "** Reported on train data. **\n",
      "\n",
      "MSE: 0.05525029037736573\n",
      "RMSE: 0.23505380315443894\n",
      "MAE: 0.17091064137868828\n",
      "RMSLE: 0.16724083694418132\n",
      "R^2: 0.7660378501107306\n",
      "Mean Residual Deviance: 0.05525029037736573\n",
      "Null degrees of freedom: 802\n",
      "Residual degrees of freedom: 797\n",
      "Null deviance: 189.62889165628934\n",
      "Residual deviance: 44.36598317302468\n",
      "AIC: -32.577707041319954\n",
      "\n",
      "ModelMetricsRegressionGLM: stackedensemble\n",
      "** Reported on validation data. **\n",
      "\n",
      "MSE: 0.15409163969592002\n",
      "RMSE: 0.39254507982640674\n",
      "MAE: 0.3013583885460911\n",
      "RMSLE: 0.2749323586780609\n",
      "R^2: 0.35671932193789513\n",
      "Mean Residual Deviance: 0.15409163969592002\n",
      "Null degrees of freedom: 87\n",
      "Residual degrees of freedom: 82\n",
      "Null deviance: 21.100445248127752\n",
      "Residual deviance: 13.560064293240963\n",
      "AIC: 99.15489627230076\n",
      "\n",
      "ModelMetricsRegressionGLM: stackedensemble\n",
      "** Reported on cross-validation data. **\n",
      "\n",
      "MSE: 0.12971739379243652\n",
      "RMSE: 0.3601630100280101\n",
      "MAE: 0.2657492351307095\n",
      "RMSLE: 0.25341662504537293\n",
      "R^2: 0.45070043754657974\n",
      "Mean Residual Deviance: 0.12971739379243652\n",
      "Null degrees of freedom: 802\n",
      "Residual degrees of freedom: 798\n",
      "Null deviance: 190.25528940408455\n",
      "Residual deviance: 104.16306721532652\n",
      "AIC: 650.7704220457522\n",
      "<bound method ModelBase.coef_norm of >\n"
     ]
    }
   ],
   "source": [
    "mods=mod_best.coef_norm\n",
    "print(mods)"
   ]
  },
  {
   "cell_type": "code",
   "execution_count": 46,
   "metadata": {},
   "outputs": [
    {
     "data": {
      "text/plain": [
       "'\\nmod_best.aic()\\n mod_best.algo\\n mod_best.coef()\\n mod_best.coef_norm()\\n mod_best.confusion_matrix()\\n mod_best.cross_validation_fold_assignment()\\n mod_best.cross_validation_holdout_predictions()\\n mod_best.cross_validation_metrics_summary()\\n mod_best.cross_validation_models()\\n mod_best.cross_validation_predictions()\\n mod_best.deepfeatures()\\n mod_best.default_params()\\n mod_best.download_mojo()\\n mod_best.download_pojo()\\n mod_best.fit()\\n mod_best.full_parameters()\\n mod_best.get_params()\\n mod_best.get_xval_models()\\n mod_best.gini()\\n mod_best.have_mojo()\\n mod_best.have_pojo()\\n mod_best.hit_ratio_table()\\n mod_best.is_cross_validated()\\n mod_best.join()\\n mod_best.keep_levelone_frame()\\n mod_best.levelone_frame_id()\\n mod_best.logloss()\\n mod_best.mae()\\n mod_best.mean_per_class_error()\\n mod_best.mean_residual_deviance()\\n mod_best.metalearner()\\n mod_best.metalearner_algorithm()\\n mod_best.metalearner_fold_assignment()\\n mod_best.metalearner_fold_column()\\n mod_best.metalearner_nfolds()\\n mod_best.metalearner_params()\\n mod_best.mixin()\\n mod_best.model_id()\\n mod_best.model_performance()\\n mod_best.mse()\\n mod_best.normmul()\\n mod_best.normsub()\\n mod_best.null_degrees_of_freedom()\\n mod_best.null_deviance()\\n mod_best.params()\\n mod_best.parms()\\n mod_best.partial_plot()\\n mod_best.plot()\\n mod_best.pprint_coef()\\n mod_best.predict()\\n mod_best.predict_leaf_node_assignment()\\n mod_best.r2()\\n mod_best.residual_degrees_of_freedom()\\n mod_best.residual_deviance()\\n mod_best.respmul()\\n mod_best.response_column()\\n mod_best.respsub()\\n mod_best.rmse()\\n mod_best.rmsle()\\n mod_best.rotation()\\n mod_best.save_model_details()\\n mod_best.save_mojo()\\n mod_best.score_history()\\n mod_best.scoring_history()\\n mod_best.seed()\\n mod_best.set_params()\\n mod_best.show()\\n mod_best.start()\\n mod_best.std_coef_plot()\\n mod_best.summary()\\n mod_best.train()\\n mod_best.training_frame()\\n mod_best.type()\\n mod_best.validation_frame()\\n mod_best.varimp()\\n mod_best.varimp_plot()\\n mod_best.weights()\\n mod_best.xval_keys()\\n mod_best.xvalsmod_best()\\n '"
      ]
     },
     "execution_count": 46,
     "metadata": {},
     "output_type": "execute_result"
    }
   ],
   "source": [
    "'''\n",
    "mod_best.aic()\n",
    " mod_best.algo\n",
    " mod_best.coef()\n",
    " mod_best.coef_norm()\n",
    " mod_best.confusion_matrix()\n",
    " mod_best.cross_validation_fold_assignment()\n",
    " mod_best.cross_validation_holdout_predictions()\n",
    " mod_best.cross_validation_metrics_summary()\n",
    " mod_best.cross_validation_models()\n",
    " mod_best.cross_validation_predictions()\n",
    " mod_best.deepfeatures()\n",
    " mod_best.default_params()\n",
    " mod_best.download_mojo()\n",
    " mod_best.download_pojo()\n",
    " mod_best.fit()\n",
    " mod_best.full_parameters()\n",
    " mod_best.get_params()\n",
    " mod_best.get_xval_models()\n",
    " mod_best.gini()\n",
    " mod_best.have_mojo()\n",
    " mod_best.have_pojo()\n",
    " mod_best.hit_ratio_table()\n",
    " mod_best.is_cross_validated()\n",
    " mod_best.join()\n",
    " mod_best.keep_levelone_frame()\n",
    " mod_best.levelone_frame_id()\n",
    " mod_best.logloss()\n",
    " mod_best.mae()\n",
    " mod_best.mean_per_class_error()\n",
    " mod_best.mean_residual_deviance()\n",
    " mod_best.metalearner()\n",
    " mod_best.metalearner_algorithm()\n",
    " mod_best.metalearner_fold_assignment()\n",
    " mod_best.metalearner_fold_column()\n",
    " mod_best.metalearner_nfolds()\n",
    " mod_best.metalearner_params()\n",
    " mod_best.mixin()\n",
    " mod_best.model_id()\n",
    " mod_best.model_performance()\n",
    " mod_best.mse()\n",
    " mod_best.normmul()\n",
    " mod_best.normsub()\n",
    " mod_best.null_degrees_of_freedom()\n",
    " mod_best.null_deviance()\n",
    " mod_best.params()\n",
    " mod_best.parms()\n",
    " mod_best.partial_plot()\n",
    " mod_best.plot()\n",
    " mod_best.pprint_coef()\n",
    " mod_best.predict()\n",
    " mod_best.predict_leaf_node_assignment()\n",
    " mod_best.r2()\n",
    " mod_best.residual_degrees_of_freedom()\n",
    " mod_best.residual_deviance()\n",
    " mod_best.respmul()\n",
    " mod_best.response_column()\n",
    " mod_best.respsub()\n",
    " mod_best.rmse()\n",
    " mod_best.rmsle()\n",
    " mod_best.rotation()\n",
    " mod_best.save_model_details()\n",
    " mod_best.save_mojo()\n",
    " mod_best.score_history()\n",
    " mod_best.scoring_history()\n",
    " mod_best.seed()\n",
    " mod_best.set_params()\n",
    " mod_best.show()\n",
    " mod_best.start()\n",
    " mod_best.std_coef_plot()\n",
    " mod_best.summary()\n",
    " mod_best.train()\n",
    " mod_best.training_frame()\n",
    " mod_best.type()\n",
    " mod_best.validation_frame()\n",
    " mod_best.varimp()\n",
    " mod_best.varimp_plot()\n",
    " mod_best.weights()\n",
    " mod_best.xval_keys()\n",
    " mod_best.xvalsmod_best()\n",
    " '''"
   ]
  },
  {
   "cell_type": "code",
   "execution_count": 47,
   "metadata": {},
   "outputs": [],
   "source": [
    "bm=stackedensemble_df(aml_leaderboard_df)"
   ]
  },
  {
   "cell_type": "code",
   "execution_count": 48,
   "metadata": {},
   "outputs": [
    {
     "data": {
      "text/plain": [
       "['GBM_3_AutoML_20181214_171830',\n",
       " 'GLM_grid_1_AutoML_20181214_171830_model_1',\n",
       " 'DRF_1_AutoML_20181214_171830',\n",
       " 'XRT_1_AutoML_20181214_171830',\n",
       " 'DeepLearning_grid_1_AutoML_20181214_171830_model_1']"
      ]
     },
     "execution_count": 48,
     "metadata": {},
     "output_type": "execute_result"
    }
   ],
   "source": [
    "bm"
   ]
  },
  {
   "cell_type": "code",
   "execution_count": 49,
   "metadata": {},
   "outputs": [
    {
     "data": {
      "text/html": [
       "<div>\n",
       "<style scoped>\n",
       "    .dataframe tbody tr th:only-of-type {\n",
       "        vertical-align: middle;\n",
       "    }\n",
       "\n",
       "    .dataframe tbody tr th {\n",
       "        vertical-align: top;\n",
       "    }\n",
       "\n",
       "    .dataframe thead th {\n",
       "        text-align: right;\n",
       "    }\n",
       "</style>\n",
       "<table border=\"1\" class=\"dataframe\">\n",
       "  <thead>\n",
       "    <tr style=\"text-align: right;\">\n",
       "      <th></th>\n",
       "      <th>model_id</th>\n",
       "      <th>mean_residual_deviance</th>\n",
       "      <th>rmse</th>\n",
       "      <th>mse</th>\n",
       "      <th>mae</th>\n",
       "      <th>rmsle</th>\n",
       "    </tr>\n",
       "  </thead>\n",
       "  <tbody>\n",
       "    <tr>\n",
       "      <th>0</th>\n",
       "      <td>StackedEnsemble_AllModels_AutoML_20181214_171830</td>\n",
       "      <td>0.126741</td>\n",
       "      <td>0.356006</td>\n",
       "      <td>0.126741</td>\n",
       "      <td>0.256589</td>\n",
       "      <td>0.249802</td>\n",
       "    </tr>\n",
       "    <tr>\n",
       "      <th>1</th>\n",
       "      <td>StackedEnsemble_BestOfFamily_AutoML_20181214_1...</td>\n",
       "      <td>0.129717</td>\n",
       "      <td>0.360163</td>\n",
       "      <td>0.129717</td>\n",
       "      <td>0.265749</td>\n",
       "      <td>0.253417</td>\n",
       "    </tr>\n",
       "    <tr>\n",
       "      <th>2</th>\n",
       "      <td>GBM_3_AutoML_20181214_171830</td>\n",
       "      <td>0.132251</td>\n",
       "      <td>0.363664</td>\n",
       "      <td>0.132251</td>\n",
       "      <td>0.263926</td>\n",
       "      <td>0.256737</td>\n",
       "    </tr>\n",
       "    <tr>\n",
       "      <th>3</th>\n",
       "      <td>GBM_2_AutoML_20181214_171830</td>\n",
       "      <td>0.132469</td>\n",
       "      <td>0.363963</td>\n",
       "      <td>0.132469</td>\n",
       "      <td>0.260689</td>\n",
       "      <td>0.258011</td>\n",
       "    </tr>\n",
       "    <tr>\n",
       "      <th>4</th>\n",
       "      <td>GBM_grid_1_AutoML_20181214_171830_model_9</td>\n",
       "      <td>0.132978</td>\n",
       "      <td>0.364662</td>\n",
       "      <td>0.132978</td>\n",
       "      <td>0.282134</td>\n",
       "      <td>0.257893</td>\n",
       "    </tr>\n",
       "    <tr>\n",
       "      <th>5</th>\n",
       "      <td>GBM_grid_1_AutoML_20181214_171830_model_21</td>\n",
       "      <td>0.133650</td>\n",
       "      <td>0.365582</td>\n",
       "      <td>0.133650</td>\n",
       "      <td>0.277383</td>\n",
       "      <td>0.259301</td>\n",
       "    </tr>\n",
       "    <tr>\n",
       "      <th>6</th>\n",
       "      <td>GBM_1_AutoML_20181214_171830</td>\n",
       "      <td>0.135616</td>\n",
       "      <td>0.368261</td>\n",
       "      <td>0.135616</td>\n",
       "      <td>0.260579</td>\n",
       "      <td>0.261144</td>\n",
       "    </tr>\n",
       "    <tr>\n",
       "      <th>7</th>\n",
       "      <td>GBM_grid_1_AutoML_20181214_171830_model_19</td>\n",
       "      <td>0.136140</td>\n",
       "      <td>0.368972</td>\n",
       "      <td>0.136140</td>\n",
       "      <td>0.272553</td>\n",
       "      <td>0.262234</td>\n",
       "    </tr>\n",
       "    <tr>\n",
       "      <th>8</th>\n",
       "      <td>GBM_grid_1_AutoML_20181214_171830_model_5</td>\n",
       "      <td>0.136886</td>\n",
       "      <td>0.369981</td>\n",
       "      <td>0.136886</td>\n",
       "      <td>0.294889</td>\n",
       "      <td>0.261161</td>\n",
       "    </tr>\n",
       "    <tr>\n",
       "      <th>9</th>\n",
       "      <td>GBM_4_AutoML_20181214_171830</td>\n",
       "      <td>0.137578</td>\n",
       "      <td>0.370914</td>\n",
       "      <td>0.137578</td>\n",
       "      <td>0.261210</td>\n",
       "      <td>0.263769</td>\n",
       "    </tr>\n",
       "    <tr>\n",
       "      <th>10</th>\n",
       "      <td>GBM_grid_1_AutoML_20181214_171830_model_14</td>\n",
       "      <td>0.138788</td>\n",
       "      <td>0.372543</td>\n",
       "      <td>0.138788</td>\n",
       "      <td>0.327878</td>\n",
       "      <td>0.262562</td>\n",
       "    </tr>\n",
       "    <tr>\n",
       "      <th>11</th>\n",
       "      <td>XRT_1_AutoML_20181214_171830</td>\n",
       "      <td>0.140408</td>\n",
       "      <td>0.374710</td>\n",
       "      <td>0.140408</td>\n",
       "      <td>0.261123</td>\n",
       "      <td>0.265317</td>\n",
       "    </tr>\n",
       "    <tr>\n",
       "      <th>12</th>\n",
       "      <td>GBM_grid_1_AutoML_20181214_171830_model_22</td>\n",
       "      <td>0.140540</td>\n",
       "      <td>0.374886</td>\n",
       "      <td>0.140540</td>\n",
       "      <td>0.277849</td>\n",
       "      <td>0.266002</td>\n",
       "    </tr>\n",
       "    <tr>\n",
       "      <th>13</th>\n",
       "      <td>DeepLearning_grid_1_AutoML_20181214_171830_mod...</td>\n",
       "      <td>0.141878</td>\n",
       "      <td>0.376667</td>\n",
       "      <td>0.141878</td>\n",
       "      <td>0.244654</td>\n",
       "      <td>0.261044</td>\n",
       "    </tr>\n",
       "    <tr>\n",
       "      <th>14</th>\n",
       "      <td>DeepLearning_1_AutoML_20181214_171830</td>\n",
       "      <td>0.141905</td>\n",
       "      <td>0.376703</td>\n",
       "      <td>0.141905</td>\n",
       "      <td>0.274722</td>\n",
       "      <td>0.263342</td>\n",
       "    </tr>\n",
       "    <tr>\n",
       "      <th>15</th>\n",
       "      <td>GBM_grid_1_AutoML_20181214_171830_model_2</td>\n",
       "      <td>0.142768</td>\n",
       "      <td>0.377846</td>\n",
       "      <td>0.142768</td>\n",
       "      <td>0.334957</td>\n",
       "      <td>0.267831</td>\n",
       "    </tr>\n",
       "    <tr>\n",
       "      <th>16</th>\n",
       "      <td>GBM_grid_1_AutoML_20181214_171830_model_7</td>\n",
       "      <td>0.144645</td>\n",
       "      <td>0.380323</td>\n",
       "      <td>0.144645</td>\n",
       "      <td>0.336487</td>\n",
       "      <td>0.269931</td>\n",
       "    </tr>\n",
       "    <tr>\n",
       "      <th>17</th>\n",
       "      <td>GLM_grid_1_AutoML_20181214_171830_model_1</td>\n",
       "      <td>0.145946</td>\n",
       "      <td>0.382028</td>\n",
       "      <td>0.145946</td>\n",
       "      <td>0.295867</td>\n",
       "      <td>0.269839</td>\n",
       "    </tr>\n",
       "    <tr>\n",
       "      <th>18</th>\n",
       "      <td>GBM_grid_1_AutoML_20181214_171830_model_17</td>\n",
       "      <td>0.146427</td>\n",
       "      <td>0.382658</td>\n",
       "      <td>0.146427</td>\n",
       "      <td>0.309221</td>\n",
       "      <td>0.271135</td>\n",
       "    </tr>\n",
       "    <tr>\n",
       "      <th>19</th>\n",
       "      <td>DRF_1_AutoML_20181214_171830</td>\n",
       "      <td>0.148671</td>\n",
       "      <td>0.385579</td>\n",
       "      <td>0.148671</td>\n",
       "      <td>0.260637</td>\n",
       "      <td>0.272685</td>\n",
       "    </tr>\n",
       "    <tr>\n",
       "      <th>20</th>\n",
       "      <td>GBM_grid_1_AutoML_20181214_171830_model_1</td>\n",
       "      <td>0.150106</td>\n",
       "      <td>0.387435</td>\n",
       "      <td>0.150106</td>\n",
       "      <td>0.352739</td>\n",
       "      <td>0.274726</td>\n",
       "    </tr>\n",
       "    <tr>\n",
       "      <th>21</th>\n",
       "      <td>GBM_grid_1_AutoML_20181214_171830_model_16</td>\n",
       "      <td>0.156775</td>\n",
       "      <td>0.395949</td>\n",
       "      <td>0.156775</td>\n",
       "      <td>0.364811</td>\n",
       "      <td>0.279338</td>\n",
       "    </tr>\n",
       "    <tr>\n",
       "      <th>22</th>\n",
       "      <td>GBM_5_AutoML_20181214_171830</td>\n",
       "      <td>0.158723</td>\n",
       "      <td>0.398400</td>\n",
       "      <td>0.158723</td>\n",
       "      <td>0.307371</td>\n",
       "      <td>0.282172</td>\n",
       "    </tr>\n",
       "    <tr>\n",
       "      <th>23</th>\n",
       "      <td>GBM_grid_1_AutoML_20181214_171830_model_4</td>\n",
       "      <td>0.159338</td>\n",
       "      <td>0.399172</td>\n",
       "      <td>0.159338</td>\n",
       "      <td>0.301030</td>\n",
       "      <td>0.285123</td>\n",
       "    </tr>\n",
       "    <tr>\n",
       "      <th>24</th>\n",
       "      <td>DeepLearning_grid_1_AutoML_20181214_171830_mod...</td>\n",
       "      <td>0.167064</td>\n",
       "      <td>0.408734</td>\n",
       "      <td>0.167064</td>\n",
       "      <td>0.268506</td>\n",
       "      <td>0.286529</td>\n",
       "    </tr>\n",
       "    <tr>\n",
       "      <th>25</th>\n",
       "      <td>DeepLearning_grid_1_AutoML_20181214_171830_mod...</td>\n",
       "      <td>0.167732</td>\n",
       "      <td>0.409551</td>\n",
       "      <td>0.167732</td>\n",
       "      <td>0.253856</td>\n",
       "      <td>0.286353</td>\n",
       "    </tr>\n",
       "    <tr>\n",
       "      <th>26</th>\n",
       "      <td>GBM_grid_1_AutoML_20181214_171830_model_12</td>\n",
       "      <td>0.171076</td>\n",
       "      <td>0.413614</td>\n",
       "      <td>0.171076</td>\n",
       "      <td>0.391506</td>\n",
       "      <td>0.291768</td>\n",
       "    </tr>\n",
       "    <tr>\n",
       "      <th>27</th>\n",
       "      <td>GBM_grid_1_AutoML_20181214_171830_model_8</td>\n",
       "      <td>0.174915</td>\n",
       "      <td>0.418229</td>\n",
       "      <td>0.174915</td>\n",
       "      <td>0.296760</td>\n",
       "      <td>0.304193</td>\n",
       "    </tr>\n",
       "    <tr>\n",
       "      <th>28</th>\n",
       "      <td>GBM_grid_1_AutoML_20181214_171830_model_20</td>\n",
       "      <td>0.185963</td>\n",
       "      <td>0.431234</td>\n",
       "      <td>0.185963</td>\n",
       "      <td>0.325080</td>\n",
       "      <td>0.312930</td>\n",
       "    </tr>\n",
       "    <tr>\n",
       "      <th>29</th>\n",
       "      <td>GBM_grid_1_AutoML_20181214_171830_model_10</td>\n",
       "      <td>0.187874</td>\n",
       "      <td>0.433444</td>\n",
       "      <td>0.187874</td>\n",
       "      <td>0.416508</td>\n",
       "      <td>0.306378</td>\n",
       "    </tr>\n",
       "    <tr>\n",
       "      <th>30</th>\n",
       "      <td>GBM_grid_1_AutoML_20181214_171830_model_11</td>\n",
       "      <td>0.206858</td>\n",
       "      <td>0.454816</td>\n",
       "      <td>0.206858</td>\n",
       "      <td>0.440717</td>\n",
       "      <td>0.320953</td>\n",
       "    </tr>\n",
       "    <tr>\n",
       "      <th>31</th>\n",
       "      <td>GBM_grid_1_AutoML_20181214_171830_model_13</td>\n",
       "      <td>0.207773</td>\n",
       "      <td>0.455821</td>\n",
       "      <td>0.207773</td>\n",
       "      <td>0.441914</td>\n",
       "      <td>0.321494</td>\n",
       "    </tr>\n",
       "    <tr>\n",
       "      <th>32</th>\n",
       "      <td>GBM_grid_1_AutoML_20181214_171830_model_18</td>\n",
       "      <td>0.218444</td>\n",
       "      <td>0.467380</td>\n",
       "      <td>0.218444</td>\n",
       "      <td>0.453486</td>\n",
       "      <td>0.328913</td>\n",
       "    </tr>\n",
       "    <tr>\n",
       "      <th>33</th>\n",
       "      <td>GBM_grid_1_AutoML_20181214_171830_model_6</td>\n",
       "      <td>0.229067</td>\n",
       "      <td>0.478609</td>\n",
       "      <td>0.229067</td>\n",
       "      <td>0.364833</td>\n",
       "      <td>0.353881</td>\n",
       "    </tr>\n",
       "    <tr>\n",
       "      <th>34</th>\n",
       "      <td>GBM_grid_1_AutoML_20181214_171830_model_3</td>\n",
       "      <td>0.230543</td>\n",
       "      <td>0.480149</td>\n",
       "      <td>0.230543</td>\n",
       "      <td>0.466648</td>\n",
       "      <td>0.337846</td>\n",
       "    </tr>\n",
       "    <tr>\n",
       "      <th>35</th>\n",
       "      <td>GBM_grid_1_AutoML_20181214_171830_model_15</td>\n",
       "      <td>0.233865</td>\n",
       "      <td>0.483596</td>\n",
       "      <td>0.233865</td>\n",
       "      <td>0.470010</td>\n",
       "      <td>0.340286</td>\n",
       "    </tr>\n",
       "  </tbody>\n",
       "</table>\n",
       "</div>"
      ],
      "text/plain": [
       "                                             model_id  mean_residual_deviance  \\\n",
       "0    StackedEnsemble_AllModels_AutoML_20181214_171830                0.126741   \n",
       "1   StackedEnsemble_BestOfFamily_AutoML_20181214_1...                0.129717   \n",
       "2                        GBM_3_AutoML_20181214_171830                0.132251   \n",
       "3                        GBM_2_AutoML_20181214_171830                0.132469   \n",
       "4           GBM_grid_1_AutoML_20181214_171830_model_9                0.132978   \n",
       "5          GBM_grid_1_AutoML_20181214_171830_model_21                0.133650   \n",
       "6                        GBM_1_AutoML_20181214_171830                0.135616   \n",
       "7          GBM_grid_1_AutoML_20181214_171830_model_19                0.136140   \n",
       "8           GBM_grid_1_AutoML_20181214_171830_model_5                0.136886   \n",
       "9                        GBM_4_AutoML_20181214_171830                0.137578   \n",
       "10         GBM_grid_1_AutoML_20181214_171830_model_14                0.138788   \n",
       "11                       XRT_1_AutoML_20181214_171830                0.140408   \n",
       "12         GBM_grid_1_AutoML_20181214_171830_model_22                0.140540   \n",
       "13  DeepLearning_grid_1_AutoML_20181214_171830_mod...                0.141878   \n",
       "14              DeepLearning_1_AutoML_20181214_171830                0.141905   \n",
       "15          GBM_grid_1_AutoML_20181214_171830_model_2                0.142768   \n",
       "16          GBM_grid_1_AutoML_20181214_171830_model_7                0.144645   \n",
       "17          GLM_grid_1_AutoML_20181214_171830_model_1                0.145946   \n",
       "18         GBM_grid_1_AutoML_20181214_171830_model_17                0.146427   \n",
       "19                       DRF_1_AutoML_20181214_171830                0.148671   \n",
       "20          GBM_grid_1_AutoML_20181214_171830_model_1                0.150106   \n",
       "21         GBM_grid_1_AutoML_20181214_171830_model_16                0.156775   \n",
       "22                       GBM_5_AutoML_20181214_171830                0.158723   \n",
       "23          GBM_grid_1_AutoML_20181214_171830_model_4                0.159338   \n",
       "24  DeepLearning_grid_1_AutoML_20181214_171830_mod...                0.167064   \n",
       "25  DeepLearning_grid_1_AutoML_20181214_171830_mod...                0.167732   \n",
       "26         GBM_grid_1_AutoML_20181214_171830_model_12                0.171076   \n",
       "27          GBM_grid_1_AutoML_20181214_171830_model_8                0.174915   \n",
       "28         GBM_grid_1_AutoML_20181214_171830_model_20                0.185963   \n",
       "29         GBM_grid_1_AutoML_20181214_171830_model_10                0.187874   \n",
       "30         GBM_grid_1_AutoML_20181214_171830_model_11                0.206858   \n",
       "31         GBM_grid_1_AutoML_20181214_171830_model_13                0.207773   \n",
       "32         GBM_grid_1_AutoML_20181214_171830_model_18                0.218444   \n",
       "33          GBM_grid_1_AutoML_20181214_171830_model_6                0.229067   \n",
       "34          GBM_grid_1_AutoML_20181214_171830_model_3                0.230543   \n",
       "35         GBM_grid_1_AutoML_20181214_171830_model_15                0.233865   \n",
       "\n",
       "        rmse       mse       mae     rmsle  \n",
       "0   0.356006  0.126741  0.256589  0.249802  \n",
       "1   0.360163  0.129717  0.265749  0.253417  \n",
       "2   0.363664  0.132251  0.263926  0.256737  \n",
       "3   0.363963  0.132469  0.260689  0.258011  \n",
       "4   0.364662  0.132978  0.282134  0.257893  \n",
       "5   0.365582  0.133650  0.277383  0.259301  \n",
       "6   0.368261  0.135616  0.260579  0.261144  \n",
       "7   0.368972  0.136140  0.272553  0.262234  \n",
       "8   0.369981  0.136886  0.294889  0.261161  \n",
       "9   0.370914  0.137578  0.261210  0.263769  \n",
       "10  0.372543  0.138788  0.327878  0.262562  \n",
       "11  0.374710  0.140408  0.261123  0.265317  \n",
       "12  0.374886  0.140540  0.277849  0.266002  \n",
       "13  0.376667  0.141878  0.244654  0.261044  \n",
       "14  0.376703  0.141905  0.274722  0.263342  \n",
       "15  0.377846  0.142768  0.334957  0.267831  \n",
       "16  0.380323  0.144645  0.336487  0.269931  \n",
       "17  0.382028  0.145946  0.295867  0.269839  \n",
       "18  0.382658  0.146427  0.309221  0.271135  \n",
       "19  0.385579  0.148671  0.260637  0.272685  \n",
       "20  0.387435  0.150106  0.352739  0.274726  \n",
       "21  0.395949  0.156775  0.364811  0.279338  \n",
       "22  0.398400  0.158723  0.307371  0.282172  \n",
       "23  0.399172  0.159338  0.301030  0.285123  \n",
       "24  0.408734  0.167064  0.268506  0.286529  \n",
       "25  0.409551  0.167732  0.253856  0.286353  \n",
       "26  0.413614  0.171076  0.391506  0.291768  \n",
       "27  0.418229  0.174915  0.296760  0.304193  \n",
       "28  0.431234  0.185963  0.325080  0.312930  \n",
       "29  0.433444  0.187874  0.416508  0.306378  \n",
       "30  0.454816  0.206858  0.440717  0.320953  \n",
       "31  0.455821  0.207773  0.441914  0.321494  \n",
       "32  0.467380  0.218444  0.453486  0.328913  \n",
       "33  0.478609  0.229067  0.364833  0.353881  \n",
       "34  0.480149  0.230543  0.466648  0.337846  \n",
       "35  0.483596  0.233865  0.470010  0.340286  "
      ]
     },
     "execution_count": 49,
     "metadata": {},
     "output_type": "execute_result"
    }
   ],
   "source": [
    "aml_leaderboard_df"
   ]
  },
  {
   "cell_type": "code",
   "execution_count": 50,
   "metadata": {},
   "outputs": [],
   "source": [
    "#  Get best_models and coef_norm()\n",
    "best_models={}\n",
    "best_models=stackedensemble(mod_best)\n",
    "bm=[]\n",
    "if best_models is not None: \n",
    "  if 'Intercept' in best_models.keys():\n",
    "    del best_models['Intercept']\n",
    "  bm=list(best_models.keys())\n",
    "else:\n",
    "  best_models={}\n",
    "  bm=stackedensemble_df(aml_leaderboard_df)   \n",
    "  for b in bm:   \n",
    "    best_models[b]=None\n",
    "\n",
    "if mod_best.model_id not in bm:\n",
    "    bm.append(mod_best.model_id)"
   ]
  },
  {
   "cell_type": "code",
   "execution_count": 51,
   "metadata": {},
   "outputs": [
    {
     "data": {
      "text/plain": [
       "['GBM_3_AutoML_20181214_171830',\n",
       " 'XRT_1_AutoML_20181214_171830',\n",
       " 'DeepLearning_grid_1_AutoML_20181214_171830_model_1',\n",
       " 'GLM_grid_1_AutoML_20181214_171830_model_1',\n",
       " 'DRF_1_AutoML_20181214_171830',\n",
       " 'StackedEnsemble_BestOfFamily_AutoML_20181214_171830']"
      ]
     },
     "execution_count": 51,
     "metadata": {},
     "output_type": "execute_result"
    }
   ],
   "source": [
    "bm"
   ]
  },
  {
   "cell_type": "code",
   "execution_count": 52,
   "metadata": {},
   "outputs": [],
   "source": [
    "# Best of Family leaderboard\n",
    "\n",
    "aml_leaderboard_df=aml_leaderboard_df.loc[aml_leaderboard_df['model_id'].isin(bm)]"
   ]
  },
  {
   "cell_type": "code",
   "execution_count": 53,
   "metadata": {},
   "outputs": [
    {
     "data": {
      "text/html": [
       "<div>\n",
       "<style scoped>\n",
       "    .dataframe tbody tr th:only-of-type {\n",
       "        vertical-align: middle;\n",
       "    }\n",
       "\n",
       "    .dataframe tbody tr th {\n",
       "        vertical-align: top;\n",
       "    }\n",
       "\n",
       "    .dataframe thead th {\n",
       "        text-align: right;\n",
       "    }\n",
       "</style>\n",
       "<table border=\"1\" class=\"dataframe\">\n",
       "  <thead>\n",
       "    <tr style=\"text-align: right;\">\n",
       "      <th></th>\n",
       "      <th>model_id</th>\n",
       "      <th>mean_residual_deviance</th>\n",
       "      <th>rmse</th>\n",
       "      <th>mse</th>\n",
       "      <th>mae</th>\n",
       "      <th>rmsle</th>\n",
       "    </tr>\n",
       "  </thead>\n",
       "  <tbody>\n",
       "    <tr>\n",
       "      <th>1</th>\n",
       "      <td>StackedEnsemble_BestOfFamily_AutoML_20181214_1...</td>\n",
       "      <td>0.129717</td>\n",
       "      <td>0.360163</td>\n",
       "      <td>0.129717</td>\n",
       "      <td>0.265749</td>\n",
       "      <td>0.253417</td>\n",
       "    </tr>\n",
       "    <tr>\n",
       "      <th>2</th>\n",
       "      <td>GBM_3_AutoML_20181214_171830</td>\n",
       "      <td>0.132251</td>\n",
       "      <td>0.363664</td>\n",
       "      <td>0.132251</td>\n",
       "      <td>0.263926</td>\n",
       "      <td>0.256737</td>\n",
       "    </tr>\n",
       "    <tr>\n",
       "      <th>11</th>\n",
       "      <td>XRT_1_AutoML_20181214_171830</td>\n",
       "      <td>0.140408</td>\n",
       "      <td>0.374710</td>\n",
       "      <td>0.140408</td>\n",
       "      <td>0.261123</td>\n",
       "      <td>0.265317</td>\n",
       "    </tr>\n",
       "    <tr>\n",
       "      <th>13</th>\n",
       "      <td>DeepLearning_grid_1_AutoML_20181214_171830_mod...</td>\n",
       "      <td>0.141878</td>\n",
       "      <td>0.376667</td>\n",
       "      <td>0.141878</td>\n",
       "      <td>0.244654</td>\n",
       "      <td>0.261044</td>\n",
       "    </tr>\n",
       "    <tr>\n",
       "      <th>17</th>\n",
       "      <td>GLM_grid_1_AutoML_20181214_171830_model_1</td>\n",
       "      <td>0.145946</td>\n",
       "      <td>0.382028</td>\n",
       "      <td>0.145946</td>\n",
       "      <td>0.295867</td>\n",
       "      <td>0.269839</td>\n",
       "    </tr>\n",
       "    <tr>\n",
       "      <th>19</th>\n",
       "      <td>DRF_1_AutoML_20181214_171830</td>\n",
       "      <td>0.148671</td>\n",
       "      <td>0.385579</td>\n",
       "      <td>0.148671</td>\n",
       "      <td>0.260637</td>\n",
       "      <td>0.272685</td>\n",
       "    </tr>\n",
       "  </tbody>\n",
       "</table>\n",
       "</div>"
      ],
      "text/plain": [
       "                                             model_id  mean_residual_deviance  \\\n",
       "1   StackedEnsemble_BestOfFamily_AutoML_20181214_1...                0.129717   \n",
       "2                        GBM_3_AutoML_20181214_171830                0.132251   \n",
       "11                       XRT_1_AutoML_20181214_171830                0.140408   \n",
       "13  DeepLearning_grid_1_AutoML_20181214_171830_mod...                0.141878   \n",
       "17          GLM_grid_1_AutoML_20181214_171830_model_1                0.145946   \n",
       "19                       DRF_1_AutoML_20181214_171830                0.148671   \n",
       "\n",
       "        rmse       mse       mae     rmsle  \n",
       "1   0.360163  0.129717  0.265749  0.253417  \n",
       "2   0.363664  0.132251  0.263926  0.256737  \n",
       "11  0.374710  0.140408  0.261123  0.265317  \n",
       "13  0.376667  0.141878  0.244654  0.261044  \n",
       "17  0.382028  0.145946  0.295867  0.269839  \n",
       "19  0.385579  0.148671  0.260637  0.272685  "
      ]
     },
     "execution_count": 53,
     "metadata": {},
     "output_type": "execute_result"
    }
   ],
   "source": [
    "aml_leaderboard_df"
   ]
  },
  {
   "cell_type": "code",
   "execution_count": 54,
   "metadata": {},
   "outputs": [],
   "source": [
    "# save leaderboard\n",
    "leaderboard_stats=run_id+'_leaderboard.csv'\n",
    "aml_leaderboard_df.to_csv(leaderboard_stats)"
   ]
  },
  {
   "cell_type": "code",
   "execution_count": 55,
   "metadata": {},
   "outputs": [
    {
     "name": "stdout",
     "output_type": "stream",
     "text": [
      "StackedEnsemble_BestOfFamily_AutoML_20181214_171830\n"
     ]
    }
   ],
   "source": [
    "top=aml_leaderboard_df.iloc[0]['model_id']\n",
    "print(top)"
   ]
  },
  {
   "cell_type": "code",
   "execution_count": 56,
   "metadata": {},
   "outputs": [
    {
     "name": "stdout",
     "output_type": "stream",
     "text": [
      "StackedEnsemble_BestOfFamily_AutoML_20181214_171830\n",
      "stackedensemble\n"
     ]
    }
   ],
   "source": [
    "mod_best=h2o.get_model(top)\n",
    "print(mod_best._id)\n",
    "print(mod_best.algo)"
   ]
  },
  {
   "cell_type": "code",
   "execution_count": 57,
   "metadata": {},
   "outputs": [],
   "source": [
    "meta_data['mod_best']=mod_best._id\n",
    "meta_data['mod_best_algo']=mod_best.algo"
   ]
  },
  {
   "cell_type": "code",
   "execution_count": 58,
   "metadata": {},
   "outputs": [],
   "source": [
    "meta_data['models']=bm"
   ]
  },
  {
   "cell_type": "code",
   "execution_count": 59,
   "metadata": {},
   "outputs": [],
   "source": [
    "models_path=os.path.join(run_dir,'models')\n",
    "for mod in bm:\n",
    "  try:   \n",
    "    m=h2o.get_model(mod) \n",
    "    h2o.save_model(m, path = models_path)\n",
    "  except:    \n",
    "    pass    "
   ]
  },
  {
   "cell_type": "code",
   "execution_count": 60,
   "metadata": {},
   "outputs": [
    {
     "name": "stdout",
     "output_type": "stream",
     "text": [
      "C:\\Users\\prabh\\Q1Ofqzsv4\\models\n"
     ]
    }
   ],
   "source": [
    "print(models_path)"
   ]
  },
  {
   "cell_type": "code",
   "execution_count": 61,
   "metadata": {},
   "outputs": [
    {
     "name": "stdout",
     "output_type": "stream",
     "text": [
      "{'algo': 'gbm', 'model_id': 'GBM_3_AutoML_20181214_171830', 'varimp': [('Sex', 227.81710815429688, 1.0, 0.30353114623207855), ('Cabin', 203.27748107910156, 0.8922836512410867, 0.27083587942535126), ('Age', 65.17479705810547, 0.28608385729294583, 0.08683536112262222), ('PassengerId', 61.46187973022461, 0.26978605877394185, 0.08188847165708948), ('Fare', 60.20215606689453, 0.2642565194275075, 0.08021008424113088), ('Pclass', 49.07859802246094, 0.2154298174534846, 0.06538965942422362), ('Ticket', 39.12949752807617, 0.1717583804179201, 0.05213401808321668), ('SibSp', 18.88376808166504, 0.08289003505775065, 0.025159707352296227), ('Embarked', 13.732126235961914, 0.06027697545287672, 0.018295939450614532), ('Parch', 11.798539161682129, 0.05178952211829134, 0.015719733011376556)]}\n"
     ]
    }
   ],
   "source": [
    "# GBM\n",
    " \n",
    "mod,mod_id=get_model_by_algo(\"GBM\",best_models)\n",
    "if mod is not None:\n",
    "    try:     \n",
    "        sh_df=mod.scoring_history()\n",
    "        sh_df.to_csv(run_id+'_gbm_scoring_history.csv') \n",
    "    except:\n",
    "        pass   \n",
    "    try:     \n",
    "        stats_gbm={}\n",
    "        stats_gbm=gbm_stats(mod)\n",
    "        n=run_id+'_gbm_stats.json'\n",
    "        dict_to_json(stats_gbm,n)\n",
    "        print(stats_gbm)\n",
    "    except:\n",
    "        pass        "
   ]
  },
  {
   "cell_type": "code",
   "execution_count": 62,
   "metadata": {},
   "outputs": [
    {
     "name": "stdout",
     "output_type": "stream",
     "text": [
      "{'algo': 'gbm', 'model_id': 'GBM_3_AutoML_20181214_171830', 'varimp': [('Sex', 227.81710815429688, 1.0, 0.30353114623207855), ('Cabin', 203.27748107910156, 0.8922836512410867, 0.27083587942535126), ('Age', 65.17479705810547, 0.28608385729294583, 0.08683536112262222), ('PassengerId', 61.46187973022461, 0.26978605877394185, 0.08188847165708948), ('Fare', 60.20215606689453, 0.2642565194275075, 0.08021008424113088), ('Pclass', 49.07859802246094, 0.2154298174534846, 0.06538965942422362), ('Ticket', 39.12949752807617, 0.1717583804179201, 0.05213401808321668), ('SibSp', 18.88376808166504, 0.08289003505775065, 0.025159707352296227), ('Embarked', 13.732126235961914, 0.06027697545287672, 0.018295939450614532), ('Parch', 11.798539161682129, 0.05178952211829134, 0.015719733011376556)]}\n"
     ]
    }
   ],
   "source": [
    "if mod is not None:\n",
    "    try:    \n",
    "        sh_df=mod.scoring_history()\n",
    "        sh_df.to_csv(run_id+'_dl_scoring_history.csv') \n",
    "    except:\n",
    "        pass \n",
    "    try:\n",
    "        stats_dl={}\n",
    "        stats_dl=dl_stats(mod)\n",
    "        n=run_id+'_dl_stats.json'\n",
    "        dict_to_json(stats_dl,n)\n",
    "        print(stats_dl)\n",
    "    except:\n",
    "        pass    \n",
    "    try:\n",
    "        cf=mod.confusion_matrix()    \n",
    "        cf_df.to_csv(run_id+'_dl_confusion_matrix.csv')\n",
    "    except:\n",
    "        pass       "
   ]
  },
  {
   "cell_type": "code",
   "execution_count": 63,
   "metadata": {},
   "outputs": [],
   "source": [
    "# DRF\n",
    "\n",
    "mod,mod_id=get_model_by_algo(\"DRF\",best_models)\n",
    "if mod is not None:\n",
    "    try:     \n",
    "         sh_df=mod.scoring_history()\n",
    "         sh_df.to_csv(run_id+'_drf_scoring_history.csv') \n",
    "    except:\n",
    "         pass  \n",
    "    try: \n",
    "         stats_drf={}\n",
    "         stats_drf=drf_stats(mod)\n",
    "         n=run_id+'_drf_stats.json'\n",
    "         dict_to_json(stats_drf,n)\n",
    "         print(stats_drf)\n",
    "    except:\n",
    "         pass     "
   ]
  },
  {
   "cell_type": "code",
   "execution_count": 64,
   "metadata": {},
   "outputs": [],
   "source": [
    "# XRT\n",
    "\n",
    "mod,mod_id=get_model_by_algo(\"XRT\",best_models)\n",
    "if mod is not None:\n",
    "    try:     \n",
    "         sh_df=mod.scoring_history()\n",
    "         sh_df.to_csv(run_id+'_xrt_scoring_history.csv')\n",
    "    except:\n",
    "         pass     \n",
    "    try:        \n",
    "         stats_xrt={}\n",
    "         stats_xrt=xrt_stats(mod)\n",
    "         n=run_id+'_xrt_stats.json'\n",
    "         dict_to_json(stats_xrt,n)\n",
    "         print(stats_xrt)\n",
    "    except:\n",
    "         pass     "
   ]
  },
  {
   "cell_type": "code",
   "execution_count": 65,
   "metadata": {
    "scrolled": true
   },
   "outputs": [
    {
     "name": "stdout",
     "output_type": "stream",
     "text": [
      "{'algo': 'glm', 'model_id': 'GLM_grid_1_AutoML_20181214_171830_model_1', 'coef': {'Intercept': 1.0109905645902626, 'Cabin.A10': -0.13798663397658267, 'Cabin.A14': -0.1324766100308764, 'Cabin.A16': 0.03655076680348617, 'Cabin.A19': -0.12944935961957724, 'Cabin.A20': 0.17979883123699364, 'Cabin.A23': 0.23232838348503296, 'Cabin.A24': -0.12753155106604017, 'Cabin.A26': 0.17834419701721443, 'Cabin.A31': 0.1535905727749968, 'Cabin.A32': -0.1333280566779799, 'Cabin.A34': 0.11489598972514956, 'Cabin.A36': -0.10938810708288564, 'Cabin.A5': -0.08382965408783694, 'Cabin.A6': 0.1504172917393945, 'Cabin.A7': 0.0, 'Cabin.B101': 0.07933088889067651, 'Cabin.B102': -0.12354316836096764, 'Cabin.B18': -0.025230054076809512, 'Cabin.B19': -0.08325256388209251, 'Cabin.B20': 0.13350073380911948, 'Cabin.B22': 0.02530525236150157, 'Cabin.B28': 0.057722517653374536, 'Cabin.B3': 0.01135552858410619, 'Cabin.B30': -0.09488487730520198, 'Cabin.B35': -0.02518479164725074, 'Cabin.B37': -0.10330121369865035, 'Cabin.B38': -0.10516851742584699, 'Cabin.B39': -0.011380426801941427, 'Cabin.B4': 0.019123037514139934, 'Cabin.B41': 0.19476119922367663, 'Cabin.B42': -0.0011872014555901705, 'Cabin.B49': 0.09307372369098228, 'Cabin.B5': -0.03526357456753915, 'Cabin.B50': 0.14239060421723282, 'Cabin.B51 B53 B55': -0.027915115363716533, 'Cabin.B57 B59 B63 B66': -0.026775761267046297, 'Cabin.B58 B60': -0.1422988342918046, 'Cabin.B69': 0.055800627148712416, 'Cabin.B71': -0.11501688314402557, 'Cabin.B73': 0.004125690780879779, 'Cabin.B77': 0.011438238048448594, 'Cabin.B78': -0.007085280228294133, 'Cabin.B79': -0.015527134865641503, 'Cabin.B80': 0.02323445985669595, 'Cabin.B82 B84': -0.1256544020289569, 'Cabin.B86': -0.16183910225863016, 'Cabin.B94': -0.11004837344661304, 'Cabin.B96 B98': -0.09499531835885411, 'Cabin.C101': 0.07256434711464443, 'Cabin.C103': 0.055306973218549, 'Cabin.C104': 0.1894779318449995, 'Cabin.C106': 0.15411487652398365, 'Cabin.C110': 0.0, 'Cabin.C111': -0.14509517666998953, 'Cabin.C118': -0.13089786497932196, 'Cabin.C123': -0.06184346987332819, 'Cabin.C124': -0.18159191423590004, 'Cabin.C125': 0.043101160274667726, 'Cabin.C126': 0.1696474278665547, 'Cabin.C128': -0.13048320398110544, 'Cabin.C148': 0.13510516265527597, 'Cabin.C2': -0.0887460424070769, 'Cabin.C22 C26': -0.45731339872831767, 'Cabin.C23 C25 C27': -0.101238463296581, 'Cabin.C30': -0.09065554245427396, 'Cabin.C32': -0.008228677668116092, 'Cabin.C45': -0.016948763536109836, 'Cabin.C46': -0.11287241044801273, 'Cabin.C47': 0.13981829965391848, 'Cabin.C49': -0.256818613837749, 'Cabin.C50': 0.03358642913437543, 'Cabin.C52': 0.23795203465227516, 'Cabin.C54': -0.020907355298259173, 'Cabin.C62 C64': -0.03400709842222002, 'Cabin.C65': -0.14024480122136548, 'Cabin.C68': -0.07397086809275336, 'Cabin.C7': 0.0014152625135986792, 'Cabin.C70': 0.114285787085575, 'Cabin.C78': -0.08026922716653617, 'Cabin.C82': -0.16990373057526206, 'Cabin.C83': -0.05966245247050401, 'Cabin.C85': 0.016386602583804324, 'Cabin.C86': -0.11096933863818044, 'Cabin.C87': -0.08036958167409809, 'Cabin.C90': -0.012479386534283788, 'Cabin.C91': -0.1305820785439623, 'Cabin.C92': 0.13644322102632875, 'Cabin.C93': 0.15337350256278287, 'Cabin.C95': -0.15576163864204642, 'Cabin.C99': 0.006547137675424892, 'Cabin.D': -0.008630958256783245, 'Cabin.D10 D12': 0.12702790681632103, 'Cabin.D11': 0.05293931402197309, 'Cabin.D15': -0.008073662748944267, 'Cabin.D17': 0.06762858291898585, 'Cabin.D19': 0.18443932801968077, 'Cabin.D20': 0.060253405039565694, 'Cabin.D21': 0.023019024934977136, 'Cabin.D26': -0.1913178839839713, 'Cabin.D28': -0.0027384414290999018, 'Cabin.D30': -0.13431413383380236, 'Cabin.D33': 0.17558256984836437, 'Cabin.D35': 0.18134057260244643, 'Cabin.D36': -0.01093226342622595, 'Cabin.D37': 0.04968698814061177, 'Cabin.D45': 0.15594371457211817, 'Cabin.D46': -0.10387719217981375, 'Cabin.D47': 0.002304510972106518, 'Cabin.D48': -0.10781003591275365, 'Cabin.D49': 0.0, 'Cabin.D50': -0.08182615091306959, 'Cabin.D56': 0.19894172615004876, 'Cabin.D6': -0.12908859163710118, 'Cabin.D7': 0.06927624290576241, 'Cabin.D9': -0.006912746964699322, 'Cabin.E10': 0.23340426417685062, 'Cabin.E101': 0.07847663050107502, 'Cabin.E12': 0.18326412181429544, 'Cabin.E121': 0.2239659580257224, 'Cabin.E17': 0.19016275405509225, 'Cabin.E24': 0.1770080821745925, 'Cabin.E25': 0.16729519609087093, 'Cabin.E31': -0.09579338005243779, 'Cabin.E33': 0.010119386961574823, 'Cabin.E34': 0.013024912054336127, 'Cabin.E36': -0.006017355003022768, 'Cabin.E38': -0.07574730142370048, 'Cabin.E40': -0.0022761642485609394, 'Cabin.E44': -0.04077178539714007, 'Cabin.E46': -0.09798846747548405, 'Cabin.E49': 0.022922586308205786, 'Cabin.E50': 0.14054370485712078, 'Cabin.E58': -0.10230310620738957, 'Cabin.E63': -0.10416381918914823, 'Cabin.E67': -0.037936505770288585, 'Cabin.E68': -0.004398289463479324, 'Cabin.E77': -0.1895078995170451, 'Cabin.E8': 0.030040993561977685, 'Cabin.F E69': 0.08283943064126008, 'Cabin.F G63': -0.0343948434294072, 'Cabin.F G73': -0.06942398025119462, 'Cabin.F2': 0.2595314759655635, 'Cabin.F33': 0.0967756421291818, 'Cabin.F38': -0.06996221534567575, 'Cabin.F4': 0.16785951563978127, 'Cabin.G6': -0.14631241847798515, 'Cabin.T': 0.0, 'Embarked.C': 0.02154821269206545, 'Embarked.Q': 0.024462398062738994, 'Embarked.S': -0.036425682729076383, 'Sex.female': 0.2544330935403638, 'Sex.male': -0.2445075040717927, 'PassengerId': -1.413223417381037e-05, 'Pclass': -0.1229716993406609, 'Age': -0.005355890662380421, 'SibSp': -0.04748080259264486, 'Parch': -0.0118869337349372, 'Ticket': -2.7253818166657506e-08, 'Fare': 0.0005113282422631097}, 'coef_norm': {'Intercept': 0.5425748966091741, 'Cabin.A10': -0.13798663397658267, 'Cabin.A14': -0.1324766100308764, 'Cabin.A16': 0.03655076680348617, 'Cabin.A19': -0.12944935961957724, 'Cabin.A20': 0.17979883123699364, 'Cabin.A23': 0.23232838348503296, 'Cabin.A24': -0.12753155106604017, 'Cabin.A26': 0.17834419701721443, 'Cabin.A31': 0.1535905727749968, 'Cabin.A32': -0.1333280566779799, 'Cabin.A34': 0.11489598972514956, 'Cabin.A36': -0.10938810708288564, 'Cabin.A5': -0.08382965408783694, 'Cabin.A6': 0.1504172917393945, 'Cabin.A7': 0.0, 'Cabin.B101': 0.07933088889067651, 'Cabin.B102': -0.12354316836096764, 'Cabin.B18': -0.025230054076809512, 'Cabin.B19': -0.08325256388209251, 'Cabin.B20': 0.13350073380911948, 'Cabin.B22': 0.02530525236150157, 'Cabin.B28': 0.057722517653374536, 'Cabin.B3': 0.01135552858410619, 'Cabin.B30': -0.09488487730520198, 'Cabin.B35': -0.02518479164725074, 'Cabin.B37': -0.10330121369865035, 'Cabin.B38': -0.10516851742584699, 'Cabin.B39': -0.011380426801941427, 'Cabin.B4': 0.019123037514139934, 'Cabin.B41': 0.19476119922367663, 'Cabin.B42': -0.0011872014555901705, 'Cabin.B49': 0.09307372369098228, 'Cabin.B5': -0.03526357456753915, 'Cabin.B50': 0.14239060421723282, 'Cabin.B51 B53 B55': -0.027915115363716533, 'Cabin.B57 B59 B63 B66': -0.026775761267046297, 'Cabin.B58 B60': -0.1422988342918046, 'Cabin.B69': 0.055800627148712416, 'Cabin.B71': -0.11501688314402557, 'Cabin.B73': 0.004125690780879779, 'Cabin.B77': 0.011438238048448594, 'Cabin.B78': -0.007085280228294133, 'Cabin.B79': -0.015527134865641503, 'Cabin.B80': 0.02323445985669595, 'Cabin.B82 B84': -0.1256544020289569, 'Cabin.B86': -0.16183910225863016, 'Cabin.B94': -0.11004837344661304, 'Cabin.B96 B98': -0.09499531835885411, 'Cabin.C101': 0.07256434711464443, 'Cabin.C103': 0.055306973218549, 'Cabin.C104': 0.1894779318449995, 'Cabin.C106': 0.15411487652398365, 'Cabin.C110': 0.0, 'Cabin.C111': -0.14509517666998953, 'Cabin.C118': -0.13089786497932196, 'Cabin.C123': -0.06184346987332819, 'Cabin.C124': -0.18159191423590004, 'Cabin.C125': 0.043101160274667726, 'Cabin.C126': 0.1696474278665547, 'Cabin.C128': -0.13048320398110544, 'Cabin.C148': 0.13510516265527597, 'Cabin.C2': -0.0887460424070769, 'Cabin.C22 C26': -0.45731339872831767, 'Cabin.C23 C25 C27': -0.101238463296581, 'Cabin.C30': -0.09065554245427396, 'Cabin.C32': -0.008228677668116092, 'Cabin.C45': -0.016948763536109836, 'Cabin.C46': -0.11287241044801273, 'Cabin.C47': 0.13981829965391848, 'Cabin.C49': -0.256818613837749, 'Cabin.C50': 0.03358642913437543, 'Cabin.C52': 0.23795203465227516, 'Cabin.C54': -0.020907355298259173, 'Cabin.C62 C64': -0.03400709842222002, 'Cabin.C65': -0.14024480122136548, 'Cabin.C68': -0.07397086809275336, 'Cabin.C7': 0.0014152625135986792, 'Cabin.C70': 0.114285787085575, 'Cabin.C78': -0.08026922716653617, 'Cabin.C82': -0.16990373057526206, 'Cabin.C83': -0.05966245247050401, 'Cabin.C85': 0.016386602583804324, 'Cabin.C86': -0.11096933863818044, 'Cabin.C87': -0.08036958167409809, 'Cabin.C90': -0.012479386534283788, 'Cabin.C91': -0.1305820785439623, 'Cabin.C92': 0.13644322102632875, 'Cabin.C93': 0.15337350256278287, 'Cabin.C95': -0.15576163864204642, 'Cabin.C99': 0.006547137675424892, 'Cabin.D': -0.008630958256783245, 'Cabin.D10 D12': 0.12702790681632103, 'Cabin.D11': 0.05293931402197309, 'Cabin.D15': -0.008073662748944267, 'Cabin.D17': 0.06762858291898585, 'Cabin.D19': 0.18443932801968077, 'Cabin.D20': 0.060253405039565694, 'Cabin.D21': 0.023019024934977136, 'Cabin.D26': -0.1913178839839713, 'Cabin.D28': -0.0027384414290999018, 'Cabin.D30': -0.13431413383380236, 'Cabin.D33': 0.17558256984836437, 'Cabin.D35': 0.18134057260244643, 'Cabin.D36': -0.01093226342622595, 'Cabin.D37': 0.04968698814061177, 'Cabin.D45': 0.15594371457211817, 'Cabin.D46': -0.10387719217981375, 'Cabin.D47': 0.002304510972106518, 'Cabin.D48': -0.10781003591275365, 'Cabin.D49': 0.0, 'Cabin.D50': -0.08182615091306959, 'Cabin.D56': 0.19894172615004876, 'Cabin.D6': -0.12908859163710118, 'Cabin.D7': 0.06927624290576241, 'Cabin.D9': -0.006912746964699322, 'Cabin.E10': 0.23340426417685062, 'Cabin.E101': 0.07847663050107502, 'Cabin.E12': 0.18326412181429544, 'Cabin.E121': 0.2239659580257224, 'Cabin.E17': 0.19016275405509225, 'Cabin.E24': 0.1770080821745925, 'Cabin.E25': 0.16729519609087093, 'Cabin.E31': -0.09579338005243779, 'Cabin.E33': 0.010119386961574823, 'Cabin.E34': 0.013024912054336127, 'Cabin.E36': -0.006017355003022768, 'Cabin.E38': -0.07574730142370048, 'Cabin.E40': -0.0022761642485609394, 'Cabin.E44': -0.04077178539714007, 'Cabin.E46': -0.09798846747548405, 'Cabin.E49': 0.022922586308205786, 'Cabin.E50': 0.14054370485712078, 'Cabin.E58': -0.10230310620738957, 'Cabin.E63': -0.10416381918914823, 'Cabin.E67': -0.037936505770288585, 'Cabin.E68': -0.004398289463479324, 'Cabin.E77': -0.1895078995170451, 'Cabin.E8': 0.030040993561977685, 'Cabin.F E69': 0.08283943064126008, 'Cabin.F G63': -0.0343948434294072, 'Cabin.F G73': -0.06942398025119462, 'Cabin.F2': 0.2595314759655635, 'Cabin.F33': 0.0967756421291818, 'Cabin.F38': -0.06996221534567575, 'Cabin.F4': 0.16785951563978127, 'Cabin.G6': -0.14631241847798515, 'Cabin.T': 0.0, 'Embarked.C': 0.02154821269206545, 'Embarked.Q': 0.024462398062738994, 'Embarked.S': -0.036425682729076383, 'Sex.female': 0.2544330935403638, 'Sex.male': -0.2445075040717927, 'PassengerId': -0.0036166295421857153, 'Pclass': -0.10333070218548886, 'Age': -0.06898957998089125, 'SibSp': -0.05344145252042695, 'Parch': -0.009754782561781427, 'Ticket': -0.010226742343165814, 'Fare': 0.026422760220861034}}"
     ]
    },
    {
     "name": "stdout",
     "output_type": "stream",
     "text": [
      "\n"
     ]
    }
   ],
   "source": [
    "# GLM\n",
    "\n",
    "mod,mod_id=get_model_by_algo(\"GLM\",best_models)\n",
    "if mod is not None:\n",
    "    try:     \n",
    "         stats_glm={}\n",
    "         stats_glm=glm_stats(mod)\n",
    "         n=run_id+'_glm_stats.json'\n",
    "         dict_to_json(stats_glm,n)\n",
    "         print(stats_glm)\n",
    "    except:\n",
    "         pass     "
   ]
  },
  {
   "cell_type": "code",
   "execution_count": 66,
   "metadata": {},
   "outputs": [],
   "source": [
    "# split into training and test for showing how to predict\n",
    "train, test = df.split_frame([0.8])"
   ]
  },
  {
   "cell_type": "code",
   "execution_count": 67,
   "metadata": {},
   "outputs": [
    {
     "name": "stdout",
     "output_type": "stream",
     "text": [
      "stackedensemble prediction progress: |████████████████████████████████████| 100%\n"
     ]
    }
   ],
   "source": [
    "predictions_df=predictions_test(mod_best,test,run_id)"
   ]
  },
  {
   "cell_type": "code",
   "execution_count": 68,
   "metadata": {},
   "outputs": [
    {
     "data": {
      "text/html": [
       "<table>\n",
       "<thead>\n",
       "<tr><th style=\"text-align: right;\">   predict</th></tr>\n",
       "</thead>\n",
       "<tbody>\n",
       "<tr><td style=\"text-align: right;\">-0.0182241</td></tr>\n",
       "<tr><td style=\"text-align: right;\"> 0.0751832</td></tr>\n",
       "<tr><td style=\"text-align: right;\"> 0.932743 </td></tr>\n",
       "<tr><td style=\"text-align: right;\"> 0.0971176</td></tr>\n",
       "<tr><td style=\"text-align: right;\"> 0.228488 </td></tr>\n",
       "<tr><td style=\"text-align: right;\"> 0.811239 </td></tr>\n",
       "<tr><td style=\"text-align: right;\"> 0.906051 </td></tr>\n",
       "<tr><td style=\"text-align: right;\"> 0.0841947</td></tr>\n",
       "<tr><td style=\"text-align: right;\"> 0.118478 </td></tr>\n",
       "<tr><td style=\"text-align: right;\"> 0.746896 </td></tr>\n",
       "</tbody>\n",
       "</table>"
      ]
     },
     "metadata": {},
     "output_type": "display_data"
    },
    {
     "data": {
      "text/plain": []
     },
     "execution_count": 68,
     "metadata": {},
     "output_type": "execute_result"
    }
   ],
   "source": [
    "predictions_df.head()"
   ]
  },
  {
   "cell_type": "code",
   "execution_count": 69,
   "metadata": {},
   "outputs": [
    {
     "name": "stdout",
     "output_type": "stream",
     "text": [
      "Rows:167\n",
      "Cols:1\n",
      "\n",
      "\n"
     ]
    },
    {
     "data": {
      "text/html": [
       "<table>\n",
       "<thead>\n",
       "<tr><th>       </th><th>predict            </th></tr>\n",
       "</thead>\n",
       "<tbody>\n",
       "<tr><td>type   </td><td>real               </td></tr>\n",
       "<tr><td>mins   </td><td>-0.018224126943415 </td></tr>\n",
       "<tr><td>mean   </td><td>0.3744942447135814 </td></tr>\n",
       "<tr><td>maxs   </td><td>1.0433180211393578 </td></tr>\n",
       "<tr><td>sigma  </td><td>0.3456775462467086 </td></tr>\n",
       "<tr><td>zeros  </td><td>0                  </td></tr>\n",
       "<tr><td>missing</td><td>0                  </td></tr>\n",
       "<tr><td>0      </td><td>-0.018224126943415 </td></tr>\n",
       "<tr><td>1      </td><td>0.07518319542638287</td></tr>\n",
       "<tr><td>2      </td><td>0.9327431701145639 </td></tr>\n",
       "<tr><td>3      </td><td>0.09711763759514187</td></tr>\n",
       "<tr><td>4      </td><td>0.22848782708795815</td></tr>\n",
       "<tr><td>5      </td><td>0.8112392684679423 </td></tr>\n",
       "<tr><td>6      </td><td>0.9060508672539332 </td></tr>\n",
       "<tr><td>7      </td><td>0.08419467183126411</td></tr>\n",
       "<tr><td>8      </td><td>0.1184780039479678 </td></tr>\n",
       "<tr><td>9      </td><td>0.7468958149287075 </td></tr>\n",
       "</tbody>\n",
       "</table>"
      ]
     },
     "metadata": {},
     "output_type": "display_data"
    }
   ],
   "source": [
    "predictions_df.describe()"
   ]
  },
  {
   "cell_type": "code",
   "execution_count": 70,
   "metadata": {},
   "outputs": [],
   "source": [
    "# Update and save meta data\n",
    "\n",
    "meta_data['end_time'] = time.time()\n",
    "meta_data['execution_time'] = meta_data['end_time'] - meta_data['start_time']\n",
    "  \n",
    "n=run_id+'_meta_data.json'\n",
    "dict_to_json(meta_data,n)"
   ]
  },
  {
   "cell_type": "code",
   "execution_count": 71,
   "metadata": {},
   "outputs": [
    {
     "data": {
      "text/plain": [
       "{'start_time': 1544825909.5973294,\n",
       " 'target': None,\n",
       " 'server_path': 'C:\\\\Users\\\\prabh',\n",
       " 'data_path': 'C:/Users/prabh/Desktop/ML/Project ML/Dataset/Titanic_train.csv',\n",
       " 'test_path': None,\n",
       " 'max_models': 9,\n",
       " 'run_time': 500,\n",
       " 'run_id': 'Q1Ofqzsv4',\n",
       " 'scale': False,\n",
       " 'classification': False,\n",
       " 'model_path': None,\n",
       " 'balance': False,\n",
       " 'balance_threshold': 0.2,\n",
       " 'project': None,\n",
       " 'end_time': 1544826265.6217225,\n",
       " 'execution_time': 356.02439308166504,\n",
       " 'run_path': 'C:\\\\Users\\\\prabh\\\\Q1Ofqzsv4',\n",
       " 'nthreads': 1,\n",
       " 'min_mem_size': 4,\n",
       " 'analysis': 0,\n",
       " 'X': ['PassengerId',\n",
       "  'Pclass',\n",
       "  'SibSp',\n",
       "  'Parch',\n",
       "  'Ticket',\n",
       "  'Sex',\n",
       "  'Cabin',\n",
       "  'Embarked',\n",
       "  'Name',\n",
       "  'Age',\n",
       "  'Fare'],\n",
       " 'variables': {'PassengerId': 'int',\n",
       "  'Survived': 'int',\n",
       "  'Pclass': 'int',\n",
       "  'Name': 'string',\n",
       "  'Sex': 'enum',\n",
       "  'Age': 'real',\n",
       "  'SibSp': 'int',\n",
       "  'Parch': 'int',\n",
       "  'Ticket': 'int',\n",
       "  'Fare': 'real',\n",
       "  'Cabin': 'enum',\n",
       "  'Embarked': 'enum'},\n",
       " 'model_execution_time': 353.9522023200989,\n",
       " 'mod_best': 'StackedEnsemble_BestOfFamily_AutoML_20181214_171830',\n",
       " 'mod_best_algo': 'stackedensemble',\n",
       " 'models': ['GBM_3_AutoML_20181214_171830',\n",
       "  'XRT_1_AutoML_20181214_171830',\n",
       "  'DeepLearning_grid_1_AutoML_20181214_171830_model_1',\n",
       "  'GLM_grid_1_AutoML_20181214_171830_model_1',\n",
       "  'DRF_1_AutoML_20181214_171830',\n",
       "  'StackedEnsemble_BestOfFamily_AutoML_20181214_171830']}"
      ]
     },
     "execution_count": 71,
     "metadata": {},
     "output_type": "execute_result"
    }
   ],
   "source": [
    "meta_data"
   ]
  },
  {
   "cell_type": "code",
   "execution_count": 72,
   "metadata": {},
   "outputs": [
    {
     "name": "stdout",
     "output_type": "stream",
     "text": [
      "Writing H2O logs to C:\\Users\\prabh\\Q1Ofqzsv4\\logs\\Q1Ofqzsv4_autoh2o_log.zip\n"
     ]
    },
    {
     "data": {
      "text/plain": [
       "'C:\\\\Users\\\\prabh\\\\Q1Ofqzsv4\\\\logs\\\\Q1Ofqzsv4_autoh2o_log.zip'"
      ]
     },
     "execution_count": 72,
     "metadata": {},
     "output_type": "execute_result"
    }
   ],
   "source": [
    "# Save logs\n",
    "h2o.download_all_logs(dirname=logs_path, filename=logfile)"
   ]
  },
  {
   "cell_type": "code",
   "execution_count": 73,
   "metadata": {},
   "outputs": [],
   "source": [
    "# Clean up\n",
    "os.chdir(server_path)"
   ]
  },
  {
   "cell_type": "code",
   "execution_count": 74,
   "metadata": {},
   "outputs": [],
   "source": [
    "def predictions_test(mod,test,run_id):\n",
    "    mod_perf=mod_best.model_performance(test)          \n",
    "    stats_test={}\n",
    "    stats_test=model_performance_stats(mod_perf)\n",
    "    print(stats_test)   \n",
    "    n=run_id+'_test_stats.json'\n",
    "    dict_to_json(stats_test,n) \n",
    "    try:\n",
    "      cf=mod_perf.confusion_matrix()\n",
    "      print(cf)   \n",
    "#      cf=mod_perf.confusion_matrix(metrics=[\"f1\",\"f2\",\"f0point5\",\"accuracy\",\"precision\",\"recall\",\"specificity\",\"absolute_mcc\",\"min_per_class_accuracy\",\"mean_per_class_accuracy\"])\n",
    "      cf_df=cf.table.as_data_frame()\n",
    "      print(cf_df)    \n",
    "      cf_df.to_csv(run_id+'_test_confusion_matrix.csv')\n",
    "    except:\n",
    "      pass\n",
    "    predictions = mod_best.predict(test)    \n",
    "    predictions_df=test.cbind(predictions).as_data_frame() \n",
    "    predictions_df.to_csv(run_id+'_predictions.csv')\n",
    "    return predictions"
   ]
  },
  {
   "cell_type": "code",
   "execution_count": 75,
   "metadata": {},
   "outputs": [
    {
     "name": "stdout",
     "output_type": "stream",
     "text": [
      "H2O session _sid_a248 closed.\n"
     ]
    }
   ],
   "source": [
    "h2o.cluster().shutdown()"
   ]
  }
 ],
 "metadata": {
  "kernelspec": {
   "display_name": "Python 3",
   "language": "python",
   "name": "python3"
  },
  "language_info": {
   "codemirror_mode": {
    "name": "ipython",
    "version": 3
   },
   "file_extension": ".py",
   "mimetype": "text/x-python",
   "name": "python",
   "nbconvert_exporter": "python",
   "pygments_lexer": "ipython3",
   "version": "3.7.0"
  }
 },
 "nbformat": 4,
 "nbformat_minor": 2
}
