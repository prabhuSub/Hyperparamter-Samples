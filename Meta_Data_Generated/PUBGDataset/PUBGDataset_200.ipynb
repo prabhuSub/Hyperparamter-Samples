{
 "cells": [
  {
   "cell_type": "code",
   "execution_count": 44,
   "metadata": {},
   "outputs": [],
   "source": [
    "import h2o\n",
    "from h2o.automl import H2OAutoML\n",
    "import random, os, sys\n",
    "from datetime import datetime\n",
    "import pandas as pd\n",
    "import logging\n",
    "import csv\n",
    "import optparse\n",
    "import time\n",
    "import json\n",
    "from distutils.util import strtobool\n",
    "import psutil"
   ]
  },
  {
   "cell_type": "code",
   "execution_count": 45,
   "metadata": {},
   "outputs": [],
   "source": [
    "data_path=None\n",
    "all_variables=None\n",
    "test_path=None\n",
    "# target='search_term'\n",
    "target=None\n",
    "nthreads=1 \n",
    "min_mem_size=6 \n",
    "run_time=200\n",
    "classification=False\n",
    "scale=False\n",
    "max_models=9    \n",
    "model_path=None\n",
    "balance_y=False \n",
    "balance_threshold=0.2\n",
    "name=None \n",
    "server_path=None  \n",
    "analysis=0 "
   ]
  },
  {
   "cell_type": "code",
   "execution_count": 46,
   "metadata": {},
   "outputs": [
    {
     "name": "stdout",
     "output_type": "stream",
     "text": [
      "3\n"
     ]
    }
   ],
   "source": [
    "pct_memory=0.5\n",
    "virtual_memory=psutil.virtual_memory()\n",
    "min_mem_size=int(round(int(pct_memory*virtual_memory.available)/1073741824,0))\n",
    "print(min_mem_size)"
   ]
  },
  {
   "cell_type": "code",
   "execution_count": 47,
   "metadata": {},
   "outputs": [],
   "source": [
    "# Functions\n",
    "\n",
    "def alphabet(n):\n",
    "  alpha='0123456789abcdefghijklmnopqrstuvwxyzABCDEFGHIJKLMNOPQRSTUVWXYZ'    \n",
    "  str=''\n",
    "  r=len(alpha)-1   \n",
    "  while len(str)<n:\n",
    "    i=random.randint(0,r)\n",
    "    str+=alpha[i]   \n",
    "  return str\n",
    "  \n",
    "  \n",
    "def set_meta_data(analysis,run_id,server,data,test,model_path,target,run_time,classification,scale,model,balance,balance_threshold,name,path,nthreads,min_mem_size):\n",
    "  m_data={}\n",
    "  m_data['start_time'] = time.time()\n",
    "  m_data['target']=target\n",
    "  m_data['server_path']=server\n",
    "  m_data['data_path']=data \n",
    "  m_data['test_path']=test\n",
    "  m_data['max_models']=model\n",
    "  m_data['run_time']=run_time\n",
    "  m_data['run_id'] =run_id\n",
    "  m_data['scale']=scale\n",
    "  m_data['classification']=classification\n",
    "  m_data['scale']=False\n",
    "  m_data['model_path']=model_path\n",
    "  m_data['balance']=balance\n",
    "  m_data['balance_threshold']=balance_threshold\n",
    "  m_data['project'] =name\n",
    "  m_data['end_time'] = time.time()\n",
    "  m_data['execution_time'] = 0.0\n",
    "  m_data['run_path'] =path\n",
    "  m_data['nthreads'] = nthreads\n",
    "  m_data['min_mem_size'] = min_mem_size\n",
    "  m_data['analysis'] = analysis\n",
    "  return m_data\n",
    "\n",
    "\n",
    "def dict_to_json(dct,n):\n",
    "  j = json.dumps(dct, indent=4)\n",
    "  f = open(n, 'w')\n",
    "  print(j, file=f)\n",
    "  f.close()\n",
    "  \n",
    "  \n",
    "def stackedensemble(mod):\n",
    "    coef_norm=None\n",
    "    try:\n",
    "      metalearner = h2o.get_model(mod.metalearner()['name'])\n",
    "      coef_norm=metalearner.coef_norm()\n",
    "    except:\n",
    "      pass        \n",
    "    return coef_norm\n",
    "\n",
    "def stackedensemble_df(df):\n",
    "    bm_algo={ 'GBM': None,'GLM': None,'DRF': None,'XRT': None,'Dee': None}\n",
    "    for index, row in df.iterrows():\n",
    "      if len(row['model_id'])>3:\n",
    "        key=row['model_id'][0:3]\n",
    "        if key in bm_algo:\n",
    "          if bm_algo[key] is None:\n",
    "                bm_algo[key]=row['model_id']\n",
    "    bm=list(bm_algo.values()) \n",
    "    bm=list(filter(None.__ne__, bm))             \n",
    "    return bm\n",
    "\n",
    "def se_stats(modl):\n",
    "    d={}\n",
    "    d['algo']=modl.algo\n",
    "    d['model_id']=modl.model_id   \n",
    "    d['auc']=modl.auc()   \n",
    "    d['roc']=modl.roc()\n",
    "    d['mse']=modl.mse()   \n",
    "    d['null_degrees_of_freedom']=modl.null_degrees_of_freedom()\n",
    "    d['null_deviance']=modl.null_deviance()\n",
    "    d['residual_degrees_of_freedom']=modl.residual_degrees_of_freedom()   \n",
    "    d['residual_deviance']=modl.residual_deviance()\n",
    "    d['rmse']=modl.rmse()\n",
    "    return d\n",
    "\n",
    "def get_model_by_algo(algo,models_dict):\n",
    "    mod=None\n",
    "    mod_id=None    \n",
    "    for m in list(models_dict.keys()):\n",
    "        if m[0:3]==algo:\n",
    "            mod_id=m\n",
    "            mod=h2o.get_model(m)      \n",
    "    return mod,mod_id     \n",
    "    \n",
    "    \n",
    "def gbm_stats(modl):\n",
    "    d={}\n",
    "    d['algo']=modl.algo\n",
    "    d['model_id']=modl.model_id   \n",
    "    d['varimp']=modl.varimp()  \n",
    "    return d\n",
    "    \n",
    "    \n",
    "def dl_stats(modl):\n",
    "    d={}\n",
    "    d['algo']=modl.algo\n",
    "    d['model_id']=modl.model_id   \n",
    "    d['varimp']=modl.varimp()  \n",
    "    return d\n",
    "    \n",
    "    \n",
    "def drf_stats(modl):\n",
    "    d={}\n",
    "    d['algo']=modl.algo\n",
    "    d['model_id']=modl.model_id   \n",
    "    d['varimp']=modl.varimp()  \n",
    "    d['roc']=modl.roc()      \n",
    "    return d\n",
    "    \n",
    "def xrt_stats(modl):\n",
    "    d={}\n",
    "    d['algo']=modl.algo\n",
    "    d['model_id']=modl.model_id   \n",
    "    d['varimp']=modl.varimp()  \n",
    "    d['roc']=modl.roc()      \n",
    "    return d\n",
    "    \n",
    "    \n",
    "def glm_stats(modl):\n",
    "    d={}\n",
    "    d['algo']=modl.algo\n",
    "    d['model_id']=modl.model_id   \n",
    "    d['coef']=modl.coef()  \n",
    "    d['coef_norm']=modl.coef_norm()      \n",
    "    return d\n",
    "    \n",
    "def model_performance_stats(perf):\n",
    "    d={}\n",
    "    try:    \n",
    "      d['mse']=perf.mse()\n",
    "    except:\n",
    "      pass      \n",
    "    try:    \n",
    "      d['rmse']=perf.rmse() \n",
    "    except:\n",
    "      pass      \n",
    "    try:    \n",
    "      d['null_degrees_of_freedom']=perf.null_degrees_of_freedom()\n",
    "    except:\n",
    "      pass      \n",
    "    try:    \n",
    "      d['residual_degrees_of_freedom']=perf.residual_degrees_of_freedom()\n",
    "    except:\n",
    "      pass      \n",
    "    try:    \n",
    "      d['residual_deviance']=perf.residual_deviance() \n",
    "    except:\n",
    "      pass      \n",
    "    try:    \n",
    "      d['null_deviance']=perf.null_deviance() \n",
    "    except:\n",
    "      pass      \n",
    "    try:    \n",
    "      d['aic']=perf.aic() \n",
    "    except:\n",
    "      pass      \n",
    "    try:\n",
    "      d['logloss']=perf.logloss() \n",
    "    except:\n",
    "      pass    \n",
    "    try:\n",
    "      d['auc']=perf.auc()\n",
    "    except:\n",
    "      pass  \n",
    "    try:\n",
    "      d['gini']=perf.gini()\n",
    "    except:\n",
    "      pass    \n",
    "    return d\n",
    "    \n",
    "def impute_missing_values(df, x, scal=False):\n",
    "    # determine column types\n",
    "    ints, reals, enums = [], [], []\n",
    "    for key, val in df.types.items():\n",
    "        if key in x:\n",
    "            if val == 'enum':\n",
    "                enums.append(key)\n",
    "            elif val == 'int':\n",
    "                ints.append(key)            \n",
    "            else: \n",
    "                reals.append(key)    \n",
    "    _ = df[reals].impute(method='mean')\n",
    "    _ = df[ints].impute(method='median')\n",
    "    if scal:\n",
    "        df[reals] = df[reals].scale()\n",
    "        df[ints] = df[ints].scale()    \n",
    "    return\n",
    "\n",
    "\n",
    "def get_independent_variables(df, targ):\n",
    "    C = [name for name in df.columns if name != targ]\n",
    "    # determine column types\n",
    "    ints, reals, enums = [], [], []\n",
    "    for key, val in df.types.items():\n",
    "        if key in C:\n",
    "            if val == 'enum':\n",
    "                enums.append(key)\n",
    "            elif val == 'int':\n",
    "                ints.append(key)            \n",
    "            else: \n",
    "                reals.append(key)    \n",
    "    x=ints+enums+reals\n",
    "    return x\n",
    "    \n",
    "def get_all_variables_csv(i):\n",
    "    ivd={}\n",
    "    try:\n",
    "      iv = pd.read_csv(i,header=None)\n",
    "    except:\n",
    "      sys.exit(1)    \n",
    "    col=iv.values.tolist()[0]\n",
    "    dt=iv.values.tolist()[1]\n",
    "    i=0\n",
    "    for c in col:\n",
    "      ivd[c.strip()]=dt[i].strip()\n",
    "      i+=1        \n",
    "    return ivd\n",
    "    \n",
    "    \n",
    "\n",
    "def check_all_variables(df,dct,y=None):     \n",
    "    targ=list(dct.keys())     \n",
    "    for key, val in df.types.items():\n",
    "        if key in targ:\n",
    "          if dct[key] not in ['real','int','enum']:                      \n",
    "            targ.remove(key)  \n",
    "    for key, val in df.types.items():\n",
    "        if key in targ:            \n",
    "          if dct[key] != val:\n",
    "            print('convert ',key,' ',dct[key],' ',val)\n",
    "            if dct[key]=='enum':\n",
    "                try:\n",
    "                  df[key] = df[key].asfactor() \n",
    "                except:\n",
    "                  targ.remove(key)                 \n",
    "            if dct[key]=='int': \n",
    "                try:                \n",
    "                  df[key] = df[key].asnumeric() \n",
    "                except:\n",
    "                  targ.remove(key)                  \n",
    "            if dct[key]=='real':\n",
    "                try:                \n",
    "                  df[key] = df[key].asnumeric()  \n",
    "                except:\n",
    "                  targ.remove(key)                  \n",
    "    if y is None:\n",
    "      y=df.columns[-1] \n",
    "    if y in targ:\n",
    "      targ.remove(y)\n",
    "    else:\n",
    "      y=targ.pop()            \n",
    "    return targ    \n",
    "    \n",
    "def predictions(mod,data,run_id):\n",
    "    test = h2o.import_file(data)\n",
    "    mod_perf=mod_best.model_performance(test)\n",
    "              \n",
    "    stats_test={}\n",
    "    stats_test=model_performance_stats(mod_perf)\n",
    "\n",
    "    n=run_id+'_test_stats.json'\n",
    "    dict_to_json(stats_test,n) \n",
    "\n",
    "    try:    \n",
    "      cf=mod_perf.confusion_matrix(metrics=[\"f1\",\"f2\",\"f0point5\",\"accuracy\",\"precision\",\"recall\",\"specificity\",\"absolute_mcc\",\"min_per_class_accuracy\",\"mean_per_class_accuracy\"])\n",
    "      cf_df=cf[0].table.as_data_frame()\n",
    "      cf_df.to_csv(run_id+'_test_confusion_matrix.csv')\n",
    "    except:\n",
    "      pass\n",
    "\n",
    "    predictions = mod_best.predict(test)\n",
    "    predictions_df=test.cbind(predictions).as_data_frame() \n",
    "    predictions_df.to_csv(run_id+'_predictions.csv')\n",
    "    return\n",
    "\n",
    "def predictions_test(mod,test,run_id):\n",
    "    mod_perf=mod_best.model_performance(test)          \n",
    "    stats_test={}\n",
    "    stats_test=model_performance_stats(mod_perf)\n",
    "    n=run_id+'_test_stats.json'\n",
    "    dict_to_json(stats_test,n) \n",
    "    try:\n",
    "      cf=mod_perf.confusion_matrix()\n",
    "#      cf=mod_perf.confusion_matrix(metrics=[\"f1\",\"f2\",\"f0point5\",\"accuracy\",\"precision\",\"recall\",\"specificity\",\"absolute_mcc\",\"min_per_class_accuracy\",\"mean_per_class_accuracy\"])\n",
    "      cf_df=cf.table.as_data_frame()\n",
    "      cf_df.to_csv(run_id+'_test_confusion_matrix.csv')\n",
    "    except:\n",
    "      pass\n",
    "    predictions = mod_best.predict(test)    \n",
    "    predictions_df=test.cbind(predictions).as_data_frame() \n",
    "    predictions_df.to_csv(run_id+'_predictions.csv')\n",
    "    return predictions\n",
    "\n",
    "def check_X(x,df):\n",
    "    for name in x:\n",
    "        if name not in df.columns:\n",
    "          x.remove(name)  \n",
    "    return x    \n",
    "    \n",
    "    \n",
    "def get_stacked_ensemble(lst):\n",
    "    se=None\n",
    "    for model in model_set:\n",
    "      if 'BestOfFamily' in model:\n",
    "        se=model\n",
    "    if se is None:     \n",
    "      for model in model_set:\n",
    "        if 'AllModels'in model:\n",
    "          se=model           \n",
    "    return se       \n",
    "    \n",
    "def get_variables_types(df):\n",
    "    d={}\n",
    "    for key, val in df.types.items():\n",
    "        d[key]=val           \n",
    "    return d    \n",
    "    \n",
    "#  End Functions"
   ]
  },
  {
   "cell_type": "code",
   "execution_count": 48,
   "metadata": {},
   "outputs": [],
   "source": [
    "all_variables=None"
   ]
  },
  {
   "cell_type": "code",
   "execution_count": 49,
   "metadata": {},
   "outputs": [],
   "source": [
    "data_path='C:/Users/prabh/Desktop/ML/Project ML/Dataset/PUBG_data.csv'"
   ]
  },
  {
   "cell_type": "code",
   "execution_count": 50,
   "metadata": {},
   "outputs": [
    {
     "name": "stdout",
     "output_type": "stream",
     "text": [
      "H6Q591xpX\n"
     ]
    }
   ],
   "source": [
    "run_id=alphabet(9)\n",
    "if server_path==None:\n",
    "  server_path=os.path.abspath(os.curdir)\n",
    "os.chdir(server_path) \n",
    "run_dir = os.path.join(server_path,run_id)\n",
    "os.mkdir(run_dir)\n",
    "os.chdir(run_dir)    \n",
    "\n",
    "# run_id to std out\n",
    "print (run_id) "
   ]
  },
  {
   "cell_type": "code",
   "execution_count": 51,
   "metadata": {},
   "outputs": [
    {
     "name": "stdout",
     "output_type": "stream",
     "text": [
      "C:\\Users\\prabh\\394zjMEpv\\H6Q591xpX\\logs   H6Q591xpX_autoh2o_log.zip\n"
     ]
    }
   ],
   "source": [
    "logfile=run_id+'_autoh2o_log.zip'\n",
    "logs_path=os.path.join(run_dir,'logs')\n",
    "print(logs_path,' ',logfile)"
   ]
  },
  {
   "cell_type": "code",
   "execution_count": 52,
   "metadata": {},
   "outputs": [
    {
     "name": "stdout",
     "output_type": "stream",
     "text": [
      "Checking whether there is an H2O instance running at http://localhost:40301..... not found.\n",
      "Attempting to start a local H2O server...\n",
      "; Java HotSpot(TM) 64-Bit Server VM (build 25.191-b12, mixed mode)\n",
      "  Starting server from C:\\Users\\prabh\\Anaconda3\\lib\\site-packages\\h2o\\backend\\bin\\h2o.jar\n",
      "  Ice root: C:\\Users\\prabh\\AppData\\Local\\Temp\\tmpj4xh7gu3\n",
      "  JVM stdout: C:\\Users\\prabh\\AppData\\Local\\Temp\\tmpj4xh7gu3\\h2o_prabh_started_from_python.out\n",
      "  JVM stderr: C:\\Users\\prabh\\AppData\\Local\\Temp\\tmpj4xh7gu3\\h2o_prabh_started_from_python.err\n",
      "  Server is running at http://127.0.0.1:40301\n",
      "Connecting to H2O server at http://127.0.0.1:40301... successful.\n"
     ]
    },
    {
     "data": {
      "text/html": [
       "<div style=\"overflow:auto\"><table style=\"width:50%\"><tr><td>H2O cluster uptime:</td>\n",
       "<td>01 secs</td></tr>\n",
       "<tr><td>H2O cluster timezone:</td>\n",
       "<td>America/New_York</td></tr>\n",
       "<tr><td>H2O data parsing timezone:</td>\n",
       "<td>UTC</td></tr>\n",
       "<tr><td>H2O cluster version:</td>\n",
       "<td>3.22.0.1</td></tr>\n",
       "<tr><td>H2O cluster version age:</td>\n",
       "<td>1 month and 17 days </td></tr>\n",
       "<tr><td>H2O cluster name:</td>\n",
       "<td>H2O_from_python_prabh_p3dwe4</td></tr>\n",
       "<tr><td>H2O cluster total nodes:</td>\n",
       "<td>1</td></tr>\n",
       "<tr><td>H2O cluster free memory:</td>\n",
       "<td>3.512 Gb</td></tr>\n",
       "<tr><td>H2O cluster total cores:</td>\n",
       "<td>12</td></tr>\n",
       "<tr><td>H2O cluster allowed cores:</td>\n",
       "<td>12</td></tr>\n",
       "<tr><td>H2O cluster status:</td>\n",
       "<td>accepting new members, healthy</td></tr>\n",
       "<tr><td>H2O connection url:</td>\n",
       "<td>http://127.0.0.1:40301</td></tr>\n",
       "<tr><td>H2O connection proxy:</td>\n",
       "<td>None</td></tr>\n",
       "<tr><td>H2O internal security:</td>\n",
       "<td>False</td></tr>\n",
       "<tr><td>H2O API Extensions:</td>\n",
       "<td>Algos, AutoML, Core V3, Core V4</td></tr>\n",
       "<tr><td>Python version:</td>\n",
       "<td>3.7.0 final</td></tr></table></div>"
      ],
      "text/plain": [
       "--------------------------  -------------------------------\n",
       "H2O cluster uptime:         01 secs\n",
       "H2O cluster timezone:       America/New_York\n",
       "H2O data parsing timezone:  UTC\n",
       "H2O cluster version:        3.22.0.1\n",
       "H2O cluster version age:    1 month and 17 days\n",
       "H2O cluster name:           H2O_from_python_prabh_p3dwe4\n",
       "H2O cluster total nodes:    1\n",
       "H2O cluster free memory:    3.512 Gb\n",
       "H2O cluster total cores:    12\n",
       "H2O cluster allowed cores:  12\n",
       "H2O cluster status:         accepting new members, healthy\n",
       "H2O connection url:         http://127.0.0.1:40301\n",
       "H2O connection proxy:\n",
       "H2O internal security:      False\n",
       "H2O API Extensions:         Algos, AutoML, Core V3, Core V4\n",
       "Python version:             3.7.0 final\n",
       "--------------------------  -------------------------------"
      ]
     },
     "metadata": {},
     "output_type": "display_data"
    }
   ],
   "source": [
    "# 65535 Highest port no\n",
    "port_no=random.randint(5555,55555)\n",
    "h2o.init(strict_version_check=False,min_mem_size_GB=min_mem_size,port=port_no)"
   ]
  },
  {
   "cell_type": "code",
   "execution_count": 53,
   "metadata": {},
   "outputs": [
    {
     "name": "stdout",
     "output_type": "stream",
     "text": [
      "{'start_time': 1544818907.1292324, 'target': None, 'server_path': 'C:\\\\Users\\\\prabh\\\\394zjMEpv', 'data_path': 'C:/Users/prabh/Desktop/ML/Project ML/Dataset/PUBG_data.csv', 'test_path': None, 'max_models': 9, 'run_time': 200, 'run_id': 'H6Q591xpX', 'scale': False, 'classification': False, 'model_path': None, 'balance': False, 'balance_threshold': 0.2, 'project': None, 'end_time': 1544818907.1292324, 'execution_time': 0.0, 'run_path': 'C:\\\\Users\\\\prabh\\\\394zjMEpv\\\\H6Q591xpX', 'nthreads': 1, 'min_mem_size': 3, 'analysis': 0}\n"
     ]
    }
   ],
   "source": [
    "# meta data\n",
    "meta_data = set_meta_data(analysis, run_id,server_path,data_path,test_path,model_path,target,run_time,classification,scale,max_models,balance_y,balance_threshold,name,run_dir,nthreads,min_mem_size)\n",
    "print(meta_data)  "
   ]
  },
  {
   "cell_type": "code",
   "execution_count": 54,
   "metadata": {},
   "outputs": [
    {
     "name": "stdout",
     "output_type": "stream",
     "text": [
      "C:/Users/prabh/Desktop/ML/Project ML/Dataset/PUBG_data.csv\n"
     ]
    }
   ],
   "source": [
    "print(data_path)"
   ]
  },
  {
   "cell_type": "code",
   "execution_count": 55,
   "metadata": {},
   "outputs": [
    {
     "name": "stdout",
     "output_type": "stream",
     "text": [
      "Parse progress: |█████████████████████████████████████████████████████████| 100%\n"
     ]
    }
   ],
   "source": [
    "df = h2o.import_file(data_path)"
   ]
  },
  {
   "cell_type": "code",
   "execution_count": 56,
   "metadata": {},
   "outputs": [
    {
     "data": {
      "text/html": [
       "<table>\n",
       "<thead>\n",
       "<tr><th>Id            </th><th>groupId       </th><th>matchId       </th><th style=\"text-align: right;\">  assists</th><th style=\"text-align: right;\">  boosts</th><th style=\"text-align: right;\">  damageDealt</th><th style=\"text-align: right;\">  DBNOs</th><th style=\"text-align: right;\">  headshotKills</th><th style=\"text-align: right;\">  heals</th><th style=\"text-align: right;\">  killPlace</th><th style=\"text-align: right;\">  killPoints</th><th style=\"text-align: right;\">  kills</th><th style=\"text-align: right;\">  killStreaks</th><th style=\"text-align: right;\">  longestKill</th><th style=\"text-align: right;\">  matchDuration</th><th>matchType  </th><th style=\"text-align: right;\">  maxPlace</th><th style=\"text-align: right;\">  numGroups</th><th style=\"text-align: right;\">  rankPoints</th><th style=\"text-align: right;\">  revives</th><th style=\"text-align: right;\">  rideDistance</th><th style=\"text-align: right;\">  roadKills</th><th style=\"text-align: right;\">  swimDistance</th><th style=\"text-align: right;\">  teamKills</th><th style=\"text-align: right;\">  vehicleDestroys</th><th style=\"text-align: right;\">  walkDistance</th><th style=\"text-align: right;\">  weaponsAcquired</th><th style=\"text-align: right;\">  winPoints</th></tr>\n",
       "</thead>\n",
       "<tbody>\n",
       "<tr><td>9329eb41e215eb</td><td>676b23c24e70d6</td><td>45b576ab7daa7f</td><td style=\"text-align: right;\">        0</td><td style=\"text-align: right;\">       0</td><td style=\"text-align: right;\">        51.46</td><td style=\"text-align: right;\">      0</td><td style=\"text-align: right;\">              0</td><td style=\"text-align: right;\">      0</td><td style=\"text-align: right;\">         73</td><td style=\"text-align: right;\">           0</td><td style=\"text-align: right;\">      0</td><td style=\"text-align: right;\">            0</td><td style=\"text-align: right;\">         0   </td><td style=\"text-align: right;\">           1884</td><td>squad-fpp  </td><td style=\"text-align: right;\">        28</td><td style=\"text-align: right;\">         28</td><td style=\"text-align: right;\">        1500</td><td style=\"text-align: right;\">        0</td><td style=\"text-align: right;\">             0</td><td style=\"text-align: right;\">          0</td><td style=\"text-align: right;\">             0</td><td style=\"text-align: right;\">          0</td><td style=\"text-align: right;\">                0</td><td style=\"text-align: right;\">         588  </td><td style=\"text-align: right;\">                1</td><td style=\"text-align: right;\">          0</td></tr>\n",
       "<tr><td>639bd0dcd7bda8</td><td>430933124148dd</td><td>42a9a0b906c928</td><td style=\"text-align: right;\">        0</td><td style=\"text-align: right;\">       4</td><td style=\"text-align: right;\">       179.1 </td><td style=\"text-align: right;\">      0</td><td style=\"text-align: right;\">              0</td><td style=\"text-align: right;\">      2</td><td style=\"text-align: right;\">         11</td><td style=\"text-align: right;\">           0</td><td style=\"text-align: right;\">      2</td><td style=\"text-align: right;\">            1</td><td style=\"text-align: right;\">       361.9 </td><td style=\"text-align: right;\">           1811</td><td>duo-fpp    </td><td style=\"text-align: right;\">        48</td><td style=\"text-align: right;\">         47</td><td style=\"text-align: right;\">        1503</td><td style=\"text-align: right;\">        2</td><td style=\"text-align: right;\">          4669</td><td style=\"text-align: right;\">          0</td><td style=\"text-align: right;\">             0</td><td style=\"text-align: right;\">          0</td><td style=\"text-align: right;\">                0</td><td style=\"text-align: right;\">        2017  </td><td style=\"text-align: right;\">                6</td><td style=\"text-align: right;\">          0</td></tr>\n",
       "<tr><td>63d5c8ef8dfe91</td><td>0b45f5db20ba99</td><td>87e7e4477a048e</td><td style=\"text-align: right;\">        1</td><td style=\"text-align: right;\">       0</td><td style=\"text-align: right;\">        23.4 </td><td style=\"text-align: right;\">      0</td><td style=\"text-align: right;\">              0</td><td style=\"text-align: right;\">      4</td><td style=\"text-align: right;\">         49</td><td style=\"text-align: right;\">           0</td><td style=\"text-align: right;\">      0</td><td style=\"text-align: right;\">            0</td><td style=\"text-align: right;\">         0   </td><td style=\"text-align: right;\">           1793</td><td>squad-fpp  </td><td style=\"text-align: right;\">        28</td><td style=\"text-align: right;\">         27</td><td style=\"text-align: right;\">        1565</td><td style=\"text-align: right;\">        0</td><td style=\"text-align: right;\">             0</td><td style=\"text-align: right;\">          0</td><td style=\"text-align: right;\">             0</td><td style=\"text-align: right;\">          0</td><td style=\"text-align: right;\">                0</td><td style=\"text-align: right;\">         787.8</td><td style=\"text-align: right;\">                4</td><td style=\"text-align: right;\">          0</td></tr>\n",
       "<tr><td>cf5b81422591d1</td><td>b7497dbdc77f4a</td><td>1b9a94f1af67f1</td><td style=\"text-align: right;\">        0</td><td style=\"text-align: right;\">       0</td><td style=\"text-align: right;\">        65.52</td><td style=\"text-align: right;\">      0</td><td style=\"text-align: right;\">              0</td><td style=\"text-align: right;\">      0</td><td style=\"text-align: right;\">         54</td><td style=\"text-align: right;\">           0</td><td style=\"text-align: right;\">      0</td><td style=\"text-align: right;\">            0</td><td style=\"text-align: right;\">         0   </td><td style=\"text-align: right;\">           1834</td><td>duo-fpp    </td><td style=\"text-align: right;\">        45</td><td style=\"text-align: right;\">         44</td><td style=\"text-align: right;\">        1465</td><td style=\"text-align: right;\">        0</td><td style=\"text-align: right;\">             0</td><td style=\"text-align: right;\">          0</td><td style=\"text-align: right;\">             0</td><td style=\"text-align: right;\">          0</td><td style=\"text-align: right;\">                0</td><td style=\"text-align: right;\">        1812  </td><td style=\"text-align: right;\">                3</td><td style=\"text-align: right;\">          0</td></tr>\n",
       "<tr><td>ee6a295187ba21</td><td>6604ce20a1d230</td><td>40754a93016066</td><td style=\"text-align: right;\">        0</td><td style=\"text-align: right;\">       4</td><td style=\"text-align: right;\">       330.2 </td><td style=\"text-align: right;\">      1</td><td style=\"text-align: right;\">              2</td><td style=\"text-align: right;\">      1</td><td style=\"text-align: right;\">          7</td><td style=\"text-align: right;\">           0</td><td style=\"text-align: right;\">      3</td><td style=\"text-align: right;\">            1</td><td style=\"text-align: right;\">        60.06</td><td style=\"text-align: right;\">           1326</td><td>squad-fpp  </td><td style=\"text-align: right;\">        28</td><td style=\"text-align: right;\">         27</td><td style=\"text-align: right;\">        1480</td><td style=\"text-align: right;\">        1</td><td style=\"text-align: right;\">             0</td><td style=\"text-align: right;\">          0</td><td style=\"text-align: right;\">             0</td><td style=\"text-align: right;\">          0</td><td style=\"text-align: right;\">                0</td><td style=\"text-align: right;\">        2963  </td><td style=\"text-align: right;\">                4</td><td style=\"text-align: right;\">          0</td></tr>\n",
       "<tr><td>3e2539b5d78183</td><td>029b5a79e08cd6</td><td>10186f5c852f62</td><td style=\"text-align: right;\">        0</td><td style=\"text-align: right;\">       0</td><td style=\"text-align: right;\">         0   </td><td style=\"text-align: right;\">      0</td><td style=\"text-align: right;\">              0</td><td style=\"text-align: right;\">      0</td><td style=\"text-align: right;\">         89</td><td style=\"text-align: right;\">           0</td><td style=\"text-align: right;\">      0</td><td style=\"text-align: right;\">            0</td><td style=\"text-align: right;\">         0   </td><td style=\"text-align: right;\">           1775</td><td>squad-fpp  </td><td style=\"text-align: right;\">        29</td><td style=\"text-align: right;\">         29</td><td style=\"text-align: right;\">        1490</td><td style=\"text-align: right;\">        0</td><td style=\"text-align: right;\">             0</td><td style=\"text-align: right;\">          0</td><td style=\"text-align: right;\">             0</td><td style=\"text-align: right;\">          0</td><td style=\"text-align: right;\">                0</td><td style=\"text-align: right;\">           0  </td><td style=\"text-align: right;\">                0</td><td style=\"text-align: right;\">          0</td></tr>\n",
       "<tr><td>d812d2f1d88a02</td><td>6285bb4eec83e4</td><td>f185809740a1a7</td><td style=\"text-align: right;\">        0</td><td style=\"text-align: right;\">       3</td><td style=\"text-align: right;\">       470.7 </td><td style=\"text-align: right;\">      3</td><td style=\"text-align: right;\">              2</td><td style=\"text-align: right;\">     17</td><td style=\"text-align: right;\">          3</td><td style=\"text-align: right;\">           0</td><td style=\"text-align: right;\">      5</td><td style=\"text-align: right;\">            1</td><td style=\"text-align: right;\">        57.61</td><td style=\"text-align: right;\">           1328</td><td>duo-fpp    </td><td style=\"text-align: right;\">        49</td><td style=\"text-align: right;\">         48</td><td style=\"text-align: right;\">        1538</td><td style=\"text-align: right;\">        0</td><td style=\"text-align: right;\">             0</td><td style=\"text-align: right;\">          0</td><td style=\"text-align: right;\">             0</td><td style=\"text-align: right;\">          0</td><td style=\"text-align: right;\">                0</td><td style=\"text-align: right;\">        1000  </td><td style=\"text-align: right;\">                4</td><td style=\"text-align: right;\">          0</td></tr>\n",
       "<tr><td>a8a377e4d43bf8</td><td>61ec2e7730a3b8</td><td>d31adc82a4930e</td><td style=\"text-align: right;\">        0</td><td style=\"text-align: right;\">       0</td><td style=\"text-align: right;\">        68.61</td><td style=\"text-align: right;\">      0</td><td style=\"text-align: right;\">              0</td><td style=\"text-align: right;\">      0</td><td style=\"text-align: right;\">         73</td><td style=\"text-align: right;\">           0</td><td style=\"text-align: right;\">      0</td><td style=\"text-align: right;\">            0</td><td style=\"text-align: right;\">         0   </td><td style=\"text-align: right;\">           1870</td><td>squad-fpp  </td><td style=\"text-align: right;\">        29</td><td style=\"text-align: right;\">         27</td><td style=\"text-align: right;\">        1487</td><td style=\"text-align: right;\">        0</td><td style=\"text-align: right;\">             0</td><td style=\"text-align: right;\">          0</td><td style=\"text-align: right;\">             0</td><td style=\"text-align: right;\">          0</td><td style=\"text-align: right;\">                0</td><td style=\"text-align: right;\">        1217  </td><td style=\"text-align: right;\">                5</td><td style=\"text-align: right;\">          0</td></tr>\n",
       "<tr><td>f18301e30d47d3</td><td>e7d609e08f09b6</td><td>bcde504ef16743</td><td style=\"text-align: right;\">        0</td><td style=\"text-align: right;\">       0</td><td style=\"text-align: right;\">         0   </td><td style=\"text-align: right;\">      0</td><td style=\"text-align: right;\">              0</td><td style=\"text-align: right;\">      0</td><td style=\"text-align: right;\">         56</td><td style=\"text-align: right;\">           0</td><td style=\"text-align: right;\">      0</td><td style=\"text-align: right;\">            0</td><td style=\"text-align: right;\">         0   </td><td style=\"text-align: right;\">           1815</td><td>squad-fpp  </td><td style=\"text-align: right;\">        28</td><td style=\"text-align: right;\">         27</td><td style=\"text-align: right;\">        1640</td><td style=\"text-align: right;\">        0</td><td style=\"text-align: right;\">          2355</td><td style=\"text-align: right;\">          0</td><td style=\"text-align: right;\">             0</td><td style=\"text-align: right;\">          0</td><td style=\"text-align: right;\">                0</td><td style=\"text-align: right;\">        1390  </td><td style=\"text-align: right;\">                7</td><td style=\"text-align: right;\">          0</td></tr>\n",
       "<tr><td>ec7b965ef978b3</td><td>c4c19ef6d6c6d9</td><td>6dc5b34c92d5ff</td><td style=\"text-align: right;\">        0</td><td style=\"text-align: right;\">       0</td><td style=\"text-align: right;\">        67.32</td><td style=\"text-align: right;\">      0</td><td style=\"text-align: right;\">              0</td><td style=\"text-align: right;\">      0</td><td style=\"text-align: right;\">         54</td><td style=\"text-align: right;\">        1023</td><td style=\"text-align: right;\">      0</td><td style=\"text-align: right;\">            0</td><td style=\"text-align: right;\">         0   </td><td style=\"text-align: right;\">           1336</td><td>squad-fpp  </td><td style=\"text-align: right;\">        27</td><td style=\"text-align: right;\">         27</td><td style=\"text-align: right;\">          -1</td><td style=\"text-align: right;\">        0</td><td style=\"text-align: right;\">             0</td><td style=\"text-align: right;\">          0</td><td style=\"text-align: right;\">             0</td><td style=\"text-align: right;\">          0</td><td style=\"text-align: right;\">                0</td><td style=\"text-align: right;\">        1634  </td><td style=\"text-align: right;\">                5</td><td style=\"text-align: right;\">       1495</td></tr>\n",
       "</tbody>\n",
       "</table>"
      ]
     },
     "metadata": {},
     "output_type": "display_data"
    },
    {
     "data": {
      "text/plain": []
     },
     "execution_count": 56,
     "metadata": {},
     "output_type": "execute_result"
    }
   ],
   "source": [
    "df.head()"
   ]
  },
  {
   "cell_type": "code",
   "execution_count": 36,
   "metadata": {
    "scrolled": true
   },
   "outputs": [
    {
     "name": "stdout",
     "output_type": "stream",
     "text": [
      "Rows:89314\n",
      "Cols:28\n",
      "\n",
      "\n"
     ]
    },
    {
     "data": {
      "text/html": [
       "<table>\n",
       "<thead>\n",
       "<tr><th>       </th><th>Id            </th><th>groupId       </th><th>matchId       </th><th>assists            </th><th>boosts            </th><th>damageDealt       </th><th>DBNOs             </th><th>headshotKills     </th><th>heals             </th><th>killPlace         </th><th>killPoints       </th><th>kills             </th><th>killStreaks       </th><th>longestKill       </th><th>matchDuration     </th><th>matchType  </th><th>maxPlace          </th><th>numGroups        </th><th>rankPoints       </th><th>revives            </th><th>rideDistance      </th><th>roadKills          </th><th>swimDistance      </th><th>teamKills          </th><th>vehicleDestroys    </th><th>walkDistance      </th><th>weaponsAcquired   </th><th>winPoints        </th></tr>\n",
       "</thead>\n",
       "<tbody>\n",
       "<tr><td>type   </td><td>string        </td><td>string        </td><td>enum          </td><td>int                </td><td>int               </td><td>real              </td><td>int               </td><td>int               </td><td>int               </td><td>int               </td><td>int              </td><td>int               </td><td>int               </td><td>real              </td><td>int               </td><td>enum       </td><td>int               </td><td>int              </td><td>int              </td><td>int                </td><td>real              </td><td>int                </td><td>real              </td><td>int                </td><td>int                </td><td>real              </td><td>int               </td><td>int              </td></tr>\n",
       "<tr><td>mins   </td><td>NaN           </td><td>NaN           </td><td>              </td><td>0.0                </td><td>0.0               </td><td>0.0               </td><td>0.0               </td><td>0.0               </td><td>0.0               </td><td>1.0               </td><td>0.0              </td><td>0.0               </td><td>0.0               </td><td>0.0               </td><td>74.0              </td><td>           </td><td>2.0               </td><td>1.0              </td><td>-1.0             </td><td>0.0                </td><td>0.0               </td><td>0.0                </td><td>0.0               </td><td>0.0                </td><td>0.0                </td><td>0.0               </td><td>0.0               </td><td>0.0              </td></tr>\n",
       "<tr><td>mean   </td><td>NaN           </td><td>NaN           </td><td>              </td><td>0.23033343036925902</td><td>1.1070604832389102</td><td>130.182267484381  </td><td>0.6576908435407661</td><td>0.2265378328145643</td><td>1.3597980159885348</td><td>47.77985534182771 </td><td>508.5435765949346</td><td>0.9227220816445351</td><td>0.5433974516873055</td><td>22.899156949638357</td><td>1575.8035694292053</td><td>           </td><td>44.78338222451128 </td><td>43.29070470474954</td><td>888.3276977853416</td><td>0.15999731285128876</td><td>584.7520669100029 </td><td>0.00335893588911033</td><td>4.542568742862261 </td><td>0.02309828246411537</td><td>0.00753521284457084</td><td>1148.7277815359298</td><td>3.6157713236446694</td><td>610.2351479051435</td></tr>\n",
       "<tr><td>maxs   </td><td>NaN           </td><td>NaN           </td><td>              </td><td>17.0               </td><td>19.0              </td><td>4090.0            </td><td>31.0              </td><td>21.0              </td><td>44.0              </td><td>100.0             </td><td>2174.0           </td><td>41.0              </td><td>9.0               </td><td>1004.0            </td><td>2217.0            </td><td>           </td><td>100.0             </td><td>100.0            </td><td>3643.0           </td><td>10.0               </td><td>40700.0           </td><td>4.0                </td><td>1414.0            </td><td>4.0                </td><td>4.0                </td><td>11450.0           </td><td>141.0             </td><td>1964.0           </td></tr>\n",
       "<tr><td>sigma  </td><td>NaN           </td><td>NaN           </td><td>              </td><td>0.5786344123835221 </td><td>1.7218825612079165</td><td>169.84843423112423</td><td>1.154834256135213 </td><td>0.6041728235711351</td><td>2.6619435967110805</td><td>27.481367317661157</td><td>628.6352014718133</td><td>1.548634663288867 </td><td>0.7093500500481391</td><td>50.675624308000344</td><td>257.164893673424  </td><td>           </td><td>23.890016414908757</td><td>23.32264730561259</td><td>737.5962296007599</td><td>0.4584274495301997 </td><td>1465.0174866221846</td><td>0.07010857213394113</td><td>30.442279034151706</td><td>0.16287600555827525</td><td>0.09040301433588624</td><td>1181.1052946212326</td><td>2.392918316868505 </td><td>740.4124169930632</td></tr>\n",
       "<tr><td>zeros  </td><td>0             </td><td>0             </td><td>              </td><td>73718              </td><td>50651             </td><td>24947             </td><td>55801             </td><td>74303             </td><td>53365             </td><td>0                 </td><td>53102            </td><td>50791             </td><td>50791             </td><td>50963             </td><td>0                 </td><td>           </td><td>0                 </td><td>0                </td><td>1948             </td><td>77759              </td><td>66938             </td><td>89067              </td><td>83489             </td><td>87413              </td><td>88668              </td><td>2001              </td><td>4692              </td><td>53102            </td></tr>\n",
       "<tr><td>missing</td><td>0             </td><td>0             </td><td>0             </td><td>0                  </td><td>0                 </td><td>0                 </td><td>0                 </td><td>0                 </td><td>0                 </td><td>0                 </td><td>0                </td><td>0                 </td><td>0                 </td><td>0                 </td><td>0                 </td><td>0          </td><td>0                 </td><td>0                </td><td>0                </td><td>0                  </td><td>0                 </td><td>0                  </td><td>0                 </td><td>0                  </td><td>0                  </td><td>0                 </td><td>0                 </td><td>0                </td></tr>\n",
       "<tr><td>0      </td><td>9329eb41e215eb</td><td>676b23c24e70d6</td><td>45b576ab7daa7f</td><td>0.0                </td><td>0.0               </td><td>51.46             </td><td>0.0               </td><td>0.0               </td><td>0.0               </td><td>73.0              </td><td>0.0              </td><td>0.0               </td><td>0.0               </td><td>0.0               </td><td>1884.0            </td><td>squad-fpp  </td><td>28.0              </td><td>28.0             </td><td>1500.0           </td><td>0.0                </td><td>0.0               </td><td>0.0                </td><td>0.0               </td><td>0.0                </td><td>0.0                </td><td>588.0             </td><td>1.0               </td><td>0.0              </td></tr>\n",
       "<tr><td>1      </td><td>639bd0dcd7bda8</td><td>430933124148dd</td><td>42a9a0b906c928</td><td>0.0                </td><td>4.0               </td><td>179.1             </td><td>0.0               </td><td>0.0               </td><td>2.0               </td><td>11.0              </td><td>0.0              </td><td>2.0               </td><td>1.0               </td><td>361.9             </td><td>1811.0            </td><td>duo-fpp    </td><td>48.0              </td><td>47.0             </td><td>1503.0           </td><td>2.0                </td><td>4669.0            </td><td>0.0                </td><td>0.0               </td><td>0.0                </td><td>0.0                </td><td>2017.0            </td><td>6.0               </td><td>0.0              </td></tr>\n",
       "<tr><td>2      </td><td>63d5c8ef8dfe91</td><td>0b45f5db20ba99</td><td>87e7e4477a048e</td><td>1.0                </td><td>0.0               </td><td>23.4              </td><td>0.0               </td><td>0.0               </td><td>4.0               </td><td>49.0              </td><td>0.0              </td><td>0.0               </td><td>0.0               </td><td>0.0               </td><td>1793.0            </td><td>squad-fpp  </td><td>28.0              </td><td>27.0             </td><td>1565.0           </td><td>0.0                </td><td>0.0               </td><td>0.0                </td><td>0.0               </td><td>0.0                </td><td>0.0                </td><td>787.8             </td><td>4.0               </td><td>0.0              </td></tr>\n",
       "<tr><td>3      </td><td>cf5b81422591d1</td><td>b7497dbdc77f4a</td><td>1b9a94f1af67f1</td><td>0.0                </td><td>0.0               </td><td>65.52             </td><td>0.0               </td><td>0.0               </td><td>0.0               </td><td>54.0              </td><td>0.0              </td><td>0.0               </td><td>0.0               </td><td>0.0               </td><td>1834.0            </td><td>duo-fpp    </td><td>45.0              </td><td>44.0             </td><td>1465.0           </td><td>0.0                </td><td>0.0               </td><td>0.0                </td><td>0.0               </td><td>0.0                </td><td>0.0                </td><td>1812.0            </td><td>3.0               </td><td>0.0              </td></tr>\n",
       "<tr><td>4      </td><td>ee6a295187ba21</td><td>6604ce20a1d230</td><td>40754a93016066</td><td>0.0                </td><td>4.0               </td><td>330.2             </td><td>1.0               </td><td>2.0               </td><td>1.0               </td><td>7.0               </td><td>0.0              </td><td>3.0               </td><td>1.0               </td><td>60.06             </td><td>1326.0            </td><td>squad-fpp  </td><td>28.0              </td><td>27.0             </td><td>1480.0           </td><td>1.0                </td><td>0.0               </td><td>0.0                </td><td>0.0               </td><td>0.0                </td><td>0.0                </td><td>2963.0            </td><td>4.0               </td><td>0.0              </td></tr>\n",
       "<tr><td>5      </td><td>3e2539b5d78183</td><td>029b5a79e08cd6</td><td>10186f5c852f62</td><td>0.0                </td><td>0.0               </td><td>0.0               </td><td>0.0               </td><td>0.0               </td><td>0.0               </td><td>89.0              </td><td>0.0              </td><td>0.0               </td><td>0.0               </td><td>0.0               </td><td>1775.0            </td><td>squad-fpp  </td><td>29.0              </td><td>29.0             </td><td>1490.0           </td><td>0.0                </td><td>0.0               </td><td>0.0                </td><td>0.0               </td><td>0.0                </td><td>0.0                </td><td>0.0               </td><td>0.0               </td><td>0.0              </td></tr>\n",
       "<tr><td>6      </td><td>d812d2f1d88a02</td><td>6285bb4eec83e4</td><td>f185809740a1a7</td><td>0.0                </td><td>3.0               </td><td>470.7             </td><td>3.0               </td><td>2.0               </td><td>17.0              </td><td>3.0               </td><td>0.0              </td><td>5.0               </td><td>1.0               </td><td>57.61             </td><td>1328.0            </td><td>duo-fpp    </td><td>49.0              </td><td>48.0             </td><td>1538.0           </td><td>0.0                </td><td>0.0               </td><td>0.0                </td><td>0.0               </td><td>0.0                </td><td>0.0                </td><td>1000.0            </td><td>4.0               </td><td>0.0              </td></tr>\n",
       "<tr><td>7      </td><td>a8a377e4d43bf8</td><td>61ec2e7730a3b8</td><td>d31adc82a4930e</td><td>0.0                </td><td>0.0               </td><td>68.61             </td><td>0.0               </td><td>0.0               </td><td>0.0               </td><td>73.0              </td><td>0.0              </td><td>0.0               </td><td>0.0               </td><td>0.0               </td><td>1870.0            </td><td>squad-fpp  </td><td>29.0              </td><td>27.0             </td><td>1487.0           </td><td>0.0                </td><td>0.0               </td><td>0.0                </td><td>0.0               </td><td>0.0                </td><td>0.0                </td><td>1217.0            </td><td>5.0               </td><td>0.0              </td></tr>\n",
       "<tr><td>8      </td><td>f18301e30d47d3</td><td>e7d609e08f09b6</td><td>bcde504ef16743</td><td>0.0                </td><td>0.0               </td><td>0.0               </td><td>0.0               </td><td>0.0               </td><td>0.0               </td><td>56.0              </td><td>0.0              </td><td>0.0               </td><td>0.0               </td><td>0.0               </td><td>1815.0            </td><td>squad-fpp  </td><td>28.0              </td><td>27.0             </td><td>1640.0           </td><td>0.0                </td><td>2355.0            </td><td>0.0                </td><td>0.0               </td><td>0.0                </td><td>0.0                </td><td>1390.0            </td><td>7.0               </td><td>0.0              </td></tr>\n",
       "<tr><td>9      </td><td>ec7b965ef978b3</td><td>c4c19ef6d6c6d9</td><td>6dc5b34c92d5ff</td><td>0.0                </td><td>0.0               </td><td>67.32             </td><td>0.0               </td><td>0.0               </td><td>0.0               </td><td>54.0              </td><td>1023.0           </td><td>0.0               </td><td>0.0               </td><td>0.0               </td><td>1336.0            </td><td>squad-fpp  </td><td>27.0              </td><td>27.0             </td><td>-1.0             </td><td>0.0                </td><td>0.0               </td><td>0.0                </td><td>0.0               </td><td>0.0                </td><td>0.0                </td><td>1634.0            </td><td>5.0               </td><td>1495.0           </td></tr>\n",
       "</tbody>\n",
       "</table>"
      ]
     },
     "metadata": {},
     "output_type": "display_data"
    }
   ],
   "source": [
    "df.describe()"
   ]
  },
  {
   "cell_type": "code",
   "execution_count": 38,
   "metadata": {},
   "outputs": [
    {
     "data": {
      "text/plain": [
       "\"\\nimport sys\\nsys.stdout = open('describe.txt', 'w')\\nprint ('test')\\n\""
      ]
     },
     "execution_count": 38,
     "metadata": {},
     "output_type": "execute_result"
    }
   ],
   "source": [
    "'''\n",
    "import sys\n",
    "sys.stdout = open('describe.txt', 'w')\n",
    "print ('test')\n",
    "'''"
   ]
  },
  {
   "cell_type": "code",
   "execution_count": 58,
   "metadata": {},
   "outputs": [],
   "source": [
    "# dependent variable\n",
    "# assign target and inputs for classification or regression\n",
    "if target==None:\n",
    "  target=df.columns[27]   \n",
    "y = target"
   ]
  },
  {
   "cell_type": "code",
   "execution_count": 59,
   "metadata": {},
   "outputs": [
    {
     "name": "stdout",
     "output_type": "stream",
     "text": [
      "winPoints\n"
     ]
    }
   ],
   "source": [
    "print(y)"
   ]
  },
  {
   "cell_type": "code",
   "execution_count": 60,
   "metadata": {},
   "outputs": [
    {
     "name": "stdout",
     "output_type": "stream",
     "text": [
      "None\n"
     ]
    }
   ],
   "source": [
    "print(all_variables)"
   ]
  },
  {
   "cell_type": "code",
   "execution_count": 61,
   "metadata": {},
   "outputs": [],
   "source": [
    "if all_variables is not None:\n",
    "  ivd=get_all_variables_csv(all_variables)\n",
    "  print(ivd)    \n",
    "  X=check_all_variables(df,ivd,y)\n",
    "  print(X)"
   ]
  },
  {
   "cell_type": "code",
   "execution_count": 62,
   "metadata": {},
   "outputs": [],
   "source": [
    "# independent variables\n",
    "\n",
    "X = []  \n",
    "if all_variables is None:\n",
    "  X=get_independent_variables(df, target)  \n",
    "else: \n",
    "  ivd=get_all_variables_csv(all_variables)    \n",
    "  X=check_all_variables(df, ivd)\n",
    "\n",
    "\n",
    "X=check_X(X,df)\n",
    "\n",
    "\n",
    "# Add independent variables\n",
    "\n",
    "meta_data['X']=X  \n",
    "\n",
    "\n",
    "# impute missing values\n",
    "\n",
    "_=impute_missing_values(df,X, scale)"
   ]
  },
  {
   "cell_type": "code",
   "execution_count": 63,
   "metadata": {},
   "outputs": [],
   "source": [
    "if analysis == 3:\n",
    "  classification=False\n",
    "elif analysis == 2:\n",
    "  classification=True\n",
    "elif analysis == 1:\n",
    "  classification=True"
   ]
  },
  {
   "cell_type": "code",
   "execution_count": 64,
   "metadata": {},
   "outputs": [],
   "source": [
    "# Force target to be factors\n",
    "# Only 'int' or 'string' are allowed for asfactor(), got Target (Total orders):real \n",
    "\n",
    "if classification:\n",
    "    df[y] = df[y].asfactor()"
   ]
  },
  {
   "cell_type": "code",
   "execution_count": 65,
   "metadata": {},
   "outputs": [],
   "source": [
    "def check_y(y,df):\n",
    "  ok=False\n",
    "  C = [name for name in df.columns if name == y]\n",
    "  for key, val in df.types.items():\n",
    "    if key in C:\n",
    "      if val in ['real','int','enum']:        \n",
    "        ok=True         \n",
    "  return ok   "
   ]
  },
  {
   "cell_type": "code",
   "execution_count": 66,
   "metadata": {},
   "outputs": [],
   "source": [
    "ok=check_y(y,df)\n",
    "if not ok:\n",
    "    print(ok)"
   ]
  },
  {
   "cell_type": "code",
   "execution_count": 67,
   "metadata": {},
   "outputs": [
    {
     "name": "stdout",
     "output_type": "stream",
     "text": [
      "True\n"
     ]
    }
   ],
   "source": [
    "print(ok)"
   ]
  },
  {
   "cell_type": "code",
   "execution_count": 68,
   "metadata": {},
   "outputs": [
    {
     "name": "stdout",
     "output_type": "stream",
     "text": [
      "[]\n"
     ]
    }
   ],
   "source": [
    "classification=True\n",
    "if classification:\n",
    "    print(df[y].levels())"
   ]
  },
  {
   "cell_type": "code",
   "execution_count": 69,
   "metadata": {},
   "outputs": [
    {
     "name": "stdout",
     "output_type": "stream",
     "text": [
      "[]\n"
     ]
    }
   ],
   "source": [
    "print(df[y].levels())"
   ]
  },
  {
   "cell_type": "code",
   "execution_count": 70,
   "metadata": {},
   "outputs": [
    {
     "data": {
      "text/plain": [
       "{'Id': 'string',\n",
       " 'groupId': 'string',\n",
       " 'matchId': 'enum',\n",
       " 'assists': 'int',\n",
       " 'boosts': 'int',\n",
       " 'damageDealt': 'real',\n",
       " 'DBNOs': 'int',\n",
       " 'headshotKills': 'int',\n",
       " 'heals': 'int',\n",
       " 'killPlace': 'int',\n",
       " 'killPoints': 'int',\n",
       " 'kills': 'int',\n",
       " 'killStreaks': 'int',\n",
       " 'longestKill': 'real',\n",
       " 'matchDuration': 'int',\n",
       " 'matchType': 'enum',\n",
       " 'maxPlace': 'int',\n",
       " 'numGroups': 'int',\n",
       " 'rankPoints': 'int',\n",
       " 'revives': 'int',\n",
       " 'rideDistance': 'real',\n",
       " 'roadKills': 'int',\n",
       " 'swimDistance': 'real',\n",
       " 'teamKills': 'int',\n",
       " 'vehicleDestroys': 'int',\n",
       " 'walkDistance': 'real',\n",
       " 'weaponsAcquired': 'int',\n",
       " 'winPoints': 'int'}"
      ]
     },
     "execution_count": 70,
     "metadata": {},
     "output_type": "execute_result"
    }
   ],
   "source": [
    "allV=get_variables_types(df)\n",
    "allV"
   ]
  },
  {
   "cell_type": "code",
   "execution_count": 71,
   "metadata": {},
   "outputs": [],
   "source": [
    "meta_data['variables']=allV"
   ]
  },
  {
   "cell_type": "code",
   "execution_count": 72,
   "metadata": {},
   "outputs": [],
   "source": [
    "# Set up AutoML\n",
    "\n",
    "aml = H2OAutoML(max_runtime_secs=run_time,project_name = name)"
   ]
  },
  {
   "cell_type": "code",
   "execution_count": 73,
   "metadata": {},
   "outputs": [],
   "source": [
    "model_start_time = time.time()"
   ]
  },
  {
   "cell_type": "code",
   "execution_count": 74,
   "metadata": {},
   "outputs": [
    {
     "name": "stdout",
     "output_type": "stream",
     "text": [
      "AutoML progress: |████████████████████████████████████████████████████████| 100%\n"
     ]
    }
   ],
   "source": [
    "aml.train(x=X,y=y,training_frame=df)"
   ]
  },
  {
   "cell_type": "code",
   "execution_count": 75,
   "metadata": {},
   "outputs": [],
   "source": [
    "meta_data['model_execution_time'] = time.time() - model_start_time"
   ]
  },
  {
   "cell_type": "code",
   "execution_count": 76,
   "metadata": {},
   "outputs": [],
   "source": [
    "# get leaderboard\n",
    "aml_leaderboard_df=aml.leaderboard.as_data_frame()"
   ]
  },
  {
   "cell_type": "code",
   "execution_count": 77,
   "metadata": {},
   "outputs": [
    {
     "data": {
      "text/html": [
       "<div>\n",
       "<style scoped>\n",
       "    .dataframe tbody tr th:only-of-type {\n",
       "        vertical-align: middle;\n",
       "    }\n",
       "\n",
       "    .dataframe tbody tr th {\n",
       "        vertical-align: top;\n",
       "    }\n",
       "\n",
       "    .dataframe thead th {\n",
       "        text-align: right;\n",
       "    }\n",
       "</style>\n",
       "<table border=\"1\" class=\"dataframe\">\n",
       "  <thead>\n",
       "    <tr style=\"text-align: right;\">\n",
       "      <th></th>\n",
       "      <th>model_id</th>\n",
       "      <th>mean_residual_deviance</th>\n",
       "      <th>rmse</th>\n",
       "      <th>mse</th>\n",
       "      <th>mae</th>\n",
       "      <th>rmsle</th>\n",
       "    </tr>\n",
       "  </thead>\n",
       "  <tbody>\n",
       "    <tr>\n",
       "      <th>0</th>\n",
       "      <td>DRF_1_AutoML_20181214_152402</td>\n",
       "      <td>841.426794</td>\n",
       "      <td>29.007358</td>\n",
       "      <td>841.426794</td>\n",
       "      <td>13.380483</td>\n",
       "      <td>0.079296</td>\n",
       "    </tr>\n",
       "  </tbody>\n",
       "</table>\n",
       "</div>"
      ],
      "text/plain": [
       "                       model_id  mean_residual_deviance       rmse  \\\n",
       "0  DRF_1_AutoML_20181214_152402              841.426794  29.007358   \n",
       "\n",
       "          mse        mae     rmsle  \n",
       "0  841.426794  13.380483  0.079296  "
      ]
     },
     "execution_count": 77,
     "metadata": {},
     "output_type": "execute_result"
    }
   ],
   "source": [
    "aml_leaderboard_df"
   ]
  },
  {
   "cell_type": "code",
   "execution_count": 78,
   "metadata": {},
   "outputs": [],
   "source": [
    "# STart best model as first model\n",
    "\n",
    "model_set=aml_leaderboard_df['model_id']\n",
    "mod_best=h2o.get_model(model_set[0])"
   ]
  },
  {
   "cell_type": "code",
   "execution_count": 79,
   "metadata": {},
   "outputs": [
    {
     "data": {
      "text/plain": [
       "'DRF_1_AutoML_20181214_152402'"
      ]
     },
     "execution_count": 79,
     "metadata": {},
     "output_type": "execute_result"
    }
   ],
   "source": [
    "mod_best._id"
   ]
  },
  {
   "cell_type": "code",
   "execution_count": 80,
   "metadata": {},
   "outputs": [],
   "source": [
    "# Get stacked ensemble  \n",
    "se=get_stacked_ensemble(model_set)"
   ]
  },
  {
   "cell_type": "code",
   "execution_count": 81,
   "metadata": {},
   "outputs": [
    {
     "name": "stdout",
     "output_type": "stream",
     "text": [
      "None\n"
     ]
    }
   ],
   "source": [
    "print(se)"
   ]
  },
  {
   "cell_type": "code",
   "execution_count": 82,
   "metadata": {},
   "outputs": [],
   "source": [
    "if se is not None:\n",
    "  mod_best=h2o.get_model(se)"
   ]
  },
  {
   "cell_type": "code",
   "execution_count": 83,
   "metadata": {},
   "outputs": [
    {
     "data": {
      "text/plain": [
       "['__class__',\n",
       " '__delattr__',\n",
       " '__dict__',\n",
       " '__dir__',\n",
       " '__doc__',\n",
       " '__eq__',\n",
       " '__format__',\n",
       " '__ge__',\n",
       " '__getattr__',\n",
       " '__getattribute__',\n",
       " '__gt__',\n",
       " '__hash__',\n",
       " '__init__',\n",
       " '__init_subclass__',\n",
       " '__le__',\n",
       " '__lt__',\n",
       " '__module__',\n",
       " '__ne__',\n",
       " '__new__',\n",
       " '__reduce__',\n",
       " '__reduce_ex__',\n",
       " '__repr__',\n",
       " '__setattr__',\n",
       " '__sizeof__',\n",
       " '__str__',\n",
       " '__subclasshook__',\n",
       " '__weakref__',\n",
       " '_bc',\n",
       " '_bcin',\n",
       " '_check_targets',\n",
       " '_compute_algo',\n",
       " '_estimator_type',\n",
       " '_future',\n",
       " '_get_metrics',\n",
       " '_have_mojo',\n",
       " '_have_pojo',\n",
       " '_id',\n",
       " '_is_xvalidated',\n",
       " '_job',\n",
       " '_keyify_if_h2oframe',\n",
       " '_make_model',\n",
       " '_metrics_class',\n",
       " '_model_json',\n",
       " '_parms',\n",
       " '_plot',\n",
       " '_requires_training_frame',\n",
       " '_resolve_model',\n",
       " '_verify_training_frame_params',\n",
       " '_xval_keys',\n",
       " 'actual_params',\n",
       " 'aic',\n",
       " 'algo',\n",
       " 'auc',\n",
       " 'balance_classes',\n",
       " 'biases',\n",
       " 'binomial_double_trees',\n",
       " 'build_tree_one_node',\n",
       " 'calibrate_model',\n",
       " 'calibration_frame',\n",
       " 'categorical_encoding',\n",
       " 'catoffsets',\n",
       " 'checkpoint',\n",
       " 'class_sampling_factors',\n",
       " 'coef',\n",
       " 'coef_norm',\n",
       " 'col_sample_rate_change_per_level',\n",
       " 'col_sample_rate_per_tree',\n",
       " 'convert_H2OXGBoostParams_2_XGBoostParams',\n",
       " 'cross_validation_fold_assignment',\n",
       " 'cross_validation_holdout_predictions',\n",
       " 'cross_validation_metrics_summary',\n",
       " 'cross_validation_models',\n",
       " 'cross_validation_predictions',\n",
       " 'custom_metric_func',\n",
       " 'deepfeatures',\n",
       " 'default_params',\n",
       " 'distribution',\n",
       " 'download_mojo',\n",
       " 'download_pojo',\n",
       " 'fit',\n",
       " 'fold_assignment',\n",
       " 'fold_column',\n",
       " 'full_parameters',\n",
       " 'get_params',\n",
       " 'get_xval_models',\n",
       " 'gini',\n",
       " 'have_mojo',\n",
       " 'have_pojo',\n",
       " 'histogram_type',\n",
       " 'ignore_const_cols',\n",
       " 'ignored_columns',\n",
       " 'is_cross_validated',\n",
       " 'join',\n",
       " 'keep_cross_validation_fold_assignment',\n",
       " 'keep_cross_validation_models',\n",
       " 'keep_cross_validation_predictions',\n",
       " 'logloss',\n",
       " 'mae',\n",
       " 'max_after_balance_size',\n",
       " 'max_confusion_matrix_size',\n",
       " 'max_depth',\n",
       " 'max_hit_ratio_k',\n",
       " 'max_runtime_secs',\n",
       " 'mean_residual_deviance',\n",
       " 'min_rows',\n",
       " 'min_split_improvement',\n",
       " 'mixin',\n",
       " 'model_id',\n",
       " 'model_performance',\n",
       " 'mse',\n",
       " 'mtries',\n",
       " 'nbins',\n",
       " 'nbins_cats',\n",
       " 'nbins_top_level',\n",
       " 'nfolds',\n",
       " 'normmul',\n",
       " 'normsub',\n",
       " 'ntrees',\n",
       " 'null_degrees_of_freedom',\n",
       " 'null_deviance',\n",
       " 'offset_column',\n",
       " 'params',\n",
       " 'parms',\n",
       " 'partial_plot',\n",
       " 'plot',\n",
       " 'pprint_coef',\n",
       " 'predict',\n",
       " 'predict_leaf_node_assignment',\n",
       " 'r2',\n",
       " 'r2_stopping',\n",
       " 'residual_degrees_of_freedom',\n",
       " 'residual_deviance',\n",
       " 'respmul',\n",
       " 'response_column',\n",
       " 'respsub',\n",
       " 'rmse',\n",
       " 'rmsle',\n",
       " 'rotation',\n",
       " 'sample_rate',\n",
       " 'sample_rate_per_class',\n",
       " 'save_model_details',\n",
       " 'save_mojo',\n",
       " 'score_each_iteration',\n",
       " 'score_history',\n",
       " 'score_tree_interval',\n",
       " 'scoring_history',\n",
       " 'seed',\n",
       " 'set_params',\n",
       " 'show',\n",
       " 'staged_predict_proba',\n",
       " 'start',\n",
       " 'std_coef_plot',\n",
       " 'stopping_metric',\n",
       " 'stopping_rounds',\n",
       " 'stopping_tolerance',\n",
       " 'summary',\n",
       " 'train',\n",
       " 'training_frame',\n",
       " 'type',\n",
       " 'validation_frame',\n",
       " 'varimp',\n",
       " 'varimp_plot',\n",
       " 'weights',\n",
       " 'weights_column',\n",
       " 'xval_keys',\n",
       " 'xvals']"
      ]
     },
     "execution_count": 83,
     "metadata": {},
     "output_type": "execute_result"
    }
   ],
   "source": [
    "dir(mod_best)"
   ]
  },
  {
   "cell_type": "code",
   "execution_count": 84,
   "metadata": {},
   "outputs": [
    {
     "data": {
      "text/plain": [
       "'DRF_1_AutoML_20181214_152402'"
      ]
     },
     "execution_count": 84,
     "metadata": {},
     "output_type": "execute_result"
    }
   ],
   "source": [
    "mod_best._id"
   ]
  },
  {
   "cell_type": "code",
   "execution_count": 85,
   "metadata": {},
   "outputs": [
    {
     "data": {
      "text/plain": [
       "<function h2o.model.model_base.ModelBase._get_metrics(o, train, valid, xval)>"
      ]
     },
     "execution_count": 85,
     "metadata": {},
     "output_type": "execute_result"
    }
   ],
   "source": [
    "mod_best._get_metrics"
   ]
  },
  {
   "cell_type": "code",
   "execution_count": 86,
   "metadata": {},
   "outputs": [
    {
     "data": {
      "text/plain": [
       "h2o.estimators.random_forest.H2ORandomForestEstimator"
      ]
     },
     "execution_count": 86,
     "metadata": {},
     "output_type": "execute_result"
    }
   ],
   "source": [
    "type(mod_best)"
   ]
  },
  {
   "cell_type": "code",
   "execution_count": 87,
   "metadata": {},
   "outputs": [
    {
     "name": "stdout",
     "output_type": "stream",
     "text": [
      "Model Details\n",
      "=============\n",
      "H2ORandomForestEstimator :  Distributed Random Forest\n",
      "Model Key:  DRF_1_AutoML_20181214_152402\n",
      "\n",
      "\n",
      "ModelMetricsRegression: drf\n",
      "** Reported on train data. **\n",
      "\n",
      "MSE: 870.4707323680038\n",
      "RMSE: 29.503740989372922\n",
      "MAE: 13.600397787090085\n",
      "RMSLE: 0.03553182331689513\n",
      "Mean Residual Deviance: 870.4707323680038\n",
      "\n",
      "ModelMetricsRegression: drf\n",
      "** Reported on validation data. **\n",
      "\n",
      "MSE: 867.3678951957096\n",
      "RMSE: 29.45111025404152\n",
      "MAE: 13.250626391765005\n",
      "RMSLE: 0.042351829556107765\n",
      "Mean Residual Deviance: 867.3678951957096\n",
      "\n",
      "ModelMetricsRegression: drf\n",
      "** Reported on cross-validation data. **\n",
      "\n",
      "MSE: 841.4267942744104\n",
      "RMSE: 29.00735758862586\n",
      "MAE: 13.38048345893358\n",
      "RMSLE: 0.07929638796259482\n",
      "Mean Residual Deviance: 841.4267942744104\n",
      "Cross-Validation Metrics Summary: \n"
     ]
    },
    {
     "data": {
      "text/html": [
       "<div style=\"overflow:auto\"><table style=\"width:50%\"><tr><td><b></b></td>\n",
       "<td><b>mean</b></td>\n",
       "<td><b>sd</b></td>\n",
       "<td><b>cv_1_valid</b></td>\n",
       "<td><b>cv_2_valid</b></td>\n",
       "<td><b>cv_3_valid</b></td>\n",
       "<td><b>cv_4_valid</b></td>\n",
       "<td><b>cv_5_valid</b></td></tr>\n",
       "<tr><td>mae</td>\n",
       "<td>13.380484</td>\n",
       "<td>0.0373987</td>\n",
       "<td>13.377693</td>\n",
       "<td>13.2955675</td>\n",
       "<td>13.367249</td>\n",
       "<td>13.403582</td>\n",
       "<td>13.458326</td></tr>\n",
       "<tr><td>mean_residual_deviance</td>\n",
       "<td>841.42676</td>\n",
       "<td>5.7397757</td>\n",
       "<td>842.17426</td>\n",
       "<td>845.00824</td>\n",
       "<td>841.0448</td>\n",
       "<td>827.041</td>\n",
       "<td>851.8656</td></tr>\n",
       "<tr><td>mse</td>\n",
       "<td>841.42676</td>\n",
       "<td>5.7397757</td>\n",
       "<td>842.17426</td>\n",
       "<td>845.00824</td>\n",
       "<td>841.0448</td>\n",
       "<td>827.041</td>\n",
       "<td>851.8656</td></tr>\n",
       "<tr><td>r2</td>\n",
       "<td>0.9984657</td>\n",
       "<td>0.0000105</td>\n",
       "<td>0.9984702</td>\n",
       "<td>0.9984561</td>\n",
       "<td>0.9984625</td>\n",
       "<td>0.9984918</td>\n",
       "<td>0.998448</td></tr>\n",
       "<tr><td>residual_deviance</td>\n",
       "<td>841.42676</td>\n",
       "<td>5.7397757</td>\n",
       "<td>842.17426</td>\n",
       "<td>845.00824</td>\n",
       "<td>841.0448</td>\n",
       "<td>827.041</td>\n",
       "<td>851.8656</td></tr>\n",
       "<tr><td>rmse</td>\n",
       "<td>29.007019</td>\n",
       "<td>0.0990998</td>\n",
       "<td>29.020239</td>\n",
       "<td>29.069025</td>\n",
       "<td>29.000772</td>\n",
       "<td>28.758322</td>\n",
       "<td>29.186737</td></tr>\n",
       "<tr><td>rmsle</td>\n",
       "<td>0.0755612</td>\n",
       "<td>0.0170066</td>\n",
       "<td>0.0615654</td>\n",
       "<td>0.0933384</td>\n",
       "<td>0.0685056</td>\n",
       "<td>0.1112952</td>\n",
       "<td>0.0431015</td></tr></table></div>"
      ],
      "text/plain": [
       "                        mean       sd           cv_1_valid    cv_2_valid    cv_3_valid    cv_4_valid    cv_5_valid\n",
       "----------------------  ---------  -----------  ------------  ------------  ------------  ------------  ------------\n",
       "mae                     13.3805    0.0373987    13.3777       13.2956       13.3672       13.4036       13.4583\n",
       "mean_residual_deviance  841.427    5.73978      842.174       845.008       841.045       827.041       851.866\n",
       "mse                     841.427    5.73978      842.174       845.008       841.045       827.041       851.866\n",
       "r2                      0.998466   1.05499e-05  0.99847       0.998456      0.998463      0.998492      0.998448\n",
       "residual_deviance       841.427    5.73978      842.174       845.008       841.045       827.041       851.866\n",
       "rmse                    29.007     0.0990998    29.0202       29.069        29.0008       28.7583       29.1867\n",
       "rmsle                   0.0755612  0.0170066    0.0615654     0.0933384     0.0685056     0.111295      0.0431015"
      ]
     },
     "metadata": {},
     "output_type": "display_data"
    },
    {
     "name": "stdout",
     "output_type": "stream",
     "text": [
      "Scoring History: \n"
     ]
    },
    {
     "data": {
      "text/html": [
       "<div style=\"overflow:auto\"><table style=\"width:50%\"><tr><td><b></b></td>\n",
       "<td><b>timestamp</b></td>\n",
       "<td><b>duration</b></td>\n",
       "<td><b>number_of_trees</b></td>\n",
       "<td><b>training_rmse</b></td>\n",
       "<td><b>training_mae</b></td>\n",
       "<td><b>training_deviance</b></td>\n",
       "<td><b>validation_rmse</b></td>\n",
       "<td><b>validation_mae</b></td>\n",
       "<td><b>validation_deviance</b></td></tr>\n",
       "<tr><td></td>\n",
       "<td>2018-12-14 15:24:52</td>\n",
       "<td>50.086 sec</td>\n",
       "<td>0.0</td>\n",
       "<td>nan</td>\n",
       "<td>nan</td>\n",
       "<td>nan</td>\n",
       "<td>nan</td>\n",
       "<td>nan</td>\n",
       "<td>nan</td></tr>\n",
       "<tr><td></td>\n",
       "<td>2018-12-14 15:24:52</td>\n",
       "<td>50.415 sec</td>\n",
       "<td>1.0</td>\n",
       "<td>39.5114752</td>\n",
       "<td>17.8549736</td>\n",
       "<td>1561.1566758</td>\n",
       "<td>40.7033735</td>\n",
       "<td>18.0457732</td>\n",
       "<td>1656.7646173</td></tr>\n",
       "<tr><td></td>\n",
       "<td>2018-12-14 15:24:53</td>\n",
       "<td>50.637 sec</td>\n",
       "<td>2.0</td>\n",
       "<td>38.5968692</td>\n",
       "<td>17.2216658</td>\n",
       "<td>1489.7183154</td>\n",
       "<td>34.7643424</td>\n",
       "<td>15.7633981</td>\n",
       "<td>1208.5595048</td></tr>\n",
       "<tr><td></td>\n",
       "<td>2018-12-14 15:24:53</td>\n",
       "<td>50.862 sec</td>\n",
       "<td>3.0</td>\n",
       "<td>37.1694930</td>\n",
       "<td>16.8417010</td>\n",
       "<td>1381.5712098</td>\n",
       "<td>33.0257645</td>\n",
       "<td>15.0440356</td>\n",
       "<td>1090.7011209</td></tr>\n",
       "<tr><td></td>\n",
       "<td>2018-12-14 15:24:53</td>\n",
       "<td>51.047 sec</td>\n",
       "<td>4.0</td>\n",
       "<td>36.0850174</td>\n",
       "<td>16.4718334</td>\n",
       "<td>1302.1284803</td>\n",
       "<td>32.1575873</td>\n",
       "<td>14.5717527</td>\n",
       "<td>1034.1104196</td></tr>\n",
       "<tr><td>---</td>\n",
       "<td>---</td>\n",
       "<td>---</td>\n",
       "<td>---</td>\n",
       "<td>---</td>\n",
       "<td>---</td>\n",
       "<td>---</td>\n",
       "<td>---</td>\n",
       "<td>---</td>\n",
       "<td>---</td></tr>\n",
       "<tr><td></td>\n",
       "<td>2018-12-14 15:24:56</td>\n",
       "<td>53.721 sec</td>\n",
       "<td>17.0</td>\n",
       "<td>30.8836468</td>\n",
       "<td>14.2501408</td>\n",
       "<td>953.7996385</td>\n",
       "<td>30.0764311</td>\n",
       "<td>13.4891044</td>\n",
       "<td>904.5917093</td></tr>\n",
       "<tr><td></td>\n",
       "<td>2018-12-14 15:24:56</td>\n",
       "<td>53.920 sec</td>\n",
       "<td>18.0</td>\n",
       "<td>30.7963251</td>\n",
       "<td>14.2155110</td>\n",
       "<td>948.4136396</td>\n",
       "<td>30.0229352</td>\n",
       "<td>13.5165300</td>\n",
       "<td>901.3766354</td></tr>\n",
       "<tr><td></td>\n",
       "<td>2018-12-14 15:24:56</td>\n",
       "<td>54.103 sec</td>\n",
       "<td>19.0</td>\n",
       "<td>30.6496964</td>\n",
       "<td>14.1538366</td>\n",
       "<td>939.4038866</td>\n",
       "<td>29.9713048</td>\n",
       "<td>13.4858127</td>\n",
       "<td>898.2791093</td></tr>\n",
       "<tr><td></td>\n",
       "<td>2018-12-14 15:25:00</td>\n",
       "<td>58.215 sec</td>\n",
       "<td>41.0</td>\n",
       "<td>29.6511909</td>\n",
       "<td>13.6843138</td>\n",
       "<td>879.1931246</td>\n",
       "<td>29.4920015</td>\n",
       "<td>13.2753575</td>\n",
       "<td>869.7781552</td></tr>\n",
       "<tr><td></td>\n",
       "<td>2018-12-14 15:25:02</td>\n",
       "<td>59.965 sec</td>\n",
       "<td>50.0</td>\n",
       "<td>29.5037410</td>\n",
       "<td>13.6003978</td>\n",
       "<td>870.4707324</td>\n",
       "<td>29.4511103</td>\n",
       "<td>13.2506264</td>\n",
       "<td>867.3678952</td></tr></table></div>"
      ],
      "text/plain": [
       "     timestamp            duration    number_of_trees    training_rmse       training_mae        training_deviance    validation_rmse     validation_mae      validation_deviance\n",
       "---  -------------------  ----------  -----------------  ------------------  ------------------  -------------------  ------------------  ------------------  ---------------------\n",
       "     2018-12-14 15:24:52  50.086 sec  0.0                nan                 nan                 nan                  nan                 nan                 nan\n",
       "     2018-12-14 15:24:52  50.415 sec  1.0                39.511475242511956  17.854973617593174  1561.1566758396355   40.70337353700861   18.045773181419673  1656.764617293253\n",
       "     2018-12-14 15:24:53  50.637 sec  2.0                38.596869242914366  17.22166583016303   1489.718315354629    34.76434243358065   15.763398141362103  1208.5595048392565\n",
       "     2018-12-14 15:24:53  50.862 sec  3.0                37.16949299891564   16.841700995855156  1381.5712097964388   33.02576450151868   15.044035571304763  1090.7011209097714\n",
       "     2018-12-14 15:24:53  51.047 sec  4.0                36.085017393781264  16.471833382036603  1302.1284803094966   32.157587278981055  14.57175272676794   1034.110419605284\n",
       "---  ---                  ---         ---                ---                 ---                 ---                  ---                 ---                 ---\n",
       "     2018-12-14 15:24:56  53.721 sec  17.0               30.883646780436937  14.250140841187886  953.7996384587927    30.076431125635295  13.489104445888762  904.5917092550835\n",
       "     2018-12-14 15:24:56  53.920 sec  18.0               30.796325098331664  14.215510971044404  948.4136395621329    30.0229351559553    13.516530013540406  901.3766353786966\n",
       "     2018-12-14 15:24:56  54.103 sec  19.0               30.649696354800817  14.153836628015407  939.4038866414905    29.97130476447036   13.485812668494313  898.2791092847636\n",
       "     2018-12-14 15:25:00  58.215 sec  41.0               29.651190947784272  13.684313778804418  879.193124621964     29.492001546476157  13.275357542338238  869.778155217352\n",
       "     2018-12-14 15:25:02  59.965 sec  50.0               29.503740989372922  13.600397787090085  870.4707323680038    29.45111025404152   13.250626391765005  867.3678951957096"
      ]
     },
     "metadata": {},
     "output_type": "display_data"
    },
    {
     "name": "stdout",
     "output_type": "stream",
     "text": [
      "\n",
      "See the whole table with table.as_data_frame()\n",
      "Variable Importances: \n"
     ]
    },
    {
     "data": {
      "text/html": [
       "<div style=\"overflow:auto\"><table style=\"width:50%\"><tr><td><b>variable</b></td>\n",
       "<td><b>relative_importance</b></td>\n",
       "<td><b>scaled_importance</b></td>\n",
       "<td><b>percentage</b></td></tr>\n",
       "<tr><td>killPoints</td>\n",
       "<td>1134802370560.0000000</td>\n",
       "<td>1.0</td>\n",
       "<td>0.6357512</td></tr>\n",
       "<tr><td>rankPoints</td>\n",
       "<td>638940217344.0000000</td>\n",
       "<td>0.5630410</td>\n",
       "<td>0.3579540</td></tr>\n",
       "<tr><td>matchDuration</td>\n",
       "<td>6019247616.0000000</td>\n",
       "<td>0.0053042</td>\n",
       "<td>0.0033722</td></tr>\n",
       "<tr><td>numGroups</td>\n",
       "<td>1040709952.0000000</td>\n",
       "<td>0.0009171</td>\n",
       "<td>0.0005830</td></tr>\n",
       "<tr><td>maxPlace</td>\n",
       "<td>893386752.0000000</td>\n",
       "<td>0.0007873</td>\n",
       "<td>0.0005005</td></tr>\n",
       "<tr><td>---</td>\n",
       "<td>---</td>\n",
       "<td>---</td>\n",
       "<td>---</td></tr>\n",
       "<tr><td>swimDistance</td>\n",
       "<td>24289192.0000000</td>\n",
       "<td>0.0000214</td>\n",
       "<td>0.0000136</td></tr>\n",
       "<tr><td>revives</td>\n",
       "<td>20898566.0000000</td>\n",
       "<td>0.0000184</td>\n",
       "<td>0.0000117</td></tr>\n",
       "<tr><td>headshotKills</td>\n",
       "<td>20355848.0000000</td>\n",
       "<td>0.0000179</td>\n",
       "<td>0.0000114</td></tr>\n",
       "<tr><td>vehicleDestroys</td>\n",
       "<td>2795700.2500000</td>\n",
       "<td>0.0000025</td>\n",
       "<td>0.0000016</td></tr>\n",
       "<tr><td>roadKills</td>\n",
       "<td>1513062.7500000</td>\n",
       "<td>0.0000013</td>\n",
       "<td>0.0000008</td></tr></table></div>"
      ],
      "text/plain": [
       "variable         relative_importance    scaled_importance       percentage\n",
       "---------------  ---------------------  ----------------------  ----------------------\n",
       "killPoints       1134802370560.0        1.0                     0.6357512104175772\n",
       "rankPoints       638940217344.0         0.5630409610694566      0.357953972514583\n",
       "matchDuration    6019247616.0           0.00530422545119432     0.003372167750924509\n",
       "numGroups        1040709952.0           0.0009170847532565802   0.0005830377419383761\n",
       "maxPlace         893386752.0            0.0007872619719318469   0.0005005027515714004\n",
       "---              ---                    ---                     ---\n",
       "swimDistance     24289192.0             2.1403896070479497e-05  1.3607552834459364e-05\n",
       "revives          20898566.0             1.8416040133655183e-05  1.1708019806069962e-05\n",
       "headshotKills    20355848.0             1.7937791220822738e-05  1.1403972480855847e-05\n",
       "vehicleDestroys  2795700.25             2.4636009956697425e-06  1.5662373149829872e-06\n",
       "roadKills        1513062.75             1.3333270966409215e-06  8.476643155720199e-07"
      ]
     },
     "metadata": {},
     "output_type": "display_data"
    },
    {
     "name": "stdout",
     "output_type": "stream",
     "text": [
      "\n",
      "See the whole table with table.as_data_frame()\n",
      "<bound method ModelBase.coef_norm of >\n"
     ]
    }
   ],
   "source": [
    "mods=mod_best.coef_norm\n",
    "print(mods)"
   ]
  },
  {
   "cell_type": "code",
   "execution_count": 88,
   "metadata": {},
   "outputs": [
    {
     "data": {
      "text/plain": [
       "'\\nmod_best.aic()\\n mod_best.algo\\n mod_best.coef()\\n mod_best.coef_norm()\\n mod_best.confusion_matrix()\\n mod_best.cross_validation_fold_assignment()\\n mod_best.cross_validation_holdout_predictions()\\n mod_best.cross_validation_metrics_summary()\\n mod_best.cross_validation_models()\\n mod_best.cross_validation_predictions()\\n mod_best.deepfeatures()\\n mod_best.default_params()\\n mod_best.download_mojo()\\n mod_best.download_pojo()\\n mod_best.fit()\\n mod_best.full_parameters()\\n mod_best.get_params()\\n mod_best.get_xval_models()\\n mod_best.gini()\\n mod_best.have_mojo()\\n mod_best.have_pojo()\\n mod_best.hit_ratio_table()\\n mod_best.is_cross_validated()\\n mod_best.join()\\n mod_best.keep_levelone_frame()\\n mod_best.levelone_frame_id()\\n mod_best.logloss()\\n mod_best.mae()\\n mod_best.mean_per_class_error()\\n mod_best.mean_residual_deviance()\\n mod_best.metalearner()\\n mod_best.metalearner_algorithm()\\n mod_best.metalearner_fold_assignment()\\n mod_best.metalearner_fold_column()\\n mod_best.metalearner_nfolds()\\n mod_best.metalearner_params()\\n mod_best.mixin()\\n mod_best.model_id()\\n mod_best.model_performance()\\n mod_best.mse()\\n mod_best.normmul()\\n mod_best.normsub()\\n mod_best.null_degrees_of_freedom()\\n mod_best.null_deviance()\\n mod_best.params()\\n mod_best.parms()\\n mod_best.partial_plot()\\n mod_best.plot()\\n mod_best.pprint_coef()\\n mod_best.predict()\\n mod_best.predict_leaf_node_assignment()\\n mod_best.r2()\\n mod_best.residual_degrees_of_freedom()\\n mod_best.residual_deviance()\\n mod_best.respmul()\\n mod_best.response_column()\\n mod_best.respsub()\\n mod_best.rmse()\\n mod_best.rmsle()\\n mod_best.rotation()\\n mod_best.save_model_details()\\n mod_best.save_mojo()\\n mod_best.score_history()\\n mod_best.scoring_history()\\n mod_best.seed()\\n mod_best.set_params()\\n mod_best.show()\\n mod_best.start()\\n mod_best.std_coef_plot()\\n mod_best.summary()\\n mod_best.train()\\n mod_best.training_frame()\\n mod_best.type()\\n mod_best.validation_frame()\\n mod_best.varimp()\\n mod_best.varimp_plot()\\n mod_best.weights()\\n mod_best.xval_keys()\\n mod_best.xvalsmod_best()\\n '"
      ]
     },
     "execution_count": 88,
     "metadata": {},
     "output_type": "execute_result"
    }
   ],
   "source": [
    "'''\n",
    "mod_best.aic()\n",
    " mod_best.algo\n",
    " mod_best.coef()\n",
    " mod_best.coef_norm()\n",
    " mod_best.confusion_matrix()\n",
    " mod_best.cross_validation_fold_assignment()\n",
    " mod_best.cross_validation_holdout_predictions()\n",
    " mod_best.cross_validation_metrics_summary()\n",
    " mod_best.cross_validation_models()\n",
    " mod_best.cross_validation_predictions()\n",
    " mod_best.deepfeatures()\n",
    " mod_best.default_params()\n",
    " mod_best.download_mojo()\n",
    " mod_best.download_pojo()\n",
    " mod_best.fit()\n",
    " mod_best.full_parameters()\n",
    " mod_best.get_params()\n",
    " mod_best.get_xval_models()\n",
    " mod_best.gini()\n",
    " mod_best.have_mojo()\n",
    " mod_best.have_pojo()\n",
    " mod_best.hit_ratio_table()\n",
    " mod_best.is_cross_validated()\n",
    " mod_best.join()\n",
    " mod_best.keep_levelone_frame()\n",
    " mod_best.levelone_frame_id()\n",
    " mod_best.logloss()\n",
    " mod_best.mae()\n",
    " mod_best.mean_per_class_error()\n",
    " mod_best.mean_residual_deviance()\n",
    " mod_best.metalearner()\n",
    " mod_best.metalearner_algorithm()\n",
    " mod_best.metalearner_fold_assignment()\n",
    " mod_best.metalearner_fold_column()\n",
    " mod_best.metalearner_nfolds()\n",
    " mod_best.metalearner_params()\n",
    " mod_best.mixin()\n",
    " mod_best.model_id()\n",
    " mod_best.model_performance()\n",
    " mod_best.mse()\n",
    " mod_best.normmul()\n",
    " mod_best.normsub()\n",
    " mod_best.null_degrees_of_freedom()\n",
    " mod_best.null_deviance()\n",
    " mod_best.params()\n",
    " mod_best.parms()\n",
    " mod_best.partial_plot()\n",
    " mod_best.plot()\n",
    " mod_best.pprint_coef()\n",
    " mod_best.predict()\n",
    " mod_best.predict_leaf_node_assignment()\n",
    " mod_best.r2()\n",
    " mod_best.residual_degrees_of_freedom()\n",
    " mod_best.residual_deviance()\n",
    " mod_best.respmul()\n",
    " mod_best.response_column()\n",
    " mod_best.respsub()\n",
    " mod_best.rmse()\n",
    " mod_best.rmsle()\n",
    " mod_best.rotation()\n",
    " mod_best.save_model_details()\n",
    " mod_best.save_mojo()\n",
    " mod_best.score_history()\n",
    " mod_best.scoring_history()\n",
    " mod_best.seed()\n",
    " mod_best.set_params()\n",
    " mod_best.show()\n",
    " mod_best.start()\n",
    " mod_best.std_coef_plot()\n",
    " mod_best.summary()\n",
    " mod_best.train()\n",
    " mod_best.training_frame()\n",
    " mod_best.type()\n",
    " mod_best.validation_frame()\n",
    " mod_best.varimp()\n",
    " mod_best.varimp_plot()\n",
    " mod_best.weights()\n",
    " mod_best.xval_keys()\n",
    " mod_best.xvalsmod_best()\n",
    " '''"
   ]
  },
  {
   "cell_type": "code",
   "execution_count": 89,
   "metadata": {},
   "outputs": [],
   "source": [
    "bm=stackedensemble_df(aml_leaderboard_df)"
   ]
  },
  {
   "cell_type": "code",
   "execution_count": 90,
   "metadata": {},
   "outputs": [
    {
     "data": {
      "text/plain": [
       "['DRF_1_AutoML_20181214_152402']"
      ]
     },
     "execution_count": 90,
     "metadata": {},
     "output_type": "execute_result"
    }
   ],
   "source": [
    "bm"
   ]
  },
  {
   "cell_type": "code",
   "execution_count": 91,
   "metadata": {},
   "outputs": [
    {
     "data": {
      "text/html": [
       "<div>\n",
       "<style scoped>\n",
       "    .dataframe tbody tr th:only-of-type {\n",
       "        vertical-align: middle;\n",
       "    }\n",
       "\n",
       "    .dataframe tbody tr th {\n",
       "        vertical-align: top;\n",
       "    }\n",
       "\n",
       "    .dataframe thead th {\n",
       "        text-align: right;\n",
       "    }\n",
       "</style>\n",
       "<table border=\"1\" class=\"dataframe\">\n",
       "  <thead>\n",
       "    <tr style=\"text-align: right;\">\n",
       "      <th></th>\n",
       "      <th>model_id</th>\n",
       "      <th>mean_residual_deviance</th>\n",
       "      <th>rmse</th>\n",
       "      <th>mse</th>\n",
       "      <th>mae</th>\n",
       "      <th>rmsle</th>\n",
       "    </tr>\n",
       "  </thead>\n",
       "  <tbody>\n",
       "    <tr>\n",
       "      <th>0</th>\n",
       "      <td>DRF_1_AutoML_20181214_152402</td>\n",
       "      <td>841.426794</td>\n",
       "      <td>29.007358</td>\n",
       "      <td>841.426794</td>\n",
       "      <td>13.380483</td>\n",
       "      <td>0.079296</td>\n",
       "    </tr>\n",
       "  </tbody>\n",
       "</table>\n",
       "</div>"
      ],
      "text/plain": [
       "                       model_id  mean_residual_deviance       rmse  \\\n",
       "0  DRF_1_AutoML_20181214_152402              841.426794  29.007358   \n",
       "\n",
       "          mse        mae     rmsle  \n",
       "0  841.426794  13.380483  0.079296  "
      ]
     },
     "execution_count": 91,
     "metadata": {},
     "output_type": "execute_result"
    }
   ],
   "source": [
    "aml_leaderboard_df"
   ]
  },
  {
   "cell_type": "code",
   "execution_count": 92,
   "metadata": {},
   "outputs": [],
   "source": [
    "#  Get best_models and coef_norm()\n",
    "best_models={}\n",
    "best_models=stackedensemble(mod_best)\n",
    "bm=[]\n",
    "if best_models is not None: \n",
    "  if 'Intercept' in best_models.keys():\n",
    "    del best_models['Intercept']\n",
    "  bm=list(best_models.keys())\n",
    "else:\n",
    "  best_models={}\n",
    "  bm=stackedensemble_df(aml_leaderboard_df)   \n",
    "  for b in bm:   \n",
    "    best_models[b]=None\n",
    "\n",
    "if mod_best.model_id not in bm:\n",
    "    bm.append(mod_best.model_id)"
   ]
  },
  {
   "cell_type": "code",
   "execution_count": 93,
   "metadata": {},
   "outputs": [
    {
     "data": {
      "text/plain": [
       "['DRF_1_AutoML_20181214_152402']"
      ]
     },
     "execution_count": 93,
     "metadata": {},
     "output_type": "execute_result"
    }
   ],
   "source": [
    "bm"
   ]
  },
  {
   "cell_type": "code",
   "execution_count": 94,
   "metadata": {},
   "outputs": [],
   "source": [
    "# Best of Family leaderboard\n",
    "\n",
    "aml_leaderboard_df=aml_leaderboard_df.loc[aml_leaderboard_df['model_id'].isin(bm)]"
   ]
  },
  {
   "cell_type": "code",
   "execution_count": 95,
   "metadata": {},
   "outputs": [
    {
     "data": {
      "text/html": [
       "<div>\n",
       "<style scoped>\n",
       "    .dataframe tbody tr th:only-of-type {\n",
       "        vertical-align: middle;\n",
       "    }\n",
       "\n",
       "    .dataframe tbody tr th {\n",
       "        vertical-align: top;\n",
       "    }\n",
       "\n",
       "    .dataframe thead th {\n",
       "        text-align: right;\n",
       "    }\n",
       "</style>\n",
       "<table border=\"1\" class=\"dataframe\">\n",
       "  <thead>\n",
       "    <tr style=\"text-align: right;\">\n",
       "      <th></th>\n",
       "      <th>model_id</th>\n",
       "      <th>mean_residual_deviance</th>\n",
       "      <th>rmse</th>\n",
       "      <th>mse</th>\n",
       "      <th>mae</th>\n",
       "      <th>rmsle</th>\n",
       "    </tr>\n",
       "  </thead>\n",
       "  <tbody>\n",
       "    <tr>\n",
       "      <th>0</th>\n",
       "      <td>DRF_1_AutoML_20181214_152402</td>\n",
       "      <td>841.426794</td>\n",
       "      <td>29.007358</td>\n",
       "      <td>841.426794</td>\n",
       "      <td>13.380483</td>\n",
       "      <td>0.079296</td>\n",
       "    </tr>\n",
       "  </tbody>\n",
       "</table>\n",
       "</div>"
      ],
      "text/plain": [
       "                       model_id  mean_residual_deviance       rmse  \\\n",
       "0  DRF_1_AutoML_20181214_152402              841.426794  29.007358   \n",
       "\n",
       "          mse        mae     rmsle  \n",
       "0  841.426794  13.380483  0.079296  "
      ]
     },
     "execution_count": 95,
     "metadata": {},
     "output_type": "execute_result"
    }
   ],
   "source": [
    "aml_leaderboard_df"
   ]
  },
  {
   "cell_type": "code",
   "execution_count": 96,
   "metadata": {},
   "outputs": [],
   "source": [
    "# save leaderboard\n",
    "leaderboard_stats=run_id+'_leaderboard.csv'\n",
    "aml_leaderboard_df.to_csv(leaderboard_stats)"
   ]
  },
  {
   "cell_type": "code",
   "execution_count": 97,
   "metadata": {},
   "outputs": [
    {
     "name": "stdout",
     "output_type": "stream",
     "text": [
      "DRF_1_AutoML_20181214_152402\n"
     ]
    }
   ],
   "source": [
    "top=aml_leaderboard_df.iloc[0]['model_id']\n",
    "print(top)"
   ]
  },
  {
   "cell_type": "code",
   "execution_count": 98,
   "metadata": {},
   "outputs": [
    {
     "name": "stdout",
     "output_type": "stream",
     "text": [
      "DRF_1_AutoML_20181214_152402\n",
      "drf\n"
     ]
    }
   ],
   "source": [
    "mod_best=h2o.get_model(top)\n",
    "print(mod_best._id)\n",
    "print(mod_best.algo)"
   ]
  },
  {
   "cell_type": "code",
   "execution_count": 99,
   "metadata": {},
   "outputs": [],
   "source": [
    "meta_data['mod_best']=mod_best._id\n",
    "meta_data['mod_best_algo']=mod_best.algo"
   ]
  },
  {
   "cell_type": "code",
   "execution_count": 100,
   "metadata": {},
   "outputs": [],
   "source": [
    "meta_data['models']=bm"
   ]
  },
  {
   "cell_type": "code",
   "execution_count": 101,
   "metadata": {},
   "outputs": [],
   "source": [
    "models_path=os.path.join(run_dir,'models')\n",
    "for mod in bm:\n",
    "  try:   \n",
    "    m=h2o.get_model(mod) \n",
    "    h2o.save_model(m, path = models_path)\n",
    "  except:    \n",
    "    pass    "
   ]
  },
  {
   "cell_type": "code",
   "execution_count": 102,
   "metadata": {},
   "outputs": [
    {
     "name": "stdout",
     "output_type": "stream",
     "text": [
      "C:\\Users\\prabh\\394zjMEpv\\H6Q591xpX\\models\n"
     ]
    }
   ],
   "source": [
    "print(models_path)"
   ]
  },
  {
   "cell_type": "code",
   "execution_count": 104,
   "metadata": {},
   "outputs": [],
   "source": [
    "# GBM\n",
    " \n",
    "mod,mod_id=get_model_by_algo(\"GBM\",best_models)\n",
    "if mod is not None:\n",
    "    try:     \n",
    "        sh_df=mod.scoring_history()\n",
    "        sh_df.to_csv(run_id+'_gbm_scoring_history.csv') \n",
    "    except:\n",
    "        pass   \n",
    "    try:     \n",
    "        stats_gbm={}\n",
    "        stats_gbm=gbm_stats(mod)\n",
    "        n=run_id+'_gbm_stats.json'\n",
    "        dict_to_json(stats_gbm,n)\n",
    "        print(stats_gbm)\n",
    "    except:\n",
    "        pass        "
   ]
  },
  {
   "cell_type": "code",
   "execution_count": 106,
   "metadata": {},
   "outputs": [],
   "source": [
    "if mod is not None:\n",
    "    try:    \n",
    "        sh_df=mod.scoring_history()\n",
    "        sh_df.to_csv(run_id+'_dl_scoring_history.csv') \n",
    "    except:\n",
    "        pass \n",
    "    try:\n",
    "        stats_dl={}\n",
    "        stats_dl=dl_stats(mod)\n",
    "        n=run_id+'_dl_stats.json'\n",
    "        dict_to_json(stats_dl,n)\n",
    "        print(stats_dl)\n",
    "    except:\n",
    "        pass    \n",
    "    try:\n",
    "        cf=mod.confusion_matrix()    \n",
    "        cf_df.to_csv(run_id+'_dl_confusion_matrix.csv')\n",
    "    except:\n",
    "        pass       "
   ]
  },
  {
   "cell_type": "code",
   "execution_count": 107,
   "metadata": {},
   "outputs": [],
   "source": [
    "# DRF\n",
    "\n",
    "mod,mod_id=get_model_by_algo(\"DRF\",best_models)\n",
    "if mod is not None:\n",
    "    try:     \n",
    "         sh_df=mod.scoring_history()\n",
    "         sh_df.to_csv(run_id+'_drf_scoring_history.csv') \n",
    "    except:\n",
    "         pass  \n",
    "    try: \n",
    "         stats_drf={}\n",
    "         stats_drf=drf_stats(mod)\n",
    "         n=run_id+'_drf_stats.json'\n",
    "         dict_to_json(stats_drf,n)\n",
    "         print(stats_drf)\n",
    "    except:\n",
    "         pass     "
   ]
  },
  {
   "cell_type": "code",
   "execution_count": 108,
   "metadata": {},
   "outputs": [],
   "source": [
    "# XRT\n",
    "\n",
    "mod,mod_id=get_model_by_algo(\"XRT\",best_models)\n",
    "if mod is not None:\n",
    "    try:     \n",
    "         sh_df=mod.scoring_history()\n",
    "         sh_df.to_csv(run_id+'_xrt_scoring_history.csv')\n",
    "    except:\n",
    "         pass     \n",
    "    try:        \n",
    "         stats_xrt={}\n",
    "         stats_xrt=xrt_stats(mod)\n",
    "         n=run_id+'_xrt_stats.json'\n",
    "         dict_to_json(stats_xrt,n)\n",
    "         print(stats_xrt)\n",
    "    except:\n",
    "         pass     "
   ]
  },
  {
   "cell_type": "code",
   "execution_count": 109,
   "metadata": {},
   "outputs": [],
   "source": [
    "# GLM\n",
    "\n",
    "mod,mod_id=get_model_by_algo(\"GLM\",best_models)\n",
    "if mod is not None:\n",
    "    try:     \n",
    "         stats_glm={}\n",
    "         stats_glm=glm_stats(mod)\n",
    "         n=run_id+'_glm_stats.json'\n",
    "         dict_to_json(stats_glm,n)\n",
    "         print(stats_glm)\n",
    "    except:\n",
    "         pass     "
   ]
  },
  {
   "cell_type": "code",
   "execution_count": 110,
   "metadata": {},
   "outputs": [],
   "source": [
    "# split into training and test for showing how to predict\n",
    "train, test = df.split_frame([0.8])"
   ]
  },
  {
   "cell_type": "code",
   "execution_count": 111,
   "metadata": {},
   "outputs": [
    {
     "name": "stdout",
     "output_type": "stream",
     "text": [
      "drf prediction progress: |████████████████████████████████████████████████| 100%\n"
     ]
    }
   ],
   "source": [
    "predictions_df=predictions_test(mod_best,test,run_id)"
   ]
  },
  {
   "cell_type": "code",
   "execution_count": 112,
   "metadata": {},
   "outputs": [
    {
     "data": {
      "text/html": [
       "<table>\n",
       "<thead>\n",
       "<tr><th style=\"text-align: right;\">  predict</th></tr>\n",
       "</thead>\n",
       "<tbody>\n",
       "<tr><td style=\"text-align: right;\">     0   </td></tr>\n",
       "<tr><td style=\"text-align: right;\">     0   </td></tr>\n",
       "<tr><td style=\"text-align: right;\">     0   </td></tr>\n",
       "<tr><td style=\"text-align: right;\">  1521.18</td></tr>\n",
       "<tr><td style=\"text-align: right;\">     0   </td></tr>\n",
       "<tr><td style=\"text-align: right;\">     0   </td></tr>\n",
       "<tr><td style=\"text-align: right;\">     0   </td></tr>\n",
       "<tr><td style=\"text-align: right;\">  1495.12</td></tr>\n",
       "<tr><td style=\"text-align: right;\">     0   </td></tr>\n",
       "<tr><td style=\"text-align: right;\">  1532.18</td></tr>\n",
       "</tbody>\n",
       "</table>"
      ]
     },
     "metadata": {},
     "output_type": "display_data"
    },
    {
     "data": {
      "text/plain": []
     },
     "execution_count": 112,
     "metadata": {},
     "output_type": "execute_result"
    }
   ],
   "source": [
    "predictions_df.head()"
   ]
  },
  {
   "cell_type": "code",
   "execution_count": 113,
   "metadata": {},
   "outputs": [
    {
     "name": "stdout",
     "output_type": "stream",
     "text": [
      "Rows:17712\n",
      "Cols:1\n",
      "\n",
      "\n"
     ]
    },
    {
     "data": {
      "text/html": [
       "<table>\n",
       "<thead>\n",
       "<tr><th>       </th><th>predict           </th></tr>\n",
       "</thead>\n",
       "<tbody>\n",
       "<tr><td>type   </td><td>real              </td></tr>\n",
       "<tr><td>mins   </td><td>0.0               </td></tr>\n",
       "<tr><td>mean   </td><td>606.1166993403241 </td></tr>\n",
       "<tr><td>maxs   </td><td>1773.7            </td></tr>\n",
       "<tr><td>sigma  </td><td>738.8887947016591 </td></tr>\n",
       "<tr><td>zeros  </td><td>10573             </td></tr>\n",
       "<tr><td>missing</td><td>0                 </td></tr>\n",
       "<tr><td>0      </td><td>0.0               </td></tr>\n",
       "<tr><td>1      </td><td>0.0               </td></tr>\n",
       "<tr><td>2      </td><td>0.0               </td></tr>\n",
       "<tr><td>3      </td><td>1521.1849780273437</td></tr>\n",
       "<tr><td>4      </td><td>0.0               </td></tr>\n",
       "<tr><td>5      </td><td>0.0               </td></tr>\n",
       "<tr><td>6      </td><td>0.0               </td></tr>\n",
       "<tr><td>7      </td><td>1495.1175512695313</td></tr>\n",
       "<tr><td>8      </td><td>0.0               </td></tr>\n",
       "<tr><td>9      </td><td>1532.1847387695314</td></tr>\n",
       "</tbody>\n",
       "</table>"
      ]
     },
     "metadata": {},
     "output_type": "display_data"
    }
   ],
   "source": [
    "predictions_df.describe()"
   ]
  },
  {
   "cell_type": "code",
   "execution_count": 114,
   "metadata": {},
   "outputs": [],
   "source": [
    "# Update and save meta data\n",
    "\n",
    "meta_data['end_time'] = time.time()\n",
    "meta_data['execution_time'] = meta_data['end_time'] - meta_data['start_time']\n",
    "  \n",
    "n=run_id+'_meta_data.json'\n",
    "dict_to_json(meta_data,n)"
   ]
  },
  {
   "cell_type": "code",
   "execution_count": 115,
   "metadata": {},
   "outputs": [
    {
     "data": {
      "text/plain": [
       "{'start_time': 1544818907.1292324,\n",
       " 'target': None,\n",
       " 'server_path': 'C:\\\\Users\\\\prabh\\\\394zjMEpv',\n",
       " 'data_path': 'C:/Users/prabh/Desktop/ML/Project ML/Dataset/PUBG_data.csv',\n",
       " 'test_path': None,\n",
       " 'max_models': 9,\n",
       " 'run_time': 200,\n",
       " 'run_id': 'H6Q591xpX',\n",
       " 'scale': False,\n",
       " 'classification': False,\n",
       " 'model_path': None,\n",
       " 'balance': False,\n",
       " 'balance_threshold': 0.2,\n",
       " 'project': None,\n",
       " 'end_time': 1544819914.1848793,\n",
       " 'execution_time': 1007.0556468963623,\n",
       " 'run_path': 'C:\\\\Users\\\\prabh\\\\394zjMEpv\\\\H6Q591xpX',\n",
       " 'nthreads': 1,\n",
       " 'min_mem_size': 3,\n",
       " 'analysis': 0,\n",
       " 'X': ['assists',\n",
       "  'boosts',\n",
       "  'DBNOs',\n",
       "  'headshotKills',\n",
       "  'heals',\n",
       "  'killPlace',\n",
       "  'killPoints',\n",
       "  'kills',\n",
       "  'killStreaks',\n",
       "  'matchDuration',\n",
       "  'maxPlace',\n",
       "  'numGroups',\n",
       "  'rankPoints',\n",
       "  'revives',\n",
       "  'roadKills',\n",
       "  'teamKills',\n",
       "  'vehicleDestroys',\n",
       "  'weaponsAcquired',\n",
       "  'matchId',\n",
       "  'matchType',\n",
       "  'Id',\n",
       "  'groupId',\n",
       "  'damageDealt',\n",
       "  'longestKill',\n",
       "  'rideDistance',\n",
       "  'swimDistance',\n",
       "  'walkDistance'],\n",
       " 'variables': {'Id': 'string',\n",
       "  'groupId': 'string',\n",
       "  'matchId': 'enum',\n",
       "  'assists': 'int',\n",
       "  'boosts': 'int',\n",
       "  'damageDealt': 'real',\n",
       "  'DBNOs': 'int',\n",
       "  'headshotKills': 'int',\n",
       "  'heals': 'int',\n",
       "  'killPlace': 'int',\n",
       "  'killPoints': 'int',\n",
       "  'kills': 'int',\n",
       "  'killStreaks': 'int',\n",
       "  'longestKill': 'real',\n",
       "  'matchDuration': 'int',\n",
       "  'matchType': 'enum',\n",
       "  'maxPlace': 'int',\n",
       "  'numGroups': 'int',\n",
       "  'rankPoints': 'int',\n",
       "  'revives': 'int',\n",
       "  'rideDistance': 'real',\n",
       "  'roadKills': 'int',\n",
       "  'swimDistance': 'real',\n",
       "  'teamKills': 'int',\n",
       "  'vehicleDestroys': 'int',\n",
       "  'walkDistance': 'real',\n",
       "  'weaponsAcquired': 'int',\n",
       "  'winPoints': 'int'},\n",
       " 'model_execution_time': 211.5273666381836,\n",
       " 'mod_best': 'DRF_1_AutoML_20181214_152402',\n",
       " 'mod_best_algo': 'drf',\n",
       " 'models': ['DRF_1_AutoML_20181214_152402']}"
      ]
     },
     "execution_count": 115,
     "metadata": {},
     "output_type": "execute_result"
    }
   ],
   "source": [
    "meta_data"
   ]
  },
  {
   "cell_type": "code",
   "execution_count": 116,
   "metadata": {},
   "outputs": [
    {
     "name": "stdout",
     "output_type": "stream",
     "text": [
      "Writing H2O logs to C:\\Users\\prabh\\394zjMEpv\\H6Q591xpX\\logs\\H6Q591xpX_autoh2o_log.zip\n"
     ]
    },
    {
     "data": {
      "text/plain": [
       "'C:\\\\Users\\\\prabh\\\\394zjMEpv\\\\H6Q591xpX\\\\logs\\\\H6Q591xpX_autoh2o_log.zip'"
      ]
     },
     "execution_count": 116,
     "metadata": {},
     "output_type": "execute_result"
    }
   ],
   "source": [
    "# Save logs\n",
    "h2o.download_all_logs(dirname=logs_path, filename=logfile)"
   ]
  },
  {
   "cell_type": "code",
   "execution_count": 117,
   "metadata": {},
   "outputs": [],
   "source": [
    "# Clean up\n",
    "os.chdir(server_path)"
   ]
  },
  {
   "cell_type": "code",
   "execution_count": 118,
   "metadata": {},
   "outputs": [],
   "source": [
    "def predictions_test(mod,test,run_id):\n",
    "    mod_perf=mod_best.model_performance(test)          \n",
    "    stats_test={}\n",
    "    stats_test=model_performance_stats(mod_perf)\n",
    "    print(stats_test)   \n",
    "    n=run_id+'_test_stats.json'\n",
    "    dict_to_json(stats_test,n) \n",
    "    try:\n",
    "      cf=mod_perf.confusion_matrix()\n",
    "      print(cf)   \n",
    "#      cf=mod_perf.confusion_matrix(metrics=[\"f1\",\"f2\",\"f0point5\",\"accuracy\",\"precision\",\"recall\",\"specificity\",\"absolute_mcc\",\"min_per_class_accuracy\",\"mean_per_class_accuracy\"])\n",
    "      cf_df=cf.table.as_data_frame()\n",
    "      print(cf_df)    \n",
    "      cf_df.to_csv(run_id+'_test_confusion_matrix.csv')\n",
    "    except:\n",
    "      pass\n",
    "    predictions = mod_best.predict(test)    \n",
    "    predictions_df=test.cbind(predictions).as_data_frame() \n",
    "    predictions_df.to_csv(run_id+'_predictions.csv')\n",
    "    return predictions"
   ]
  },
  {
   "cell_type": "code",
   "execution_count": 119,
   "metadata": {},
   "outputs": [
    {
     "name": "stdout",
     "output_type": "stream",
     "text": [
      "H2O session _sid_891b closed.\n"
     ]
    }
   ],
   "source": [
    "h2o.cluster().shutdown()"
   ]
  }
 ],
 "metadata": {
  "kernelspec": {
   "display_name": "Python 3",
   "language": "python",
   "name": "python3"
  },
  "language_info": {
   "codemirror_mode": {
    "name": "ipython",
    "version": 3
   },
   "file_extension": ".py",
   "mimetype": "text/x-python",
   "name": "python",
   "nbconvert_exporter": "python",
   "pygments_lexer": "ipython3",
   "version": "3.7.0"
  }
 },
 "nbformat": 4,
 "nbformat_minor": 2
}
